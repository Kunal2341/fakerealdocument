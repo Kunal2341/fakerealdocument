{
 "cells": [
  {
   "cell_type": "code",
   "execution_count": 9,
   "metadata": {},
   "outputs": [
    {
     "name": "stdout",
     "output_type": "stream",
     "text": [
      "<docx.styles.style._CharacterStyle object at 0x000001792B0632C8>\n",
      "<docx.styles.style._CharacterStyle object at 0x000001792AF039C8>\n",
      "<docx.styles.style._CharacterStyle object at 0x000001792B034148>\n",
      "<docx.styles.style._CharacterStyle object at 0x000001792B034788>\n",
      "<docx.styles.style._CharacterStyle object at 0x000001792B034688>\n",
      "<docx.styles.style._CharacterStyle object at 0x000001792B034248>\n",
      "<docx.styles.style._CharacterStyle object at 0x000001792B034148>\n",
      "<docx.styles.style._CharacterStyle object at 0x000001792B034608>\n",
      "<docx.styles.style._CharacterStyle object at 0x000001792B034748>\n",
      "<docx.styles.style._CharacterStyle object at 0x000001792B034688>\n",
      "<docx.styles.style._CharacterStyle object at 0x000001792B034608>\n",
      "<docx.styles.style._CharacterStyle object at 0x000001792B0340C8>\n",
      "<docx.styles.style._CharacterStyle object at 0x000001792B034688>\n",
      "<docx.styles.style._CharacterStyle object at 0x000001792B034248>\n",
      "<docx.styles.style._CharacterStyle object at 0x000001792B034C88>\n",
      "<docx.styles.style._CharacterStyle object at 0x000001792B034688>\n",
      "<docx.styles.style._CharacterStyle object at 0x000001792B034C88>\n",
      "<docx.styles.style._CharacterStyle object at 0x000001792B034748>\n",
      "<docx.styles.style._CharacterStyle object at 0x000001792B034848>\n",
      "<docx.styles.style._CharacterStyle object at 0x000001792B034F08>\n",
      "<docx.styles.style._CharacterStyle object at 0x000001792B034C08>\n",
      "<docx.styles.style._CharacterStyle object at 0x000001792B034F08>\n",
      "<docx.styles.style._CharacterStyle object at 0x000001792B034148>\n",
      "<docx.styles.style._CharacterStyle object at 0x000001792B034C08>\n",
      "<docx.styles.style._CharacterStyle object at 0x000001792B034F08>\n",
      "<docx.styles.style._CharacterStyle object at 0x000001792B034688>\n",
      "<docx.styles.style._CharacterStyle object at 0x000001792B034748>\n",
      "<docx.styles.style._CharacterStyle object at 0x000001792B034F08>\n",
      "<docx.styles.style._CharacterStyle object at 0x000001792B034688>\n",
      "<docx.styles.style._CharacterStyle object at 0x000001792B034608>\n",
      "<docx.styles.style._CharacterStyle object at 0x000001792B034C08>\n",
      "<docx.styles.style._CharacterStyle object at 0x000001792B034848>\n",
      "<docx.styles.style._CharacterStyle object at 0x000001792B034608>\n",
      "<docx.styles.style._CharacterStyle object at 0x000001792B034788>\n",
      "<docx.styles.style._CharacterStyle object at 0x000001792B034848>\n",
      "<docx.styles.style._CharacterStyle object at 0x000001792B034F08>\n",
      "<docx.styles.style._CharacterStyle object at 0x000001792B034148>\n",
      "<docx.styles.style._CharacterStyle object at 0x000001792B034388>\n",
      "<docx.styles.style._CharacterStyle object at 0x000001792B034248>\n",
      "<docx.styles.style._CharacterStyle object at 0x000001792B034388>\n",
      "<docx.styles.style._CharacterStyle object at 0x000001792B034248>\n",
      "<docx.styles.style._CharacterStyle object at 0x000001792B034388>\n",
      "<docx.styles.style._CharacterStyle object at 0x000001792B034248>\n",
      "<docx.styles.style._CharacterStyle object at 0x000001792B034388>\n",
      "<docx.styles.style._CharacterStyle object at 0x000001792B034248>\n",
      "<docx.styles.style._CharacterStyle object at 0x000001792B034388>\n",
      "<docx.styles.style._CharacterStyle object at 0x000001792B034148>\n",
      "<docx.styles.style._CharacterStyle object at 0x000001792B034F08>\n",
      "<docx.styles.style._CharacterStyle object at 0x000001792B034C88>\n",
      "<docx.styles.style._CharacterStyle object at 0x000001792B034148>\n",
      "<docx.styles.style._CharacterStyle object at 0x000001792B034C08>\n",
      "<docx.styles.style._CharacterStyle object at 0x000001792B034C88>\n"
     ]
    }
   ],
   "source": [
    "from docx import *\n",
    "document = Document('/Users/kunal/Documents/')\n",
    "for paragraph in document.paragraphs:\n",
    "    \"\"\"print(paragraph.run.bold)\n",
    "    if 'List Paragraph' == paragraph.style.name:\n",
    "        print(paragraph.text)\n",
    "    \"\"\"\n",
    "for paragraph in document.paragraphs:\n",
    "    #print(paragraph.runs)\n",
    "    for run in paragraph.runs:\n",
    "        print(run.style)\n",
    "        if run.style == 'Strong':\n",
    "            print(run.text)"
   ]
  },
  {
   "cell_type": "code",
   "execution_count": 10,
   "metadata": {},
   "outputs": [],
   "source": [
    "from docx import *\n",
    "\n",
    "#document = Document('/Users/kunal/Documents/VdartWorking/SampleCopies/GenuineCopies/H1 2020.pdf')\n",
    "document = Document('/Users/kunal/Downloads/2020 Persuasive Issue Essay Assignment.docx')\n",
    "bolds=[]\n",
    "italics=[]\n",
    "for para in document.paragraphs:\n",
    "    for run in para.runs:\n",
    "        if run.italic :\n",
    "            italics.append(run.text)\n",
    "        if run.bold :\n",
    "            bolds.append(run.text)\n",
    "\n",
    "boltalic_Dict={'bold_phrases':bolds,\n",
    "              'italic_phrases':italics}"
   ]
  },
  {
   "cell_type": "code",
   "execution_count": 11,
   "metadata": {},
   "outputs": [
    {
     "data": {
      "text/plain": [
       "{'bold_phrases': ['an introduction',\n",
       "  'Highlight/ ',\n",
       "  'Underline your thesis',\n",
       "  'developing paragraphs (the three proofs you choose to include) must have five to seven sentences.',\n",
       "  'Highlight and ide',\n",
       "  'ntify the types of appeals',\n",
       "  ' and rhetorical devices used ',\n",
       "  '(',\n",
       "  'at least two rhetorical devices(parallelism, repetition, restatement, etc-refer to page 447 in lit book)  ',\n",
       "  'Your conclusion ',\n",
       "  'must bring a',\n",
       "  'February',\n",
       "  ' ',\n",
       "  '26',\n",
       "  'th',\n",
       "  'Final Draft',\n",
       "  ' ',\n",
       "  'turnitin.com',\n",
       "  ' ',\n",
       "  'February 28',\n",
       "  'th',\n",
       "  '.',\n",
       "  'Highlight/Underline your thesis. ',\n",
       "  'Highlight and identify the types of appeals and rhetorical devices used.'],\n",
       " 'italic_phrases': ['Antigone ',\n",
       "  ' ',\n",
       "  'D',\n",
       "  'etermine ',\n",
       "  'your order of presentation and ',\n",
       "  'begin writing your rough draft.  ',\n",
       "  'You must have ',\n",
       "  'an introduction',\n",
       "  ' that introduces your topic',\n",
       "  ', states the opposing side, and states your thesis.',\n",
       "  '  It must be',\n",
       "  ' at least five to seven',\n",
       "  ' sentences.  ',\n",
       "  'Highlight/ ',\n",
       "  'Underline your thesis',\n",
       "  '.  ',\n",
       "  'Your ',\n",
       "  'developing paragraphs (the three proofs you choose to include) must have five to seven sentences.',\n",
       "  '  Each paragraph mu',\n",
       "  'st have a claim and be ',\n",
       "  'developed wit',\n",
       "  'h details and examples.',\n",
       "  ' ',\n",
       "  '     ',\n",
       "  'Highlight and ide',\n",
       "  'ntify the types of appeals',\n",
       "  ' and rhetorical devices used ',\n",
       "  '(',\n",
       "  'at least two rhetorical devices(parallelism, repetition, restatement, etc-refer to page 447 in lit book)  ',\n",
       "  'Your conclusion ',\n",
       "  ' sense of clos',\n",
       "  'ure',\n",
       "  ' to the paper and contain at least three to five sentences.',\n",
       "  'Highlight/Underline your thesis. ',\n",
       "  'Highlight and identify the types of appeals and rhetorical devices used.']}"
      ]
     },
     "execution_count": 11,
     "metadata": {},
     "output_type": "execute_result"
    }
   ],
   "source": [
    "boltalic_Dict"
   ]
  },
  {
   "cell_type": "code",
   "execution_count": 14,
   "metadata": {},
   "outputs": [],
   "source": [
    "import os"
   ]
  },
  {
   "cell_type": "code",
   "execution_count": 15,
   "metadata": {},
   "outputs": [],
   "source": [
    "os.chdir('/Users/kunal/Downloads/')"
   ]
  },
  {
   "cell_type": "code",
   "execution_count": 21,
   "metadata": {},
   "outputs": [
    {
     "data": {
      "text/plain": [
       "1"
      ]
     },
     "execution_count": 21,
     "metadata": {},
     "output_type": "execute_result"
    }
   ],
   "source": [
    "import os\n",
    "import subprocess\n",
    "path = '/Users/kunal/Documents/VdartWorking/SampleCopies/GenuineCopies/H1B - Tushar Sharad Part 1.pdf'\n",
    "subprocess.call('lowriter --invisible --convert-to doc \"{}\"'.format(path), shell=True)"
   ]
  },
  {
   "cell_type": "code",
   "execution_count": null,
   "metadata": {},
   "outputs": [],
   "source": []
  },
  {
   "cell_type": "code",
   "execution_count": null,
   "metadata": {},
   "outputs": [],
   "source": []
  },
  {
   "cell_type": "code",
   "execution_count": null,
   "metadata": {},
   "outputs": [],
   "source": []
  },
  {
   "cell_type": "code",
   "execution_count": null,
   "metadata": {},
   "outputs": [],
   "source": []
  },
  {
   "cell_type": "code",
   "execution_count": null,
   "metadata": {},
   "outputs": [],
   "source": []
  },
  {
   "cell_type": "code",
   "execution_count": 2,
   "metadata": {},
   "outputs": [],
   "source": [
    "import os"
   ]
  },
  {
   "cell_type": "code",
   "execution_count": 3,
   "metadata": {},
   "outputs": [],
   "source": [
    "os.chdir('/Users/kunal/Documents/VdartWorking/SampleCopies/GenuineCopies/')"
   ]
  },
  {
   "cell_type": "code",
   "execution_count": 6,
   "metadata": {},
   "outputs": [
    {
     "name": "stdout",
     "output_type": "stream",
     "text": [
      "Document converted successfully: [{'name': 'sample.docx',\n",
      " 'path': 'sample.docx',\n",
      " 'size': 3428039,\n",
      " 'url': 'https://api.groupdocs.cloud/v2.0/conversion/storage/file/sample.docx'}]\n"
     ]
    }
   ],
   "source": [
    "import groupdocs_conversion_cloud\n",
    "\n",
    "# Get your app_sid and app_key at https://dashboard.groupdocs.cloud (free registration is required).\n",
    "app_sid = \"8997282c-3fde-4d0b-bcaf-fa034ee01f44\"\n",
    "app_key = \"f3a7f5b59d9c77304c92dd965c2bd30d\"\n",
    "\n",
    "# Create instance of the API\n",
    "convert_api = groupdocs_conversion_cloud.ConvertApi.from_keys(app_sid, app_key)\n",
    "file_api = groupdocs_conversion_cloud.FileApi.from_keys(app_sid, app_key)\n",
    "\n",
    "try:\n",
    "\n",
    "        #upload soruce file to storage\n",
    "        filename = 'H1 2020.pdf'\n",
    "        remote_name = 'H1 2020.pdf'\n",
    "        output_name= 'sample.docx'\n",
    "        strformat='docx'\n",
    "\n",
    "        request_upload = groupdocs_conversion_cloud.UploadFileRequest(remote_name,filename)\n",
    "        response_upload = file_api.upload_file(request_upload)\n",
    "        #Convert PDF to Word document\n",
    "        settings = groupdocs_conversion_cloud.ConvertSettings()\n",
    "        settings.file_path =remote_name\n",
    "        settings.format = strformat\n",
    "        settings.output_path = output_name\n",
    "\n",
    "        loadOptions = groupdocs_conversion_cloud.PdfLoadOptions()\n",
    "        loadOptions.hide_pdf_annotations = True\n",
    "        loadOptions.remove_embedded_files = False\n",
    "        loadOptions.flatten_all_fields = True\n",
    "\n",
    "        settings.load_options = loadOptions\n",
    "\n",
    "        convertOptions = groupdocs_conversion_cloud.DocxConvertOptions()\n",
    "        convertOptions.from_page = 1\n",
    "        convertOptions.pages_count = 1\n",
    "\n",
    "        settings.convert_options = convertOptions               \n",
    "        request = groupdocs_conversion_cloud.ConvertDocumentRequest(settings)\n",
    "        response = convert_api.convert_document(request)\n",
    "\n",
    "        print(\"Document converted successfully: \" + str(response))\n",
    "except groupdocs_conversion_cloud.ApiException as e:\n",
    "        print(\"Exception when calling get_supported_conversion_types: {0}\".format(e.message))"
   ]
  },
  {
   "cell_type": "code",
   "execution_count": null,
   "metadata": {},
   "outputs": [],
   "source": []
  },
  {
   "cell_type": "code",
   "execution_count": null,
   "metadata": {},
   "outputs": [],
   "source": []
  },
  {
   "cell_type": "code",
   "execution_count": null,
   "metadata": {},
   "outputs": [],
   "source": []
  },
  {
   "cell_type": "code",
   "execution_count": null,
   "metadata": {},
   "outputs": [],
   "source": []
  },
  {
   "cell_type": "code",
   "execution_count": null,
   "metadata": {},
   "outputs": [],
   "source": []
  },
  {
   "cell_type": "code",
   "execution_count": null,
   "metadata": {},
   "outputs": [],
   "source": []
  },
  {
   "cell_type": "code",
   "execution_count": null,
   "metadata": {},
   "outputs": [],
   "source": []
  },
  {
   "cell_type": "code",
   "execution_count": 16,
   "metadata": {},
   "outputs": [
    {
     "name": "stdout",
     "output_type": "stream",
     "text": [
      "/Users/kunal/Documents/VdartWorking/SampleCopies/GenuineCopies/H1 2020.pdf\n"
     ]
    },
    {
     "ename": "NameError",
     "evalue": "name 'file' is not defined",
     "output_type": "error",
     "traceback": [
      "\u001b[1;31m---------------------------------------------------------------------------\u001b[0m",
      "\u001b[1;31mNameError\u001b[0m                                 Traceback (most recent call last)",
      "\u001b[1;32m<ipython-input-16-f98c17ad2693>\u001b[0m in \u001b[0;36m<module>\u001b[1;34m\u001b[0m\n\u001b[0;32m     44\u001b[0m \u001b[0mpdfDir\u001b[0m \u001b[1;33m=\u001b[0m \u001b[1;34m\"/Users/kunal/Documents/VdartWorking/SampleCopies/GenuineCopies/\"\u001b[0m\u001b[1;33m\u001b[0m\u001b[1;33m\u001b[0m\u001b[0m\n\u001b[0;32m     45\u001b[0m \u001b[0mtxtDir\u001b[0m \u001b[1;33m=\u001b[0m \u001b[1;34m\"/Users/kunal/Documents/VdartWorking/SampleCopies/GenuineCopies/\"\u001b[0m\u001b[1;33m\u001b[0m\u001b[1;33m\u001b[0m\u001b[0m\n\u001b[1;32m---> 46\u001b[1;33m \u001b[0mconvertMultiple\u001b[0m\u001b[1;33m(\u001b[0m\u001b[0mpdfDir\u001b[0m\u001b[1;33m,\u001b[0m \u001b[0mtxtDir\u001b[0m\u001b[1;33m)\u001b[0m\u001b[1;33m\u001b[0m\u001b[1;33m\u001b[0m\u001b[0m\n\u001b[0m",
      "\u001b[1;32m<ipython-input-16-f98c17ad2693>\u001b[0m in \u001b[0;36mconvertMultiple\u001b[1;34m(pdfDir, txtDir)\u001b[0m\n\u001b[0;32m     36\u001b[0m             \u001b[0mpdfFilename\u001b[0m \u001b[1;33m=\u001b[0m \u001b[0mpdfDir\u001b[0m \u001b[1;33m+\u001b[0m \u001b[0mpdf\u001b[0m\u001b[1;33m\u001b[0m\u001b[1;33m\u001b[0m\u001b[0m\n\u001b[0;32m     37\u001b[0m             \u001b[0mprint\u001b[0m\u001b[1;33m(\u001b[0m\u001b[0mpdfFilename\u001b[0m\u001b[1;33m)\u001b[0m\u001b[1;33m\u001b[0m\u001b[1;33m\u001b[0m\u001b[0m\n\u001b[1;32m---> 38\u001b[1;33m             \u001b[0mtext\u001b[0m \u001b[1;33m=\u001b[0m \u001b[0mconvert\u001b[0m\u001b[1;33m(\u001b[0m\u001b[0mpdfFilename\u001b[0m\u001b[1;33m)\u001b[0m \u001b[1;31m#get string of text content of pdf\u001b[0m\u001b[1;33m\u001b[0m\u001b[1;33m\u001b[0m\u001b[0m\n\u001b[0m\u001b[0;32m     39\u001b[0m             \u001b[0mtextFilename\u001b[0m \u001b[1;33m=\u001b[0m \u001b[0mtxtDir\u001b[0m \u001b[1;33m+\u001b[0m \u001b[0mpdf\u001b[0m \u001b[1;33m+\u001b[0m \u001b[1;34m\".txt\"\u001b[0m\u001b[1;33m\u001b[0m\u001b[1;33m\u001b[0m\u001b[0m\n\u001b[0;32m     40\u001b[0m             \u001b[0mtextFile\u001b[0m \u001b[1;33m=\u001b[0m \u001b[0mopen\u001b[0m\u001b[1;33m(\u001b[0m\u001b[0mtextFilename\u001b[0m\u001b[1;33m,\u001b[0m \u001b[1;34m\"w\"\u001b[0m\u001b[1;33m)\u001b[0m \u001b[1;31m#make text file\u001b[0m\u001b[1;33m\u001b[0m\u001b[1;33m\u001b[0m\u001b[0m\n",
      "\u001b[1;32m<ipython-input-16-f98c17ad2693>\u001b[0m in \u001b[0;36mconvert\u001b[1;34m(fname, pages)\u001b[0m\n\u001b[0;32m     20\u001b[0m     \u001b[0minterpreter\u001b[0m \u001b[1;33m=\u001b[0m \u001b[0mPDFPageInterpreter\u001b[0m\u001b[1;33m(\u001b[0m\u001b[0mmanager\u001b[0m\u001b[1;33m,\u001b[0m \u001b[0mconverter\u001b[0m\u001b[1;33m)\u001b[0m\u001b[1;33m\u001b[0m\u001b[1;33m\u001b[0m\u001b[0m\n\u001b[0;32m     21\u001b[0m \u001b[1;33m\u001b[0m\u001b[0m\n\u001b[1;32m---> 22\u001b[1;33m     \u001b[0minfile\u001b[0m \u001b[1;33m=\u001b[0m \u001b[0mfile\u001b[0m\u001b[1;33m(\u001b[0m\u001b[0mfname\u001b[0m\u001b[1;33m,\u001b[0m \u001b[1;34m'rb'\u001b[0m\u001b[1;33m)\u001b[0m\u001b[1;33m\u001b[0m\u001b[1;33m\u001b[0m\u001b[0m\n\u001b[0m\u001b[0;32m     23\u001b[0m     \u001b[1;32mfor\u001b[0m \u001b[0mpage\u001b[0m \u001b[1;32min\u001b[0m \u001b[0mPDFPage\u001b[0m\u001b[1;33m.\u001b[0m\u001b[0mget_pages\u001b[0m\u001b[1;33m(\u001b[0m\u001b[0minfile\u001b[0m\u001b[1;33m,\u001b[0m \u001b[0mpagenums\u001b[0m\u001b[1;33m)\u001b[0m\u001b[1;33m:\u001b[0m\u001b[1;33m\u001b[0m\u001b[1;33m\u001b[0m\u001b[0m\n\u001b[0;32m     24\u001b[0m         \u001b[0minterpreter\u001b[0m\u001b[1;33m.\u001b[0m\u001b[0mprocess_page\u001b[0m\u001b[1;33m(\u001b[0m\u001b[0mpage\u001b[0m\u001b[1;33m)\u001b[0m\u001b[1;33m\u001b[0m\u001b[1;33m\u001b[0m\u001b[0m\n",
      "\u001b[1;31mNameError\u001b[0m: name 'file' is not defined"
     ]
    }
   ],
   "source": [
    "from io import BytesIO     # for handling byte strings\n",
    "from io import StringIO \n",
    "from pdfminer.pdfinterp import PDFResourceManager, PDFPageInterpreter\n",
    "from pdfminer.converter import TextConverter\n",
    "from pdfminer.layout import LAParams\n",
    "from pdfminer.pdfpage import PDFPage\n",
    "import os\n",
    "import sys, getopt\n",
    "\n",
    "#converts pdf, returns its text content as a string\n",
    "def convert(fname, pages=None):\n",
    "    if not pages:\n",
    "        pagenums = set()\n",
    "    else:\n",
    "        pagenums = set(pages)\n",
    "\n",
    "    output = StringIO()\n",
    "    manager = PDFResourceManager()\n",
    "    converter = TextConverter(manager, output, laparams=LAParams())\n",
    "    interpreter = PDFPageInterpreter(manager, converter)\n",
    "\n",
    "    infile = file(fname, 'rb')\n",
    "    for page in PDFPage.get_pages(infile, pagenums):\n",
    "        interpreter.process_page(page)\n",
    "    infile.close()\n",
    "    converter.close()\n",
    "    text = output.getvalue()\n",
    "    output.close\n",
    "    return text \n",
    "   \n",
    "def convertMultiple(pdfDir, txtDir):\n",
    "    if pdfDir == \"\": pdfDir = os.getcwd() + \"\\\\\" #if no pdfDir passed in \n",
    "    for pdf in os.listdir(pdfDir): #iterate through pdfs in pdf directory\n",
    "        fileExtension = pdf.split(\".\")[-1]\n",
    "        if fileExtension == \"pdf\":\n",
    "            pdfFilename = pdfDir + pdf \n",
    "            print(pdfFilename)\n",
    "            text = convert(pdfFilename) #get string of text content of pdf\n",
    "            textFilename = txtDir + pdf + \".txt\"\n",
    "            textFile = open(textFilename, \"w\") #make text file\n",
    "            textFile.write(text) #write text to text file\n",
    "\t\t\t#textFile.close\n",
    "\n",
    "pdfDir = \"/Users/kunal/Documents/VdartWorking/SampleCopies/GenuineCopies/\"\n",
    "txtDir = \"/Users/kunal/Documents/VdartWorking/SampleCopies/GenuineCopies/\"\n",
    "convertMultiple(pdfDir, txtDir)"
   ]
  },
  {
   "cell_type": "code",
   "execution_count": 17,
   "metadata": {},
   "outputs": [
    {
     "ename": "NameError",
     "evalue": "name 'file' is not defined",
     "output_type": "error",
     "traceback": [
      "\u001b[1;31m---------------------------------------------------------------------------\u001b[0m",
      "\u001b[1;31mNameError\u001b[0m                                 Traceback (most recent call last)",
      "\u001b[1;32m<ipython-input-17-a24c4b857ae5>\u001b[0m in \u001b[0;36m<module>\u001b[1;34m\u001b[0m\n\u001b[1;32m----> 1\u001b[1;33m \u001b[0mtext\u001b[0m \u001b[1;33m=\u001b[0m \u001b[0mconvert\u001b[0m\u001b[1;33m(\u001b[0m\u001b[1;34m'/Users/kunal/Documents/VdartWorking/SampleCopies/GenuineCopies/H1 2020.pdf'\u001b[0m\u001b[1;33m)\u001b[0m\u001b[1;33m\u001b[0m\u001b[1;33m\u001b[0m\u001b[0m\n\u001b[0m",
      "\u001b[1;32m<ipython-input-16-f98c17ad2693>\u001b[0m in \u001b[0;36mconvert\u001b[1;34m(fname, pages)\u001b[0m\n\u001b[0;32m     20\u001b[0m     \u001b[0minterpreter\u001b[0m \u001b[1;33m=\u001b[0m \u001b[0mPDFPageInterpreter\u001b[0m\u001b[1;33m(\u001b[0m\u001b[0mmanager\u001b[0m\u001b[1;33m,\u001b[0m \u001b[0mconverter\u001b[0m\u001b[1;33m)\u001b[0m\u001b[1;33m\u001b[0m\u001b[1;33m\u001b[0m\u001b[0m\n\u001b[0;32m     21\u001b[0m \u001b[1;33m\u001b[0m\u001b[0m\n\u001b[1;32m---> 22\u001b[1;33m     \u001b[0minfile\u001b[0m \u001b[1;33m=\u001b[0m \u001b[0mfile\u001b[0m\u001b[1;33m(\u001b[0m\u001b[0mfname\u001b[0m\u001b[1;33m,\u001b[0m \u001b[1;34m'rb'\u001b[0m\u001b[1;33m)\u001b[0m\u001b[1;33m\u001b[0m\u001b[1;33m\u001b[0m\u001b[0m\n\u001b[0m\u001b[0;32m     23\u001b[0m     \u001b[1;32mfor\u001b[0m \u001b[0mpage\u001b[0m \u001b[1;32min\u001b[0m \u001b[0mPDFPage\u001b[0m\u001b[1;33m.\u001b[0m\u001b[0mget_pages\u001b[0m\u001b[1;33m(\u001b[0m\u001b[0minfile\u001b[0m\u001b[1;33m,\u001b[0m \u001b[0mpagenums\u001b[0m\u001b[1;33m)\u001b[0m\u001b[1;33m:\u001b[0m\u001b[1;33m\u001b[0m\u001b[1;33m\u001b[0m\u001b[0m\n\u001b[0;32m     24\u001b[0m         \u001b[0minterpreter\u001b[0m\u001b[1;33m.\u001b[0m\u001b[0mprocess_page\u001b[0m\u001b[1;33m(\u001b[0m\u001b[0mpage\u001b[0m\u001b[1;33m)\u001b[0m\u001b[1;33m\u001b[0m\u001b[1;33m\u001b[0m\u001b[0m\n",
      "\u001b[1;31mNameError\u001b[0m: name 'file' is not defined"
     ]
    }
   ],
   "source": [
    "text = convert('/Users/kunal/Documents/VdartWorking/SampleCopies/GenuineCopies/H1 2020.pdf')"
   ]
  },
  {
   "cell_type": "code",
   "execution_count": 19,
   "metadata": {},
   "outputs": [
    {
     "ename": "NameError",
     "evalue": "name 'file' is not defined",
     "output_type": "error",
     "traceback": [
      "\u001b[1;31m---------------------------------------------------------------------------\u001b[0m",
      "\u001b[1;31mNameError\u001b[0m                                 Traceback (most recent call last)",
      "\u001b[1;32m<ipython-input-19-2b4c6047a6da>\u001b[0m in \u001b[0;36m<module>\u001b[1;34m\u001b[0m\n\u001b[0;32m     10\u001b[0m \u001b[0minterpreter\u001b[0m \u001b[1;33m=\u001b[0m \u001b[0mPDFPageInterpreter\u001b[0m\u001b[1;33m(\u001b[0m\u001b[0mmanager\u001b[0m\u001b[1;33m,\u001b[0m \u001b[0mconverter\u001b[0m\u001b[1;33m)\u001b[0m\u001b[1;33m\u001b[0m\u001b[1;33m\u001b[0m\u001b[0m\n\u001b[0;32m     11\u001b[0m \u001b[1;33m\u001b[0m\u001b[0m\n\u001b[1;32m---> 12\u001b[1;33m \u001b[0minfile\u001b[0m \u001b[1;33m=\u001b[0m \u001b[0mfile\u001b[0m\u001b[1;33m(\u001b[0m\u001b[0mfname\u001b[0m\u001b[1;33m,\u001b[0m \u001b[1;34m'rb'\u001b[0m\u001b[1;33m)\u001b[0m\u001b[1;33m\u001b[0m\u001b[1;33m\u001b[0m\u001b[0m\n\u001b[0m\u001b[0;32m     13\u001b[0m \u001b[1;32mfor\u001b[0m \u001b[0mpage\u001b[0m \u001b[1;32min\u001b[0m \u001b[0mPDFPage\u001b[0m\u001b[1;33m.\u001b[0m\u001b[0mget_pages\u001b[0m\u001b[1;33m(\u001b[0m\u001b[0minfile\u001b[0m\u001b[1;33m,\u001b[0m \u001b[0mpagenums\u001b[0m\u001b[1;33m)\u001b[0m\u001b[1;33m:\u001b[0m\u001b[1;33m\u001b[0m\u001b[1;33m\u001b[0m\u001b[0m\n\u001b[0;32m     14\u001b[0m     \u001b[0minterpreter\u001b[0m\u001b[1;33m.\u001b[0m\u001b[0mprocess_page\u001b[0m\u001b[1;33m(\u001b[0m\u001b[0mpage\u001b[0m\u001b[1;33m)\u001b[0m\u001b[1;33m\u001b[0m\u001b[1;33m\u001b[0m\u001b[0m\n",
      "\u001b[1;31mNameError\u001b[0m: name 'file' is not defined"
     ]
    }
   ],
   "source": [
    "pages = None\n",
    "if not pages:\n",
    "    pagenums = set()\n",
    "else:\n",
    "    pagenums = set(pages)\n",
    "\n",
    "output = StringIO()\n",
    "manager = PDFResourceManager()\n",
    "converter = TextConverter(manager, output, laparams=LAParams())\n",
    "interpreter = PDFPageInterpreter(manager, converter)\n",
    "\n",
    "infile = file(fname, 'rb')\n",
    "for page in PDFPage.get_pages(infile, pagenums):\n",
    "    interpreter.process_page(page)\n",
    "infile.close()\n",
    "converter.close()\n",
    "text = output.getvalue()\n",
    "output.close\n",
    "return text "
   ]
  },
  {
   "cell_type": "code",
   "execution_count": null,
   "metadata": {},
   "outputs": [],
   "source": [
    "import nltk\n",
    "import re\n",
    "import glob\n",
    "\n",
    "from cStringIO import StringIO\n",
    "from pdfminer.pdfinterp import PDFResourceManager, PDFPageInterpreter\n",
    "from pdfminer.converter import TextConverter\n",
    "from pdfminer.layout import LAParams\n",
    "from pdfminer.pdfpage import PDFPage\n",
    "\n",
    "def convert(fname, pages=None):\n",
    "    if not pages:\n",
    "        pagenums = set()\n",
    "    else:\n",
    "        pagenums = set(pages)\n",
    "\n",
    "    output = StringIO()\n",
    "    manager = PDFResourceManager()\n",
    "    converter = TextConverter(manager, output, laparams=LAParams())\n",
    "    interpreter = PDFPageInterpreter(manager, converter)\n",
    "\n",
    "    infile = file(fname, 'rb')\n",
    "    for page in PDFPage.get_pages(infile, pagenums):\n",
    "        interpreter.process_page(page)\n",
    "    infile.close()\n",
    "    converter.close()\n",
    "    text = output.getvalue()\n",
    "    output.close\n",
    "\n",
    "    with open('D:\\Reports\\*.txt', 'w') as pdf_file:\n",
    "        pdf_file.write(text)\n",
    "\n",
    "    return text\n",
    "\n",
    "directory = glob.glob('D:\\Reports\\*.pdf')  \n",
    "\n",
    "for myfiles in directory:  \n",
    "     convert(myfiles)"
   ]
  }
 ],
 "metadata": {
  "kernelspec": {
   "display_name": "Python 3",
   "language": "python",
   "name": "python3"
  },
  "language_info": {
   "codemirror_mode": {
    "name": "ipython",
    "version": 3
   },
   "file_extension": ".py",
   "mimetype": "text/x-python",
   "name": "python",
   "nbconvert_exporter": "python",
   "pygments_lexer": "ipython3",
   "version": "3.7.4"
  },
  "toc": {
   "base_numbering": 1,
   "nav_menu": {},
   "number_sections": true,
   "sideBar": true,
   "skip_h1_title": false,
   "title_cell": "Table of Contents",
   "title_sidebar": "Contents",
   "toc_cell": false,
   "toc_position": {},
   "toc_section_display": true,
   "toc_window_display": false
  }
 },
 "nbformat": 4,
 "nbformat_minor": 2
}
