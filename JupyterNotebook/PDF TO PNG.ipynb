{
 "cells": [
  {
   "cell_type": "code",
   "execution_count": 12,
   "metadata": {},
   "outputs": [],
   "source": [
    "import PIL\n",
    "from PIL import Image\n",
    "from pdf2image import convert_from_path\n",
    "import os"
   ]
  },
  {
   "cell_type": "code",
   "execution_count": 4,
   "metadata": {},
   "outputs": [],
   "source": [
    "def convert_pdf_2_image(uploaded_image_path, uploaded_image,img_size):\n",
    "    project_dir = os.getcwd()\n",
    "    os.chdir(uploaded_image_path)\n",
    "    file_name = str(uploaded_image).replace('.pdf','')\n",
    "    output_file = file_name+'.jpg'\n",
    "    pages = convert_from_path(uploaded_image, 200,poppler_path='/Users/kunal/Documents/VdartWorking/Poppler/poppler-0.68.0_x86/poppler-0.68.0/bin/')\n",
    "    for page in pages:\n",
    "        page.save(output_file, 'JPEG')\n",
    "        break\n",
    "    os.chdir(project_dir)\n",
    "    img = Image.open(output_file)\n",
    "    img = img.resize(img_size, PIL.Image.ANTIALIAS)\n",
    "    img.save(output_file)\n",
    "    return output_file"
   ]
  },
  {
   "cell_type": "code",
   "execution_count": 17,
   "metadata": {},
   "outputs": [],
   "source": [
    "os.chdir(\"/Users/kunal/Documents/\")"
   ]
  },
  {
   "cell_type": "code",
   "execution_count": 18,
   "metadata": {
    "scrolled": true
   },
   "outputs": [
    {
     "data": {
      "text/plain": [
       "'invite.jpg'"
      ]
     },
     "execution_count": 18,
     "metadata": {},
     "output_type": "execute_result"
    }
   ],
   "source": [
    "convert_pdf_2_image(\"/Users/kunal/Documents/\", \"invite.pdf\", (200,200))"
   ]
  },
  {
   "cell_type": "code",
   "execution_count": null,
   "metadata": {},
   "outputs": [],
   "source": []
  },
  {
   "cell_type": "code",
   "execution_count": null,
   "metadata": {},
   "outputs": [],
   "source": [
    "return (MAINIMAGEFILEPNG, MAINPDFFILE, COMPAREIMAGEFILEPNG, \n",
    "        result1Final, result2Final, barcodeDetected, \n",
    "        DATEWORKING, WHYDATEISWORKING,\n",
    "        PERCENT_BLUE_DIFFERENCE_TITLE, PERCENT_GREEN_DIFFERENCE_TITLE, PERCENT_RED_DIFFERENCE_TITLE, #50\n",
    "        PERCENT_BLUE_DIFFERENCE_TITLE11, PERCENT_GREEN_DIFFERENCE_TITLE11, PERCENT_RED_DIFFERENCE_TITLE11, #80\n",
    "        PERCENT_BLUE_DIFFERENCE_TITLE22, PERCENT_GREEN_DIFFERENCE_TITLE22, PERCENT_RED_DIFFERENCE_TITLE22, #30\n",
    "        TITLEIMAGECOMPARE,\n",
    "        similiar, diffsimiliar, diffdifferent,\n",
    "        coorect, worng, error,\n",
    "        aveCorrect, aveWRONG, aveERROR,\n",
    "        correctPT2,wrongPT2, errorPT2,\n",
    "        WATERMARKOUTPUTFINAL,\n",
    "        score,\n",
    "        perdiff, \n",
    "        NUMBER_OF_KEYPOINST_IMG1, NUMBER_OF_KEYPOINST_IMG2, # number 1 is unknow image\n",
    "        totalMATCHES,\n",
    "        NUMEBROFMATCHESRATIOTESTFOR06, NUMEBROFMATCHESRATIOTESTFOR065, NUMEBROFMATCHESRATIOTESTFOR07,\n",
    "        NUMEBROFMATCHESDISTANCETESTFOR80, NUMEBROFMATCHESDISTANCETESTFOR85, NUMEBROFMATCHESDISTANCETESTFOR90)"
   ]
  },
  {
   "cell_type": "markdown",
   "metadata": {},
   "source": [
    "MAINIMAGEFILEPNG = path for detecting image png\n",
    "MAINPDFFILE = path for detecting image pdf\n",
    "COMPAREIMAGEFILEPNG = path for real image\n",
    "result1Final = barcode from the tesseract text detected\n",
    "result2Final = barcode from the tesseract text detected part 2\n",
    "barcodeDetected = barcode value from decoding barcode\n",
    "\n",
    "DATEWORKING = final True/False of date\n",
    "WHYDATEISWORKING = reason why date is true or false\n",
    "\n",
    "The following follow the same basic idea\n",
    "It takes the title part of both images and subtracts each array (if they were the same picture then the subtracted array will be 0). Each one of these percents is a different threshold. Max is 255 and min is 0. \n",
    "    PERCENT_BLUE_DIFFERENCE_TITLE, PERCENT_GREEN_DIFFERENCE_TITLE, PERCENT_RED_DIFFERENCE_TITLE, **50**\n",
    "    PERCENT_BLUE_DIFFERENCE_TITLE11, PERCENT_GREEN_DIFFERENCE_TITLE11, PERCENT_RED_DIFFERENCE_TITLE11, **80**\n",
    "    PERCENT_BLUE_DIFFERENCE_TITLE22, PERCENT_GREEN_DIFFERENCE_TITLE22, PERCENT_RED_DIFFERENCE_TITLE22, **30**\n",
    "\n",
    "TITLEIMAGECOMPARE = final compare with a threshold of 15 percent (only for the orginal 50)\n",
    "similar = uses SequenceMatcher to compare similarty between the texts\n",
    "diffsimiliar = personal way to check if the texts are similar\n",
    "diffdifferent = personal way to check if the texts are similar\n",
    "\n",
    "The following follow the same basic idea\n",
    "This is the watermark comparision. It compares both of the images watermarks.\n",
    "    coorect, worng, error, **Basic Watermark compare**\n",
    "    aveCorrect, aveWRONG, aveERROR, **Using average pixels Watermark compare**\n",
    "    correctPT2,wrongPT2, errorPT2 **Basic Watermark compare part 2 method**\n",
    "WATERMARKOUTPUTFINAL = Final output of the watermark\n",
    "\n",
    "score = SSIM score\n",
    "perdiff = Percent difference between them\n",
    "\n"
   ]
  },
  {
   "cell_type": "code",
   "execution_count": null,
   "metadata": {},
   "outputs": [],
   "source": []
  },
  {
   "cell_type": "raw",
   "metadata": {},
   "source": [
    "filething = \"/Users/kunal/Documents/admissionTicket.pdf\""
   ]
  },
  {
   "cell_type": "raw",
   "metadata": {},
   "source": [
    "import os\n",
    "os.chdir(\"/Users/kunal/Documents/Delete/\")"
   ]
  },
  {
   "cell_type": "raw",
   "metadata": {},
   "source": [
    "from wand.image import Image as wi\n"
   ]
  },
  {
   "cell_type": "raw",
   "metadata": {},
   "source": [
    "pdf = wi(filename=\"/Users/kunal/Documents/admissionTicket.pdf\", resolution=200)\n"
   ]
  },
  {
   "cell_type": "raw",
   "metadata": {},
   "source": [
    "pdfImage = pdf.convert(\"jpeg\")\n",
    "i = 1\n",
    "for img in pdfImage.sequence:\n",
    "    page = wi(image=img)\n",
    "    page.save(filename=str(i)+\".jpg\")\n",
    "    i+=1"
   ]
  },
  {
   "cell_type": "raw",
   "metadata": {},
   "source": [
    "import ctypes\n",
    "import functools\n",
    "import numbers\n",
    "import weakref"
   ]
  },
  {
   "cell_type": "raw",
   "metadata": {},
   "source": [
    "?convert_from_path"
   ]
  },
  {
   "cell_type": "raw",
   "metadata": {},
   "source": [
    "pages = convert_from_path(pdf_path=\"/Users/kunal/Documents/invite.pdf\", dpi = 200,output_folder=\"/Users/kunal/Documents/\", poppler_path='/Users/kunal/Documents/VdartWorking/LOLfd/poppler-0.68.0_x86/poppler-0.68.0/bin/')"
   ]
  },
  {
   "cell_type": "raw",
   "metadata": {},
   "source": [
    "pages"
   ]
  },
  {
   "cell_type": "raw",
   "metadata": {},
   "source": [
    "for page in pages:\n",
    "        page.save(\"x\", 'JPEG')"
   ]
  },
  {
   "cell_type": "raw",
   "metadata": {},
   "source": [
    "pdf2image(\"/Users/kunal/Documents/admissionTicket.pdf\", \"/Users/kunal/Documents/Delete/Work.jpg\", res = 300)"
   ]
  },
  {
   "cell_type": "raw",
   "metadata": {},
   "source": [
    "import pdf2image"
   ]
  },
  {
   "cell_type": "raw",
   "metadata": {},
   "source": [
    "?pdf2image"
   ]
  },
  {
   "cell_type": "code",
   "execution_count": null,
   "metadata": {},
   "outputs": [],
   "source": []
  },
  {
   "cell_type": "code",
   "execution_count": null,
   "metadata": {},
   "outputs": [],
   "source": []
  },
  {
   "cell_type": "code",
   "execution_count": null,
   "metadata": {},
   "outputs": [],
   "source": []
  },
  {
   "cell_type": "code",
   "execution_count": null,
   "metadata": {},
   "outputs": [],
   "source": []
  }
 ],
 "metadata": {
  "kernelspec": {
   "display_name": "Python 3",
   "language": "python",
   "name": "python3"
  },
  "language_info": {
   "codemirror_mode": {
    "name": "ipython",
    "version": 3
   },
   "file_extension": ".py",
   "mimetype": "text/x-python",
   "name": "python",
   "nbconvert_exporter": "python",
   "pygments_lexer": "ipython3",
   "version": "3.7.4"
  },
  "toc": {
   "base_numbering": 1,
   "nav_menu": {},
   "number_sections": true,
   "sideBar": true,
   "skip_h1_title": false,
   "title_cell": "Table of Contents",
   "title_sidebar": "Contents",
   "toc_cell": false,
   "toc_position": {},
   "toc_section_display": true,
   "toc_window_display": false
  }
 },
 "nbformat": 4,
 "nbformat_minor": 2
}
