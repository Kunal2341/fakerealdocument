{
 "cells": [
  {
   "cell_type": "markdown",
   "metadata": {},
   "source": [
    "# Import"
   ]
  },
  {
   "cell_type": "code",
   "execution_count": 1,
   "metadata": {},
   "outputs": [],
   "source": [
    "import matplotlib.ticker as plticker\n",
    "import cv2\n",
    "import pytesseract\n",
    "from PIL import Image\n",
    "import PIL\n",
    "from pdf2image import convert_from_path\n",
    "import os\n",
    "import numpy as np\n",
    "import pandas as pd\n",
    "from dbr import DynamsoftBarcodeReader\n",
    "from matplotlib import pyplot as plt\n",
    "from skimage.measure import compare_ssim\n",
    "import imutils\n",
    "import statistics\n",
    "from scipy import stats\n",
    "import random\n",
    "from difflib import SequenceMatcher\n",
    "from IPython.display import display, Markdown, Latex\n",
    "import shutil\n",
    "from google.cloud import vision\n",
    "import io\n",
    "%matplotlib inline\n",
    "from google.oauth2 import service_account\n"
   ]
  },
  {
   "cell_type": "markdown",
   "metadata": {},
   "source": [
    "# Convert PDF 2 IMAGE"
   ]
  },
  {
   "cell_type": "code",
   "execution_count": 2,
   "metadata": {},
   "outputs": [],
   "source": [
    "def convert_pdf_2_image(uploaded_image_path, uploaded_image,img_size):\n",
    "    project_dir = os.getcwd()\n",
    "    file_name = str(uploaded_image).replace('.pdf','')\n",
    "    output_file = file_name+'.jpg'\n",
    "    pages = convert_from_path(uploaded_image, 200,poppler_path='/Users/kunal/Documents/VdartWorking/Poppler/poppler-0.68.0_x86/poppler-0.68.0/bin/')\n",
    "    for page in pages:\n",
    "        page.save(output_file, 'JPEG')\n",
    "        break\n",
    "    os.chdir(project_dir)\n",
    "    img = Image.open(output_file)\n",
    "    img = img.resize(img_size, PIL.Image.ANTIALIAS)\n",
    "    img.save(output_file)\n",
    "    return output_file"
   ]
  },
  {
   "cell_type": "markdown",
   "metadata": {},
   "source": [
    "# Actual Run"
   ]
  },
  {
   "cell_type": "code",
   "execution_count": 5,
   "metadata": {
    "scrolled": true
   },
   "outputs": [
    {
     "name": "stdout",
     "output_type": "stream",
     "text": [
      "DONE0\n",
      "FAKE_1.pdf\n",
      "DONE1\n",
      "FAKE_10.pdf\n",
      "DONE2\n",
      "FAKE_11.pdf\n",
      "DONE3\n",
      "FAKE_12.pdf\n",
      "DONE4\n",
      "FAKE_13.pdf\n",
      "DONE5\n",
      "FAKE_2.pdf\n",
      "DONE6\n",
      "FAKE_3.pdf\n",
      "DONE7\n",
      "FAKE_4.pdf\n",
      "DONE8\n",
      "FAKE_5.pdf\n",
      "DONE9\n",
      "FAKE_6.pdf\n",
      "DONE10\n",
      "FAKE_7.pdf\n",
      "DONE11\n",
      "FAKE_8.pdf\n",
      "DONE12\n",
      "FAKE_9.pdf\n",
      "DONE13\n",
      "GENUINE_1.pdf\n",
      "DONE14\n",
      "GENUINE_10.pdf\n",
      "DONE15\n",
      "GENUINE_11.pdf\n",
      "DONE16\n",
      "GENUINE_12.pdf\n",
      "DONE17\n",
      "GENUINE_13.pdf\n",
      "DONE18\n",
      "GENUINE_14.pdf\n",
      "DONE19\n",
      "GENUINE_15.pdf\n",
      "DONE20\n",
      "GENUINE_2.pdf\n",
      "DONE21\n",
      "GENUINE_3.pdf\n",
      "DONE22\n",
      "GENUINE_4.pdf\n",
      "DONE23\n",
      "GENUINE_5.pdf\n",
      "DONE24\n",
      "GENUINE_6.pdf\n",
      "DONE25\n",
      "GENUINE_7.pdf\n",
      "DONE26\n",
      "GENUINE_8.pdf\n",
      "DONE27\n",
      "GENUINE_9.pdf\n",
      "Wall time: 1min 57s\n"
     ]
    }
   ],
   "source": [
    "%%time\n",
    "testingDIR = \"/Users/kunal/Documents/VdartWorking/NEWDOCUMENTS/Working/testFINALCOLAB_04-05_54/\"\n",
    "\n",
    "os.chdir(testingDIR)\n",
    "count = 0\n",
    "\n",
    "for i in os.listdir(testingDIR):\n",
    "    pathName = testingDIR + i.replace('.pdf', '')\n",
    "    os.mkdir(pathName)\n",
    "    shutil.move(i, pathName)\n",
    "    finalDir = pathName + \"/\" + i\n",
    "    PicForI = i\n",
    "    finalDirPIC = pathName + \"/\" + PicForI.replace('.pdf', '.jpg')\n",
    "    os.chdir(pathName)\n",
    "    convert_pdf_2_image(pathName, i,(698,910))\n",
    "    #os.remove(i)\n",
    "    os.chdir(testingDIR)\n",
    "    print(\"DONE\"+str(count))\n",
    "    print(i)\n",
    "    count+=1"
   ]
  },
  {
   "cell_type": "code",
   "execution_count": null,
   "metadata": {},
   "outputs": [],
   "source": []
  },
  {
   "cell_type": "markdown",
   "metadata": {},
   "source": [
    "os.chdir(testingDIR)\n",
    "for i in os.listdir(testingDIR):\n",
    "    if i.endswith(\".pdf\"):\n",
    "        os.remove(i)"
   ]
  },
  {
   "cell_type": "code",
   "execution_count": 4,
   "metadata": {},
   "outputs": [],
   "source": [
    "for i in os.listdir(testingDIR):\n",
    "    if i.endswith(\".jpg\"):\n",
    "        os.remove(i)"
   ]
  },
  {
   "cell_type": "markdown",
   "metadata": {},
   "source": [
    "# Final Touches"
   ]
  },
  {
   "cell_type": "code",
   "execution_count": 7,
   "metadata": {},
   "outputs": [
    {
     "ename": "ModuleNotFoundError",
     "evalue": "No module named 'code2pdf'",
     "output_type": "error",
     "traceback": [
      "\u001b[1;31m---------------------------------------------------------------------------\u001b[0m",
      "\u001b[1;31mModuleNotFoundError\u001b[0m                       Traceback (most recent call last)",
      "\u001b[1;32m<ipython-input-7-c39318877d1f>\u001b[0m in \u001b[0;36m<module>\u001b[1;34m\u001b[0m\n\u001b[1;32m----> 1\u001b[1;33m \u001b[1;32mimport\u001b[0m \u001b[0mCode2pdf\u001b[0m\u001b[1;33m\u001b[0m\u001b[1;33m\u001b[0m\u001b[0m\n\u001b[0m\u001b[0;32m      2\u001b[0m \u001b[0mifile\u001b[0m\u001b[1;33m,\u001b[0m\u001b[0mofile\u001b[0m\u001b[1;33m,\u001b[0m\u001b[0msize\u001b[0m \u001b[1;33m=\u001b[0m \u001b[1;34m\"test.py\"\u001b[0m\u001b[1;33m,\u001b[0m \u001b[1;34m\"test.pdf\"\u001b[0m\u001b[1;33m,\u001b[0m \u001b[1;34m\"A4\"\u001b[0m\u001b[1;33m\u001b[0m\u001b[1;33m\u001b[0m\u001b[0m\n\u001b[0;32m      3\u001b[0m \u001b[0mpdf\u001b[0m \u001b[1;33m=\u001b[0m \u001b[0mCode2pdf\u001b[0m\u001b[1;33m(\u001b[0m\u001b[0mifile\u001b[0m\u001b[1;33m,\u001b[0m \u001b[0mofile\u001b[0m\u001b[1;33m,\u001b[0m \u001b[0msize\u001b[0m\u001b[1;33m)\u001b[0m  \u001b[1;31m# create the Code2pdf object\u001b[0m\u001b[1;33m\u001b[0m\u001b[1;33m\u001b[0m\u001b[0m\n\u001b[0;32m      4\u001b[0m \u001b[0mpdf\u001b[0m\u001b[1;33m.\u001b[0m\u001b[0minit_print\u001b[0m\u001b[1;33m(\u001b[0m\u001b[1;33m)\u001b[0m    \u001b[1;31m# call print method to print pdf\u001b[0m\u001b[1;33m\u001b[0m\u001b[1;33m\u001b[0m\u001b[0m\n",
      "\u001b[1;32m~\\Anaconda3\\lib\\site-packages\\Code2pdf\\__init__.py\u001b[0m in \u001b[0;36m<module>\u001b[1;34m\u001b[0m\n\u001b[1;32m----> 1\u001b[1;33m \u001b[1;32mfrom\u001b[0m \u001b[0mcode2pdf\u001b[0m \u001b[1;32mimport\u001b[0m \u001b[0mmain\u001b[0m\u001b[1;33m\u001b[0m\u001b[1;33m\u001b[0m\u001b[0m\n\u001b[0m",
      "\u001b[1;31mModuleNotFoundError\u001b[0m: No module named 'code2pdf'"
     ]
    }
   ],
   "source": [
    "\n",
    "import Code2pdf\n",
    "ifile,ofile,size = \"test.py\", \"test.pdf\", \"A4\"\n",
    "pdf = Code2pdf(ifile, ofile, size)  # create the Code2pdf object\n",
    "pdf.init_print()    # call print method to print pdf"
   ]
  },
  {
   "cell_type": "code",
   "execution_count": null,
   "metadata": {},
   "outputs": [],
   "source": []
  }
 ],
 "metadata": {
  "kernelspec": {
   "display_name": "Python 3",
   "language": "python",
   "name": "python3"
  },
  "language_info": {
   "codemirror_mode": {
    "name": "ipython",
    "version": 3
   },
   "file_extension": ".py",
   "mimetype": "text/x-python",
   "name": "python",
   "nbconvert_exporter": "python",
   "pygments_lexer": "ipython3",
   "version": "3.7.4"
  },
  "toc": {
   "base_numbering": 1,
   "nav_menu": {},
   "number_sections": true,
   "sideBar": true,
   "skip_h1_title": false,
   "title_cell": "Table of Contents",
   "title_sidebar": "Contents",
   "toc_cell": false,
   "toc_position": {
    "height": "calc(100% - 180px)",
    "left": "10px",
    "top": "150px",
    "width": "165px"
   },
   "toc_section_display": true,
   "toc_window_display": true
  }
 },
 "nbformat": 4,
 "nbformat_minor": 2
}
