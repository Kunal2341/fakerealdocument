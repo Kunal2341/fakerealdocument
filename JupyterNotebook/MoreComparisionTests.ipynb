{
 "cells": [
  {
   "cell_type": "code",
   "execution_count": null,
   "metadata": {},
   "outputs": [],
   "source": [
    "# Python program to explain filecmp.cmpfiles() method  \n",
    "    \n",
    "# importing filecmp module  \n",
    "import filecmp \n",
    "  \n",
    "# Path of first directory \n",
    "dir1 = \"/Users/kunal/Documents/VdartWorking/SampleCopies/GenuineCopies/H1 2020PNG.PNG\"\n",
    "  \n",
    "# Path of second directory \n",
    "dir2 = \"/Users/kunal/Documents/VdartWorking/SampleCopies/FakeCopies/21JAN2020/Jalal-H1-copy.jpg\"\n",
    "   \n",
    "# Common files \n",
    "  \n",
    "# Shallow compare the files \n",
    "# common in both directories   \n",
    "match, mismatch, errors = filecmp.cmpfiles(dir1, dir2) \n",
    "  \n",
    "# Print the result of \n",
    "# shallow comparison \n",
    "print(\"Shallow comparison:\") \n",
    "print(\"Match :\", match) \n",
    "print(\"Mismatch :\", mismatch) \n",
    "print(\"Errors :\", errors, \"\\n\") \n",
    "  \n",
    "  \n",
    "# Compare the \n",
    "# contents of both files \n",
    "# (i.e deep comparison) \n",
    "match, mismatch, errors = filecmp.cmpfiles(dir1, dir2, common, \n",
    "                                              shallow = False) \n",
    "  \n",
    "# Print the result of \n",
    "# deep comparison \n",
    "print(\"Deep comparison:\") \n",
    "print(\"Match :\", match) \n",
    "print(\"Mismatch :\", mismatch) \n",
    "print(\"Errors :\", errors) "
   ]
  },
  {
   "cell_type": "code",
   "execution_count": null,
   "metadata": {},
   "outputs": [],
   "source": []
  },
  {
   "cell_type": "code",
   "execution_count": null,
   "metadata": {},
   "outputs": [],
   "source": []
  },
  {
   "cell_type": "code",
   "execution_count": null,
   "metadata": {},
   "outputs": [],
   "source": [
    "dir1 = \"/Users/kunal/Documents/VdartWorking/SampleCopies/GenuineCopies/H1 2020PNG.PNG\"\n",
    "  \n",
    "# Path of second directory \n",
    "dir2 = \"/Users/kunal/Documents/VdartWorking/SampleCopies/FakeCopies/21JAN2020/Jalal-H1-copy.jpg\"\n",
    "dir2 = \"/Users/kunal/Documents/VdartWorking/SampleCopies/GenuineCopies/H1B - Tushar Sharad Part 1PNG.PNG\""
   ]
  },
  {
   "cell_type": "code",
   "execution_count": null,
   "metadata": {},
   "outputs": [],
   "source": [
    "match = filecmp.cmp(dir1, dir2, shallow = False) "
   ]
  },
  {
   "cell_type": "code",
   "execution_count": null,
   "metadata": {},
   "outputs": [],
   "source": [
    "match"
   ]
  },
  {
   "cell_type": "code",
   "execution_count": null,
   "metadata": {},
   "outputs": [],
   "source": []
  },
  {
   "cell_type": "code",
   "execution_count": null,
   "metadata": {},
   "outputs": [],
   "source": []
  },
  {
   "cell_type": "code",
   "execution_count": null,
   "metadata": {},
   "outputs": [],
   "source": []
  },
  {
   "cell_type": "code",
   "execution_count": null,
   "metadata": {},
   "outputs": [],
   "source": [
    "dir1 = \"/Users/kunal/Documents/VdartWorking/SampleCopies/GenuineCopies/H1 2020PNG.PNG\"\n",
    "  \n",
    "# Path of second directory \n",
    "dir2 = \"/Users/kunal/Documents/VdartWorking/SampleCopies/FakeCopies/21JAN2020/Jalal-H1-copy.jpg\"\n",
    "dir2 = \"/Users/kunal/Documents/VdartWorking/SampleCopies/GenuineCopies/H1B - Tushar Sharad Part 1PNG.PNG\"\n",
    "dir3 = \"/Users/kunal/Documents/VdartWorking/xxx.png\"\n",
    "from PIL import Image, ImageChops\n",
    "def compare_images(path_one, path_two, diff_save_location):\n",
    "    \"\"\"\n",
    "    Compares to images and saves a diff image, if there\n",
    "    is a difference\n",
    "    \n",
    "    @param: path_one: The path to the first image\n",
    "    @param: path_two: The path to the second image\n",
    "    \"\"\"\n",
    "    image_one = Image.open(path_one)\n",
    "    image_two = Image.open(path_two)\n",
    "    \n",
    "    diff = ImageChops.difference(image_one, image_two)\n",
    "    \n",
    "    if diff.getbbox():\n",
    "        diff.save(diff_save_location)\n",
    "        \n",
    "compare_images(dir1, dir2, dir3)\n"
   ]
  },
  {
   "cell_type": "code",
   "execution_count": null,
   "metadata": {},
   "outputs": [],
   "source": [
    "path_one = dir1\n",
    "path_two = dir2\n",
    "image_one = Image.open(path_one)\n",
    "image_two = Image.open(path_two)\n",
    "\n",
    "diff = ImageChops.difference(image_one, image_two)\n",
    "diff"
   ]
  },
  {
   "cell_type": "code",
   "execution_count": null,
   "metadata": {},
   "outputs": [],
   "source": []
  },
  {
   "cell_type": "code",
   "execution_count": null,
   "metadata": {},
   "outputs": [],
   "source": []
  },
  {
   "cell_type": "code",
   "execution_count": null,
   "metadata": {},
   "outputs": [],
   "source": []
  },
  {
   "cell_type": "code",
   "execution_count": null,
   "metadata": {},
   "outputs": [],
   "source": []
  },
  {
   "cell_type": "code",
   "execution_count": 2,
   "metadata": {},
   "outputs": [],
   "source": [
    "def detect_properties(path):\n",
    "    \"\"\"Detects image properties in the file.\"\"\"\n",
    "    from google.cloud import vision\n",
    "    from google.oauth2 import service_account\n",
    "    import io\n",
    "    keyDIR = \"/Users/kunal/Documents/VdartWorking/GOOGLEAPI/vdartrealfakevision-0f30bdc03946.json\"\n",
    "    credentials = service_account.Credentials.from_service_account_file(keyDIR)\n",
    "    client = vision.ImageAnnotatorClient(credentials=credentials)\n",
    "\n",
    "    with io.open(path, 'rb') as image_file:\n",
    "        content = image_file.read()\n",
    "\n",
    "    image = vision.types.Image(content=content)\n",
    "\n",
    "    response = client.image_properties(image=image)\n",
    "    props = response.image_properties_annotation\n",
    "    print('Properties:')\n",
    "\n",
    "    for color in props.dominant_colors.colors:\n",
    "        print('fraction: {}'.format(color.pixel_fraction))\n",
    "        print('\\tr: {}'.format(color.color.red))\n",
    "        print('\\tg: {}'.format(color.color.green))\n",
    "        print('\\tb: {}'.format(color.color.blue))\n",
    "        print('\\ta: {}'.format(color.color.alpha))\n",
    "\n",
    "    if response.error.message:\n",
    "        raise Exception(\n",
    "            '{}\\nFor more info on error messages, check: '\n",
    "            'https://cloud.google.com/apis/design/errors'.format(\n",
    "                response.error.message))"
   ]
  },
  {
   "cell_type": "code",
   "execution_count": 4,
   "metadata": {},
   "outputs": [
    {
     "name": "stdout",
     "output_type": "stream",
     "text": [
      "Properties:\n",
      "fraction: 0.7038107514381409\n",
      "\tr: 237.0\n",
      "\tg: 237.0\n",
      "\tb: 237.0\n",
      "\ta: \n",
      "fraction: 0.19258323311805725\n",
      "\tr: 195.0\n",
      "\tg: 195.0\n",
      "\tb: 195.0\n",
      "\ta: \n",
      "fraction: 0.07049545645713806\n",
      "\tr: 164.0\n",
      "\tg: 164.0\n",
      "\tb: 164.0\n",
      "\ta: \n",
      "fraction: 0.014207452535629272\n",
      "\tr: 124.0\n",
      "\tg: 124.0\n",
      "\tb: 124.0\n",
      "\ta: \n",
      "fraction: 0.012822828255593777\n",
      "\tr: 84.0\n",
      "\tg: 84.0\n",
      "\tb: 84.0\n",
      "\ta: \n",
      "fraction: 0.005418096669018269\n",
      "\tr: 56.0\n",
      "\tg: 56.0\n",
      "\tb: 56.0\n",
      "\ta: \n",
      "fraction: 0.0006622117944061756\n",
      "\tr: 31.0\n",
      "\tg: 27.0\n",
      "\tb: 28.0\n",
      "\ta: \n"
     ]
    }
   ],
   "source": [
    "detect_properties(\"/Users/kunal/Documents/VdartWorking/NEWDOCUMENTS/Working/Cut10/Real/I-797A Maheswari Mandha_Approval Copy/I-797A Maheswari Mandha_Approval Copy.jpg\")"
   ]
  },
  {
   "cell_type": "code",
   "execution_count": null,
   "metadata": {},
   "outputs": [],
   "source": []
  }
 ],
 "metadata": {
  "kernelspec": {
   "display_name": "Python 3",
   "language": "python",
   "name": "python3"
  },
  "language_info": {
   "codemirror_mode": {
    "name": "ipython",
    "version": 3
   },
   "file_extension": ".py",
   "mimetype": "text/x-python",
   "name": "python",
   "nbconvert_exporter": "python",
   "pygments_lexer": "ipython3",
   "version": "3.7.4"
  },
  "toc": {
   "base_numbering": 1,
   "nav_menu": {},
   "number_sections": true,
   "sideBar": true,
   "skip_h1_title": false,
   "title_cell": "Table of Contents",
   "title_sidebar": "Contents",
   "toc_cell": false,
   "toc_position": {},
   "toc_section_display": true,
   "toc_window_display": false
  }
 },
 "nbformat": 4,
 "nbformat_minor": 2
}
