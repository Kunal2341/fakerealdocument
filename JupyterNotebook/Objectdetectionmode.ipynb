{
 "cells": [
  {
   "cell_type": "code",
   "execution_count": 18,
   "metadata": {},
   "outputs": [],
   "source": [
    "from imageai.Prediction.Custom import CustomImagePrediction\n",
    "import os\n"
   ]
  },
  {
   "cell_type": "code",
   "execution_count": 19,
   "metadata": {},
   "outputs": [],
   "source": [
    "\n",
    "execution_path = \"/Users/kunal/Documents/VdartWorking/NEWDOCUMENTS/Working/MODELBUILDING/test1/\"\n"
   ]
  },
  {
   "cell_type": "code",
   "execution_count": 20,
   "metadata": {},
   "outputs": [],
   "source": [
    "prediction = CustomImagePrediction()\n",
    "prediction.setModelTypeAsResNet()\n",
    "prediction.setModelPath(os.path.join(execution_path, \"model_ex-032_acc-0.532258.h5\"))\n",
    "prediction.setJsonPath(os.path.join(execution_path, \"model_class.json\"))\n",
    "prediction.loadModel(num_objects=2)"
   ]
  },
  {
   "cell_type": "code",
   "execution_count": 21,
   "metadata": {},
   "outputs": [],
   "source": [
    "dir1 = \"/Users/kunal/Documents/VdartWorking/NEWDOCUMENTS/Working/MODELBUILDING/testfilesrun/fake/\"\n",
    "dir2 = \"/Users/kunal/Documents/VdartWorking/NEWDOCUMENTS/Working/MODELBUILDING/testfilesrun/real/\""
   ]
  },
  {
   "cell_type": "code",
   "execution_count": 22,
   "metadata": {},
   "outputs": [
    {
     "name": "stdout",
     "output_type": "stream",
     "text": [
      "1576175682510_I-797A NOA Approval Notice_Roopesh Mandadi 001(1)(1)_page-0001.jpg\n",
      "WARNING:tensorflow:When passing input data as arrays, do not specify `steps_per_epoch`/`steps` argument. Please use `batch_size` instead.\n",
      "REAL  :  55.045872926712036\n",
      "FAKE  :  44.954124093055725\n",
      "Anil Kumar Kushnapalli Visa (1).jpg\n",
      "WARNING:tensorflow:When passing input data as arrays, do not specify `steps_per_epoch`/`steps` argument. Please use `batch_size` instead.\n",
      "REAL  :  50.18675923347473\n",
      "FAKE  :  49.81324076652527\n",
      "Anil Kumar Kushnapalli Visa.jpg\n",
      "WARNING:tensorflow:When passing input data as arrays, do not specify `steps_per_epoch`/`steps` argument. Please use `batch_size` instead.\n",
      "REAL  :  50.18675923347473\n",
      "FAKE  :  49.81324076652527\n",
      "Copy of H1B Approval_Richika (1).jpg\n",
      "WARNING:tensorflow:When passing input data as arrays, do not specify `steps_per_epoch`/`steps` argument. Please use `batch_size` instead.\n",
      "REAL  :  53.67634892463684\n",
      "FAKE  :  46.32365107536316\n",
      "Extension-001 (1).jpg\n",
      "WARNING:tensorflow:When passing input data as arrays, do not specify `steps_per_epoch`/`steps` argument. Please use `batch_size` instead.\n",
      "REAL  :  52.018553018569946\n",
      "FAKE  :  47.981444001197815\n",
      "HARISH.JPG\n",
      "WARNING:tensorflow:When passing input data as arrays, do not specify `steps_per_epoch`/`steps` argument. Please use `batch_size` instead.\n",
      "FAKE  :  51.963841915130615\n",
      "REAL  :  48.03616106510162\n",
      "Kiran Chitrada Visa (1).jpg\n",
      "WARNING:tensorflow:When passing input data as arrays, do not specify `steps_per_epoch`/`steps` argument. Please use `batch_size` instead.\n",
      "FAKE  :  90.581876039505\n",
      "REAL  :  9.418128430843353\n"
     ]
    }
   ],
   "source": [
    "os.chdir(dir1)\n",
    "for i in os.listdir(dir1):\n",
    "    print(i)\n",
    "    predictions, probabilities = prediction.predictImage(i,result_count=2)\n",
    "\n",
    "    for eachPrediction, eachProbability in zip(predictions, probabilities):\n",
    "        print(eachPrediction , \" : \" , eachProbability)"
   ]
  },
  {
   "cell_type": "code",
   "execution_count": 23,
   "metadata": {},
   "outputs": [
    {
     "name": "stdout",
     "output_type": "stream",
     "text": [
      "EDGAR - VISA TN.jpg\n",
      "WARNING:tensorflow:When passing input data as arrays, do not specify `steps_per_epoch`/`steps` argument. Please use `batch_size` instead.\n",
      "REAL  :  54.29102182388306\n",
      "FAKE  :  45.70898413658142\n",
      "H1B-Sravanthi Dama.jpg\n",
      "WARNING:tensorflow:When passing input data as arrays, do not specify `steps_per_epoch`/`steps` argument. Please use `batch_size` instead.\n",
      "FAKE  :  54.28763031959534\n",
      "REAL  :  45.712366700172424\n",
      "new doc 2018-11-30 10.35.02_1.jpg\n",
      "WARNING:tensorflow:When passing input data as arrays, do not specify `steps_per_epoch`/`steps` argument. Please use `batch_size` instead.\n",
      "FAKE  :  53.43456268310547\n",
      "REAL  :  46.56543731689453\n",
      "Page-001.jpg\n",
      "WARNING:tensorflow:When passing input data as arrays, do not specify `steps_per_epoch`/`steps` argument. Please use `batch_size` instead.\n",
      "FAKE  :  54.3499231338501\n",
      "REAL  :  45.65008282661438\n",
      "Priya h1b.jpg\n",
      "WARNING:tensorflow:When passing input data as arrays, do not specify `steps_per_epoch`/`steps` argument. Please use `batch_size` instead.\n",
      "FAKE  :  52.825927734375\n",
      "REAL  :  47.17407822608948\n"
     ]
    }
   ],
   "source": [
    "os.chdir(dir2)\n",
    "for i in os.listdir(dir2):\n",
    "    print(i)\n",
    "    predictions, probabilities = prediction.predictImage(i,result_count=2)\n",
    "\n",
    "    for eachPrediction, eachProbability in zip(predictions, probabilities):\n",
    "        print(eachPrediction , \" : \" , eachProbability)"
   ]
  },
  {
   "cell_type": "markdown",
   "metadata": {},
   "source": [
    "# Run2 USETHIS"
   ]
  },
  {
   "cell_type": "code",
   "execution_count": 24,
   "metadata": {},
   "outputs": [],
   "source": [
    "prediction = CustomImagePrediction()\n",
    "prediction.setModelTypeAsResNet()\n",
    "prediction.setModelPath(os.path.join(execution_path, \"model_ex-026_acc-0.516129.h5\"))\n",
    "prediction.setJsonPath(os.path.join(execution_path, \"model_class.json\"))\n",
    "prediction.loadModel(num_objects=2)"
   ]
  },
  {
   "cell_type": "code",
   "execution_count": 25,
   "metadata": {},
   "outputs": [
    {
     "name": "stdout",
     "output_type": "stream",
     "text": [
      "1576175682510_I-797A NOA Approval Notice_Roopesh Mandadi 001(1)(1)_page-0001.jpg\n",
      "WARNING:tensorflow:When passing input data as arrays, do not specify `steps_per_epoch`/`steps` argument. Please use `batch_size` instead.\n",
      "REAL  :  51.79895758628845\n",
      "FAKE  :  48.20104241371155\n",
      "Anil Kumar Kushnapalli Visa (1).jpg\n",
      "WARNING:tensorflow:When passing input data as arrays, do not specify `steps_per_epoch`/`steps` argument. Please use `batch_size` instead.\n",
      "FAKE  :  50.79532861709595\n",
      "REAL  :  49.204665422439575\n",
      "Anil Kumar Kushnapalli Visa.jpg\n",
      "WARNING:tensorflow:When passing input data as arrays, do not specify `steps_per_epoch`/`steps` argument. Please use `batch_size` instead.\n",
      "FAKE  :  50.79532861709595\n",
      "REAL  :  49.204665422439575\n",
      "Copy of H1B Approval_Richika (1).jpg\n",
      "WARNING:tensorflow:When passing input data as arrays, do not specify `steps_per_epoch`/`steps` argument. Please use `batch_size` instead.\n",
      "REAL  :  53.09068560600281\n",
      "FAKE  :  46.909305453300476\n",
      "Extension-001 (1).jpg\n",
      "WARNING:tensorflow:When passing input data as arrays, do not specify `steps_per_epoch`/`steps` argument. Please use `batch_size` instead.\n",
      "REAL  :  51.40789747238159\n",
      "FAKE  :  48.59210252761841\n",
      "HARISH.JPG\n",
      "WARNING:tensorflow:When passing input data as arrays, do not specify `steps_per_epoch`/`steps` argument. Please use `batch_size` instead.\n",
      "FAKE  :  52.105510234832764\n",
      "REAL  :  47.894489765167236\n",
      "Kiran Chitrada Visa (1).jpg\n",
      "WARNING:tensorflow:When passing input data as arrays, do not specify `steps_per_epoch`/`steps` argument. Please use `batch_size` instead.\n",
      "FAKE  :  88.57290744781494\n",
      "REAL  :  11.42708957195282\n"
     ]
    }
   ],
   "source": [
    "os.chdir(dir1)\n",
    "for i in os.listdir(dir1):\n",
    "    print(i)\n",
    "    predictions, probabilities = prediction.predictImage(i,result_count=2)\n",
    "\n",
    "    for eachPrediction, eachProbability in zip(predictions, probabilities):\n",
    "        print(eachPrediction , \" : \" , eachProbability)"
   ]
  },
  {
   "cell_type": "code",
   "execution_count": 26,
   "metadata": {},
   "outputs": [
    {
     "name": "stdout",
     "output_type": "stream",
     "text": [
      "EDGAR - VISA TN.jpg\n",
      "WARNING:tensorflow:When passing input data as arrays, do not specify `steps_per_epoch`/`steps` argument. Please use `batch_size` instead.\n",
      "REAL  :  53.18160057067871\n",
      "FAKE  :  46.81839644908905\n",
      "H1B-Sravanthi Dama.jpg\n",
      "WARNING:tensorflow:When passing input data as arrays, do not specify `steps_per_epoch`/`steps` argument. Please use `batch_size` instead.\n",
      "FAKE  :  53.09501886367798\n",
      "REAL  :  46.90497815608978\n",
      "new doc 2018-11-30 10.35.02_1.jpg\n",
      "WARNING:tensorflow:When passing input data as arrays, do not specify `steps_per_epoch`/`steps` argument. Please use `batch_size` instead.\n",
      "FAKE  :  53.56811285018921\n",
      "REAL  :  46.43188416957855\n",
      "Page-001.jpg\n",
      "WARNING:tensorflow:When passing input data as arrays, do not specify `steps_per_epoch`/`steps` argument. Please use `batch_size` instead.\n",
      "FAKE  :  54.05832529067993\n",
      "REAL  :  45.94167172908783\n",
      "Priya h1b.jpg\n",
      "WARNING:tensorflow:When passing input data as arrays, do not specify `steps_per_epoch`/`steps` argument. Please use `batch_size` instead.\n",
      "FAKE  :  52.343231439590454\n",
      "REAL  :  47.65676558017731\n"
     ]
    }
   ],
   "source": [
    "os.chdir(dir2)\n",
    "for i in os.listdir(dir2):\n",
    "    print(i)\n",
    "    predictions, probabilities = prediction.predictImage(i,result_count=2)\n",
    "    for eachPrediction, eachProbability in zip(predictions, probabilities):\n",
    "        print(eachPrediction , \" : \" , eachProbability)"
   ]
  },
  {
   "cell_type": "markdown",
   "metadata": {},
   "source": [
    "# Run3"
   ]
  },
  {
   "cell_type": "code",
   "execution_count": 27,
   "metadata": {},
   "outputs": [],
   "source": [
    "prediction = CustomImagePrediction()\n",
    "prediction.setModelTypeAsResNet()\n",
    "prediction.setModelPath(os.path.join(execution_path, \"model_ex-020_acc-0.500000.h5\"))\n",
    "prediction.setJsonPath(os.path.join(execution_path, \"model_class.json\"))\n",
    "prediction.loadModel(num_objects=2)"
   ]
  },
  {
   "cell_type": "code",
   "execution_count": 28,
   "metadata": {},
   "outputs": [
    {
     "name": "stdout",
     "output_type": "stream",
     "text": [
      "1576175682510_I-797A NOA Approval Notice_Roopesh Mandadi 001(1)(1)_page-0001.jpg\n",
      "WARNING:tensorflow:When passing input data as arrays, do not specify `steps_per_epoch`/`steps` argument. Please use `batch_size` instead.\n",
      "FAKE  :  75.9437620639801\n",
      "REAL  :  24.056245386600494\n",
      "Anil Kumar Kushnapalli Visa (1).jpg\n",
      "WARNING:tensorflow:When passing input data as arrays, do not specify `steps_per_epoch`/`steps` argument. Please use `batch_size` instead.\n",
      "FAKE  :  64.72718119621277\n",
      "REAL  :  35.272812843322754\n",
      "Anil Kumar Kushnapalli Visa.jpg\n",
      "WARNING:tensorflow:When passing input data as arrays, do not specify `steps_per_epoch`/`steps` argument. Please use `batch_size` instead.\n",
      "FAKE  :  64.72718119621277\n",
      "REAL  :  35.272812843322754\n",
      "Copy of H1B Approval_Richika (1).jpg\n",
      "WARNING:tensorflow:When passing input data as arrays, do not specify `steps_per_epoch`/`steps` argument. Please use `batch_size` instead.\n",
      "FAKE  :  53.965359926223755\n",
      "REAL  :  46.034643054008484\n",
      "Extension-001 (1).jpg\n",
      "WARNING:tensorflow:When passing input data as arrays, do not specify `steps_per_epoch`/`steps` argument. Please use `batch_size` instead.\n",
      "FAKE  :  51.95854306221008\n",
      "REAL  :  48.04145097732544\n",
      "HARISH.JPG\n",
      "WARNING:tensorflow:When passing input data as arrays, do not specify `steps_per_epoch`/`steps` argument. Please use `batch_size` instead.\n",
      "REAL  :  53.27824950218201\n",
      "FAKE  :  46.72175347805023\n",
      "Kiran Chitrada Visa (1).jpg\n",
      "WARNING:tensorflow:When passing input data as arrays, do not specify `steps_per_epoch`/`steps` argument. Please use `batch_size` instead.\n",
      "FAKE  :  99.99523162841797\n",
      "REAL  :  0.004765218909597024\n"
     ]
    }
   ],
   "source": [
    "os.chdir(dir1)\n",
    "for i in os.listdir(dir1):\n",
    "    print(i)\n",
    "    predictions, probabilities = prediction.predictImage(i,result_count=2)\n",
    "\n",
    "    for eachPrediction, eachProbability in zip(predictions, probabilities):\n",
    "        print(eachPrediction , \" : \" , eachProbability)"
   ]
  },
  {
   "cell_type": "code",
   "execution_count": 29,
   "metadata": {},
   "outputs": [
    {
     "name": "stdout",
     "output_type": "stream",
     "text": [
      "EDGAR - VISA TN.jpg\n",
      "WARNING:tensorflow:When passing input data as arrays, do not specify `steps_per_epoch`/`steps` argument. Please use `batch_size` instead.\n",
      "FAKE  :  59.89983081817627\n",
      "REAL  :  40.10016620159149\n",
      "H1B-Sravanthi Dama.jpg\n",
      "WARNING:tensorflow:When passing input data as arrays, do not specify `steps_per_epoch`/`steps` argument. Please use `batch_size` instead.\n",
      "FAKE  :  69.33243870735168\n",
      "REAL  :  30.667558312416077\n",
      "new doc 2018-11-30 10.35.02_1.jpg\n",
      "WARNING:tensorflow:When passing input data as arrays, do not specify `steps_per_epoch`/`steps` argument. Please use `batch_size` instead.\n",
      "FAKE  :  84.27546620368958\n",
      "REAL  :  15.724529325962067\n",
      "Page-001.jpg\n",
      "WARNING:tensorflow:When passing input data as arrays, do not specify `steps_per_epoch`/`steps` argument. Please use `batch_size` instead.\n",
      "FAKE  :  56.6180944442749\n",
      "REAL  :  43.381911516189575\n",
      "Priya h1b.jpg\n",
      "WARNING:tensorflow:When passing input data as arrays, do not specify `steps_per_epoch`/`steps` argument. Please use `batch_size` instead.\n",
      "FAKE  :  67.1634316444397\n",
      "REAL  :  32.836562395095825\n"
     ]
    }
   ],
   "source": [
    "os.chdir(dir2)\n",
    "for i in os.listdir(dir2):\n",
    "    print(i)\n",
    "    predictions, probabilities = prediction.predictImage(i,result_count=2)\n",
    "\n",
    "    for eachPrediction, eachProbability in zip(predictions, probabilities):\n",
    "        print(eachPrediction , \" : \" , eachProbability)"
   ]
  },
  {
   "cell_type": "code",
   "execution_count": null,
   "metadata": {},
   "outputs": [],
   "source": []
  },
  {
   "cell_type": "code",
   "execution_count": null,
   "metadata": {},
   "outputs": [],
   "source": []
  },
  {
   "cell_type": "code",
   "execution_count": null,
   "metadata": {},
   "outputs": [],
   "source": []
  },
  {
   "cell_type": "code",
   "execution_count": null,
   "metadata": {},
   "outputs": [],
   "source": []
  }
 ],
 "metadata": {
  "kernelspec": {
   "display_name": "Python 3",
   "language": "python",
   "name": "python3"
  },
  "language_info": {
   "codemirror_mode": {
    "name": "ipython",
    "version": 3
   },
   "file_extension": ".py",
   "mimetype": "text/x-python",
   "name": "python",
   "nbconvert_exporter": "python",
   "pygments_lexer": "ipython3",
   "version": "3.7.4"
  },
  "toc": {
   "base_numbering": 1,
   "nav_menu": {},
   "number_sections": true,
   "sideBar": true,
   "skip_h1_title": false,
   "title_cell": "Table of Contents",
   "title_sidebar": "Contents",
   "toc_cell": false,
   "toc_position": {},
   "toc_section_display": true,
   "toc_window_display": false
  }
 },
 "nbformat": 4,
 "nbformat_minor": 2
}
