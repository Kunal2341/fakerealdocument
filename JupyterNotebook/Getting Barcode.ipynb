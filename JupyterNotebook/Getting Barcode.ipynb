{
 "cells": [
  {
   "cell_type": "code",
   "execution_count": 1,
   "metadata": {},
   "outputs": [],
   "source": [
    "# import the necessary packages\n",
    "import numpy as np\n",
    "import argparse\n",
    "import imutils\n",
    "import cv2\n",
    "filename = '/Users/kunal/Documents/VdartWorking/realFake/DocumentPic.PNG'"
   ]
  },
  {
   "cell_type": "code",
   "execution_count": 3,
   "metadata": {},
   "outputs": [],
   "source": [
    "# load the image and convert it to grayscale\n",
    "image = cv2.imread(filename)\n",
    "gray = cv2.cvtColor(image, cv2.COLOR_BGR2GRAY)\n",
    "# compute the Scharr gradient magnitude representation of the images\n",
    "# in both the x and y direction using OpenCV 2.4\n",
    "ddepth = cv2.cv.CV_32F if imutils.is_cv2() else cv2.CV_32F\n",
    "gradX = cv2.Sobel(gray, ddepth=ddepth, dx=1, dy=0, ksize=-1)\n",
    "gradY = cv2.Sobel(gray, ddepth=ddepth, dx=0, dy=1, ksize=-1)\n",
    "# subtract the y-gradient from the x-gradient\n",
    "gradient = cv2.subtract(gradX, gradY)\n",
    "gradient = cv2.convertScaleAbs(gradient)\n",
    "# blur and threshold the image\n",
    "blurred = cv2.blur(gradient, (9, 9))\n",
    "(_, thresh) = cv2.threshold(blurred, 225, 255, cv2.THRESH_BINARY)\n",
    "# construct a closing kernel and apply it to the thresholded image-\n",
    "kernel = cv2.getStructuringElement(cv2.MORPH_RECT, (21, 7))\n",
    "closed = cv2.morphologyEx(thresh, cv2.MORPH_CLOSE, kernel)\n",
    "# perform a series of erosions and dilations\n",
    "closed = cv2.erode(closed, None, iterations = 4)\n",
    "closed = cv2.dilate(closed, None, iterations = 4)\n",
    "# find the contours in the thresholded image, then sort the contours\n",
    "# by their area, keeping only the largest one\n",
    "cnts = cv2.findContours(closed.copy(), cv2.RETR_EXTERNAL,\n",
    "\tcv2.CHAIN_APPROX_SIMPLE)\n",
    "cnts = imutils.grab_contours(cnts)\n",
    "c = sorted(cnts, key = cv2.contourArea, reverse = True)[1]\n",
    "# compute the rotated bounding box of the largest contour\n",
    "rect = cv2.minAreaRect(c)\n",
    "box = cv2.cv.BoxPoints(rect) if imutils.is_cv2() else cv2.boxPoints(rect)\n",
    "box = np.int0(box)\n",
    "# draw a bounding box arounded the detected barcode and display the\n",
    "# image\n",
    "cv2.drawContours(image, [box], -1, (0, 255, 0), 3)\n",
    "print(box)"
   ]
  },
  {
   "cell_type": "code",
   "execution_count": 14,
   "metadata": {},
   "outputs": [
    {
     "data": {
      "text/plain": [
       "582"
      ]
     },
     "execution_count": 14,
     "metadata": {},
     "output_type": "execute_result"
    }
   ],
   "source": [
    "box [1][1]"
   ]
  },
  {
   "cell_type": "code",
   "execution_count": 5,
   "metadata": {},
   "outputs": [],
   "source": []
  },
  {
   "cell_type": "code",
   "execution_count": 6,
   "metadata": {},
   "outputs": [],
   "source": []
  },
  {
   "cell_type": "code",
   "execution_count": 7,
   "metadata": {},
   "outputs": [
    {
     "name": "stdout",
     "output_type": "stream",
     "text": [
      "[[439 627]\n",
      " [439 582]\n",
      " [573 582]\n",
      " [573 627]]\n"
     ]
    }
   ],
   "source": []
  },
  {
   "cell_type": "markdown",
   "metadata": {},
   "source": [
    "# Test Barcode --> Not Working"
   ]
  },
  {
   "cell_type": "code",
   "execution_count": null,
   "metadata": {},
   "outputs": [],
   "source": [
    "import numpy as np\n",
    "import cv2\n",
    "\n",
    "image = cv2.imread('/Users/kunal/Documents/VdartWorking/realFake/DocumentPic.PNG')\n",
    "gray = cv2.cvtColor(image, cv2.COLOR_BGR2GRAY)\n",
    "\n",
    "# equalize lighting\n",
    "clahe = cv2.createCLAHE(clipLimit=2.0, tileGridSize=(8,8))\n",
    "gray = clahe.apply(gray)\n",
    "\n",
    "# edge enhancement\n",
    "edge_enh = cv2.Laplacian(gray, ddepth = cv2.CV_8U, \n",
    "                         ksize = 3, scale = 1, delta = 0)\n",
    "cv2.imshow(\"Edges\", edge_enh)\n",
    "cv2.waitKey(0)\n",
    "retval = cv2.imwrite(\"edge_enh.jpg\", edge_enh)\n",
    "\n",
    "# bilateral blur, which keeps edges\n",
    "blurred = cv2.bilateralFilter(edge_enh, 13, 50, 50)\n",
    "\n",
    "# use simple thresholding. adaptive thresholding might be more robust\n",
    "(_, thresh) = cv2.threshold(blurred, 55, 255, cv2.THRESH_BINARY)\n",
    "cv2.imshow(\"Thresholded\", thresh)\n",
    "cv2.waitKey(0)\n",
    "retval = cv2.imwrite(\"thresh.jpg\", thresh)\n",
    "\n",
    "# do some morphology to isolate just the barcode blob\n",
    "kernel = cv2.getStructuringElement(cv2.MORPH_RECT, (9, 9))\n",
    "closed = cv2.morphologyEx(thresh, cv2.MORPH_CLOSE, kernel)\n",
    "closed = cv2.erode(closed, None, iterations = 4)\n",
    "closed = cv2.dilate(closed, None, iterations = 4)\n",
    "cv2.imshow(\"After morphology\", closed)\n",
    "cv2.waitKey(0)\n",
    "retval = cv2.imwrite(\"closed.jpg\", closed)\n",
    "\n",
    "# find contours left in the image\n",
    "cnts, _ = cv2.findContours(closed.copy(), cv2.RETR_EXTERNAL, cv2.CHAIN_APPROX_SIMPLE)\n",
    "c = sorted(cnts, key = cv2.contourArea, reverse = True)[0]\n",
    "rect = cv2.minAreaRect(c)\n",
    "box = np.int0(cv2.boxPoints(rect))\n",
    "cv2.drawContours(image, [box], -1, (0, 255, 0), 3)\n",
    "print(box)\n",
    "cv2.imshow(\"found barcode\", image)\n",
    "cv2.waitKey(0)\n",
    "retval = cv2.imwrite(\"found.jpg\", image)"
   ]
  },
  {
   "cell_type": "markdown",
   "metadata": {},
   "source": [
    "# Test Barcode --> Libary Not installed"
   ]
  },
  {
   "cell_type": "code",
   "execution_count": null,
   "metadata": {},
   "outputs": [],
   "source": [
    "import cv2, numpy\n",
    "import zbar\n",
    "from PIL import Image \n",
    "import matplotlib.pyplot as plt\n",
    "\n",
    "scanner = zbar.ImageScanner()\n",
    "pil = Image.open('/Users/kunal/Documents/VdartWorking/realFake/DocumentPic.PNG').convert('L')\n",
    "width, height = pil.size    \n",
    "plt.imshow(pil); plt.show()\n",
    "image = zbar.Image(width, height, 'Y800', pil.tobytes())\n",
    "result = scanner.scan(image)\n",
    "\n",
    "for symbol in image:\n",
    "    print (symbol.data, symbol.type, symbol.quality, symbol.location, symbol.count, symbol.orientation)"
   ]
  },
  {
   "cell_type": "markdown",
   "metadata": {},
   "source": [
    "# Test Barcode --> Not working "
   ]
  },
  {
   "cell_type": "code",
   "execution_count": null,
   "metadata": {},
   "outputs": [],
   "source": [
    "from dbr import DynamsoftBarcodeReader\n",
    " \n",
    "dbr_reader = DynamsoftBarcodeReader()\n",
    "dbr_reader.InitLicense('LICENSE-KEY') # Get the license from https://www.dynamsoft.com/CustomerPortal/Portal/Triallicense.aspx\n",
    "try:\n",
    "    params = dbr_reader.GetRuntimeSettings()\n",
    "    params[\"BarcodeFormatIds\"] = dbr_reader.BF_ALL\n",
    "    ret = dbr_reader.UpdataRuntimeSettings(params)\n",
    " \n",
    "    start = time.time()\n",
    "    dbr_results = dbr_reader.DecodeFile(filename)\n",
    "    elapsed_time = time.time() - start\n",
    "    textResults = dbr_results[\"TextResults\"]\n",
    "    resultsLength = len(textResults)\n",
    "    if resultsLength > 0:\n",
    "        for textResult in textResults:\n",
    "            print(textResult[\"BarcodeFormatString\"])\n",
    "            print('Dynamsoft Barcode Reader: {}. Elapsed time: {}ms'.format(textResult[\"BarcodeText\"], int(elapsed_time * 1000)))\n",
    " \n",
    "        #return textResults\n",
    "    else:\n",
    "        print(\"DBR failed to decode {}\".format(filename))\n",
    "except Exception as err:\n",
    "    print(\"DBR failed to decode {}\".format(filename))"
   ]
  }
 ],
 "metadata": {
  "kernelspec": {
   "display_name": "Python 3",
   "language": "python",
   "name": "python3"
  },
  "language_info": {
   "codemirror_mode": {
    "name": "ipython",
    "version": 3
   },
   "file_extension": ".py",
   "mimetype": "text/x-python",
   "name": "python",
   "nbconvert_exporter": "python",
   "pygments_lexer": "ipython3",
   "version": "3.7.4"
  }
 },
 "nbformat": 4,
 "nbformat_minor": 2
}
