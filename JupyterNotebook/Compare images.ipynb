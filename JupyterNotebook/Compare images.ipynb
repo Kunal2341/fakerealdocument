{
 "cells": [
  {
   "cell_type": "markdown",
   "metadata": {},
   "source": [
    "   #                                                   Compare files\n",
    "\n",
    "This code is very strong. \n",
    "What it does, is that it compares 2 files. The user inputs 2 files, and it out puts with a series of values and does a series of checks to compare if document is real. "
   ]
  },
  {
   "cell_type": "markdown",
   "metadata": {},
   "source": [
    "# Import the files"
   ]
  },
  {
   "cell_type": "code",
   "execution_count": null,
   "metadata": {},
   "outputs": [],
   "source": [
    "from skimage.measure import compare_ssim\n",
    "import argparse\n",
    "import imutils\n",
    "import cv2\n",
    "import matplotlib.pyplot as plt\n",
    "import numpy as np\n",
    "from PIL import Image\n",
    "%matplotlib inline\n",
    "import statistics\n",
    "from scipy import stats\n",
    "import random\n",
    "\"\"\"\n",
    "DMatch.distance - Distance between descriptors. The lower, the better it is.\n",
    "DMatch.trainIdx - Index of the descriptor in train descriptors\n",
    "\n",
    "DMatch.queryIdx - Index of the descriptor in query descriptors\n",
    "JUST NORMAL COUNT 1 TO EVERYTHING\n",
    "DMatch.imgIdx - Index of the train image.\n",
    "HAS TO BE 0 FOR BOTH M AND N\n",
    "\n",
    "\"\"\""
   ]
  },
  {
   "cell_type": "markdown",
   "metadata": {},
   "source": [
    "# FILE LOCATIONS"
   ]
  },
  {
   "cell_type": "code",
   "execution_count": null,
   "metadata": {},
   "outputs": [],
   "source": [
    "# read images\n",
    "IMAGE1NAME = '/Users/kunal/Documents/VdartWorking/SampleCopies/FakeCopies/21JAN2020/Jalal-H1-copy.jpg'\n",
    "IMAGE2NAME = '/Users/kunal/Documents/VdartWorking/SampleCopies/GenuineCopies/H1B-Anil GadePNG.PNG'\n",
    "#REAL IMAGE\n",
    "img1 = cv2.imread(IMAGE1NAME)\n",
    "x11, y11, z11 = img1.shape\n",
    "img1 = cv2.resize(img1, dsize=(698, 910), interpolation=cv2.INTER_CUBIC)\n",
    "img2 = cv2.imread(IMAGE2NAME) \n",
    "x2, y2, z2 = img2.shape\n",
    "img2 = cv2.resize(img2, dsize=(698, 910), interpolation=cv2.INTER_CUBIC)"
   ]
  },
  {
   "cell_type": "markdown",
   "metadata": {},
   "source": [
    "# Image Size"
   ]
  },
  {
   "cell_type": "markdown",
   "metadata": {},
   "source": [
    "if x11 == x2 and y11 == y2:\n",
    "    print(\"ALL OKAY, Continuing\")\n",
    "elif x11 == 910 and y11 == 698:\n",
    "    img2 = cv2.resize(img2, dsize=(698, 910), interpolation=cv2.INTER_CUBIC)\n",
    "elif x2 == 910 and y2== 698:\n",
    "    img1 = cv2.resize(img1, dsize=(698, 910), interpolation=cv2.INTER_CUBIC)"
   ]
  },
  {
   "cell_type": "code",
   "execution_count": null,
   "metadata": {
    "scrolled": true
   },
   "outputs": [],
   "source": [
    "print(\"Shape for image 1:\")\n",
    "print(x11, \" \", y11, \" \", z11)\n",
    "print(\"Shape for image 2:\")\n",
    "print(x2, \" \", y2, \" \", z2)"
   ]
  },
  {
   "cell_type": "markdown",
   "metadata": {},
   "source": [
    "# SSIM DIFFERENCE"
   ]
  },
  {
   "cell_type": "code",
   "execution_count": null,
   "metadata": {},
   "outputs": [],
   "source": [
    "imageA = img1\n",
    "imageB = img2\n"
   ]
  },
  {
   "cell_type": "code",
   "execution_count": null,
   "metadata": {},
   "outputs": [],
   "source": [
    "grayA = cv2.cvtColor(imageA, cv2.COLOR_BGR2GRAY)\n",
    "grayB = cv2.cvtColor(imageB, cv2.COLOR_BGR2GRAY)\n",
    "\n",
    "print(imageA.shape)\n",
    "print(imageB.shape)\n",
    "bigH, bigW,other = imageA.shape"
   ]
  },
  {
   "cell_type": "code",
   "execution_count": null,
   "metadata": {},
   "outputs": [],
   "source": [
    "(score, diff) = compare_ssim(grayA, grayB, full=True)\n",
    "diff = (diff * 255).astype(\"uint8\")\n",
    "print(\"SSIM: {}\".format(score))"
   ]
  },
  {
   "cell_type": "code",
   "execution_count": null,
   "metadata": {},
   "outputs": [],
   "source": [
    "# threshold the difference image, followed by finding contours to\n",
    "# obtain the regions of the two input images that differ\n",
    "thresh = cv2.threshold(diff, 0, 255,cv2.THRESH_BINARY_INV | cv2.THRESH_OTSU)[1]\n",
    "cnts = cv2.findContours(thresh.copy(), cv2.RETR_EXTERNAL,cv2.CHAIN_APPROX_SIMPLE)\n",
    "cnts = imutils.grab_contours(cnts)\n",
    "\n",
    "areaDIFFERENCE = 0\n",
    "# loop over the contours\n",
    "for c in cnts:\n",
    "    (x, y, w, h) = cv2.boundingRect(c)\n",
    "    cv2.rectangle(imageA, (x, y), (x + w, y + h), (0, 0, 255), 2)\n",
    "    cv2.rectangle(imageB, (x, y), (x + w, y + h), (0, 0, 255), 2)\n",
    "    areaDIFFERENCE += (w*h)"
   ]
  },
  {
   "cell_type": "code",
   "execution_count": null,
   "metadata": {},
   "outputs": [],
   "source": [
    "perdiff =  ((areaDIFFERENCE/(bigW*bigH))*100)\n",
    "print(\"The percent different is \", ((areaDIFFERENCE/(bigW*bigH))*100))"
   ]
  },
  {
   "cell_type": "code",
   "execution_count": null,
   "metadata": {},
   "outputs": [],
   "source": [
    "#cv2.imshow(\"Original\", imageA)\n",
    "#cv2.imshow(\"Modified\", imageB)\n",
    "#cv2.imshow(\"Diff\", diff)\n",
    "#cv2.imshow(\"Thresh\", thresh)\n",
    "#cv2.waitKey(0)\n",
    "#cv2.destroyAllWindows()"
   ]
  },
  {
   "cell_type": "code",
   "execution_count": null,
   "metadata": {},
   "outputs": [],
   "source": [
    "# OVERLAY THE IMAGE"
   ]
  },
  {
   "cell_type": "markdown",
   "metadata": {},
   "source": [
    "# Display All main points of connectors"
   ]
  },
  {
   "cell_type": "code",
   "execution_count": null,
   "metadata": {},
   "outputs": [],
   "source": [
    "gray1 = cv2.cvtColor(img1, cv2.COLOR_BGR2GRAY)\n",
    "gray2 = cv2.cvtColor(img2, cv2.COLOR_BGR2GRAY)\n",
    "\n",
    "#keypoints\n",
    "sift = cv2.xfeatures2d.SIFT_create()\n",
    "keypoints_1, descriptors_1 = sift.detectAndCompute(img1,None)\n",
    "keypoints_2, descriptors_2 = sift.detectAndCompute(img2,None)\n",
    "NUMBER_OF_KEYPOINST_IMG1 = len(keypoints_1)\n",
    "NUMBER_OF_KEYPOINST_IMG2 = len(keypoints_2)\n",
    "\n",
    "img_1 = cv2.drawKeypoints(gray1,keypoints_1,img1)\n",
    "img_2 = cv2.drawKeypoints(gray2,keypoints_2,img2)\n",
    "\n",
    "\n",
    "figure, ax = plt.subplots(1, 2, figsize=(16, 8))\n",
    "\n",
    "ax[0].imshow(img1)\n",
    "ax[1].imshow(img2)"
   ]
  },
  {
   "cell_type": "markdown",
   "metadata": {},
   "source": [
    "# Display Both Images"
   ]
  },
  {
   "cell_type": "code",
   "execution_count": null,
   "metadata": {},
   "outputs": [],
   "source": [
    "img1 = cv2.cvtColor(img1, cv2.COLOR_BGR2GRAY)\n",
    "img2 = cv2.cvtColor(img2, cv2.COLOR_BGR2GRAY)\n",
    "\n",
    "figure, ax = plt.subplots(1, 2, figsize=(16, 8))\n",
    "\n",
    "ax[0].imshow(img1, cmap='gray')\n",
    "ax[1].imshow(img2, cmap='gray')"
   ]
  },
  {
   "cell_type": "markdown",
   "metadata": {},
   "source": [
    "# All lines compare"
   ]
  },
  {
   "cell_type": "code",
   "execution_count": null,
   "metadata": {},
   "outputs": [],
   "source": [
    "\n",
    "sift = cv2.xfeatures2d.SIFT_create()\n",
    "\n",
    "keypoints_1, descriptors_1 = sift.detectAndCompute(img1,None)\n",
    "keypoints_2, descriptors_2 = sift.detectAndCompute(img2,None)\n",
    "print(len(keypoints_1), len(keypoints_2))\n",
    "\n",
    "bf = cv2.BFMatcher(cv2.NORM_L1, crossCheck=True)\n",
    "\n",
    "matches = bf.match(descriptors_1,descriptors_2)\n",
    "#print(matches)\n",
    "matches = sorted(matches, key = lambda x:x.distance)\n",
    "totalMATCHES = (len(matches))\n",
    "img3 = cv2.drawMatches(img1, keypoints_1, img2, keypoints_2, matches, img2, flags=6)#flags orginally 2 and must be even\n",
    "im = Image.fromarray(img3)\n",
    "im.save('/Users/kunal/Documents/VdartWorking/realFake/difference.png')\n",
    "fig = plt.figure(figsize=(15,15))\n",
    "plt.imshow(img3)\n",
    "plt.show()\n"
   ]
  },
  {
   "cell_type": "markdown",
   "metadata": {},
   "source": [
    "# Single line compare"
   ]
  },
  {
   "cell_type": "code",
   "execution_count": null,
   "metadata": {},
   "outputs": [],
   "source": [
    "\n",
    "sift = cv2.xfeatures2d.SIFT_create()\n",
    "# find the keypoints and descriptors with SIFT\n",
    "kp1, des1 = sift.detectAndCompute(img1,None)\n",
    "kp2, des2 = sift.detectAndCompute(img2,None)\n",
    "\n",
    "# BFMatcher with default params\n",
    "bf = cv2.BFMatcher()\n",
    "#print(des1, des2)\n",
    "matches = bf.knnMatch(des1,des2, k=2)\n",
    "\n",
    "\"\"\"\n",
    "DMatch.distance - Distance between descriptors. The lower, the better it is.\n",
    "DMatch.trainIdx - Index of the descriptor in train descriptors\n",
    "DMatch.queryIdx - Index of the descriptor in query descriptors\n",
    "DMatch.imgIdx - Index of the train image.\n",
    "\"\"\"\n",
    "\"\"\"\n",
    "# Apply ratio test\n",
    "good = []\n",
    "#print(matches)\n",
    "for m,n in matches:\n",
    "    print(m.distance)\n",
    "    print(\"             \", n.distance)\n",
    "    if m.distance < 0.75*n.distance:\n",
    "        good.append([m])\n",
    "\"\"\"\n",
    "test1 = matches[12:13]\n",
    "print(test1)\n",
    "\n",
    "img3 = cv2.drawMatchesKnn(img1,kp1,img2,kp2,matches[12:13],None,flags =2)\n",
    "\n",
    "\n",
    "\n",
    "plt.imshow(img3),plt.show()"
   ]
  },
  {
   "cell_type": "raw",
   "metadata": {},
   "source": [
    "test1 = matches[12:13]\n",
    "print(test1)\n",
    "print(len(test1))\n",
    "thing = []\n",
    "count = 0\n",
    "for i in test1:\n",
    "    for j in i:\n",
    "        print(j)\n",
    "        thing.append(j)\n",
    "arraytest1 = thing[0]\n",
    "arraytest2 = thing[1]\n",
    "print(arraytest1, \" and \", arraytest2)\n",
    "print(arraytest1.distance, \" \", arraytest2.distance)\n",
    "#print(\"-----------------------\")\n",
    "#print(matches[1:2])\n",
    "img3 = cv2.drawMatchesnn(img1,kp1,img2,kp2,matches[12:13],None,flags =2)\n",
    "\n",
    "\n",
    "\n",
    "plt.imshow(img3),plt.show()"
   ]
  },
  {
   "cell_type": "code",
   "execution_count": null,
   "metadata": {},
   "outputs": [],
   "source": [
    "im = Image.fromarray(img3)\n",
    "im"
   ]
  },
  {
   "cell_type": "code",
   "execution_count": null,
   "metadata": {},
   "outputs": [],
   "source": [
    "cv2.drawMatchesKnn.__doc__"
   ]
  },
  {
   "cell_type": "markdown",
   "metadata": {},
   "source": [
    "# Ratio threshold"
   ]
  },
  {
   "cell_type": "code",
   "execution_count": null,
   "metadata": {},
   "outputs": [],
   "source": [
    "if img1 is None or img2 is None:\n",
    "    print('Could not open or find the images!')\n",
    "    exit(0)\n",
    "#-- Step 1: Detect the keypoints using SURF Detector, compute the descriptors\n",
    "\n",
    "\n",
    "minHessian = 400\n",
    "detector = cv2.xfeatures2d_SURF.create(hessianThreshold=minHessian)\n",
    "keypoints1, descriptors1 = detector.detectAndCompute(img1, None)\n",
    "keypoints2, descriptors2 = detector.detectAndCompute(img2, None)\n",
    "#-- Step 2: Matching descriptor vectors with a FLANN based matcher\n",
    "# Since SURF is a floating-point descriptor NORM_L2 is used\n",
    "matcher = cv2.DescriptorMatcher_create(cv2.DescriptorMatcher_FLANNBASED)\n",
    "knn_matches = matcher.knnMatch(descriptors1, descriptors2, 2)\n",
    "#-- Filter matches using the Lowe's ratio test\n",
    "ratio_thresh = 0.7\n",
    "good_matches = []\n",
    "for m,n in knn_matches:\n",
    "    if m.distance < ratio_thresh * n.distance:\n",
    "        good_matches.append(m)\n",
    "print((len(good_matches)))\n",
    "#-- Draw matches\n",
    "img_matches = np.empty((max(img1.shape[0], img2.shape[0]), img1.shape[1]+img2.shape[1], 3), dtype=np.uint8)\n",
    "cv2.drawMatches(img1, keypoints1, img2, keypoints2, good_matches, img_matches, flags=cv2.DrawMatchesFlags_NOT_DRAW_SINGLE_POINTS)\n",
    "#-- Show detected matches\n",
    "#cv2.imshow('Good Matches', img_matches)\n",
    "#cv2.waitKey(0)\n",
    "#cv2.destroyAllWindows()"
   ]
  },
  {
   "cell_type": "code",
   "execution_count": null,
   "metadata": {},
   "outputs": [],
   "source": [
    "rationVALarray = []\n",
    "for i in range(0,(int((1.0/0.05)+(1)))):\n",
    "    rationVALarray.append(format((i*0.05),'.2f'))"
   ]
  },
  {
   "cell_type": "code",
   "execution_count": null,
   "metadata": {},
   "outputs": [],
   "source": [
    "lenTOTAL = []\n",
    "for i in rationVALarray:\n",
    "    good_matches=[]\n",
    "    ratio_thresh = i\n",
    "    for m,n in knn_matches:\n",
    "        if m.distance < float(ratio_thresh) * n.distance:\n",
    "            good_matches.append(m)\n",
    "    #print(i, \" \", len(good_matches))\n",
    "    lenTOTAL.append(len(good_matches))"
   ]
  },
  {
   "cell_type": "code",
   "execution_count": null,
   "metadata": {},
   "outputs": [],
   "source": [
    "img1 = cv2.imread('/Users/kunal/Documents/VdartWorking/realFake/DocumentTest.PNG')  \n",
    "img2 = cv2.imread('/Users/kunal/Documents/VdartWorking/realFake/DocumentPic.PNG') \n",
    "\n",
    "img1 = cv2.cvtColor(img1, cv2.COLOR_BGR2GRAY)\n",
    "img2 = cv2.cvtColor(img2, cv2.COLOR_BGR2GRAY)"
   ]
  },
  {
   "cell_type": "code",
   "execution_count": null,
   "metadata": {},
   "outputs": [],
   "source": [
    "fig = plt.figure(figsize=(13,13))\n",
    "plt.plot(rationVALarray, lenTOTAL, color='orange')\n",
    "plt.xlabel('Ratio Threshold')\n",
    "plt.ylabel('Output')\n",
    "plt.title('Compare Threshold Graph')\n",
    "plt.show()"
   ]
  },
  {
   "cell_type": "code",
   "execution_count": null,
   "metadata": {},
   "outputs": [],
   "source": [
    "rationVALarray = []\n",
    "for i in range(0,(int((1.0/0.05)+(1)))):\n",
    "    rationVALarray.append(format((i*0.05),'.2f'))\n",
    "aList = []\n",
    "for i in range(10):\n",
    "    minHessian = 400\n",
    "    detector = cv2.xfeatures2d_SURF.create(hessianThreshold=minHessian)\n",
    "    keypoints1, descriptors1 = detector.detectAndCompute(img1, None)\n",
    "    keypoints2, descriptors2 = detector.detectAndCompute(img2, None)\n",
    "    #-- Step 2: Matching descriptor vectors with a FLANN based matcher\n",
    "    # Since SURF is a floating-point descriptor NORM_L2 is used\n",
    "    matcher = cv2.DescriptorMatcher_create(cv2.DescriptorMatcher_FLANNBASED)\n",
    "    knn_matches = matcher.knnMatch(descriptors1, descriptors2, 2)\n",
    "    #-- Filter matches using the Lowe's ratio test \n",
    "    lenTOTAL = []\n",
    "    for i in rationVALarray:\n",
    "        good_matches=[]\n",
    "        ratio_thresh = i\n",
    "        for m,n in knn_matches:\n",
    "            if m.distance < float(ratio_thresh) * n.distance:\n",
    "                good_matches.append(m)\n",
    "        #print(i, \" \", len(good_matches))\n",
    "        lenTOTAL.append(len(good_matches))\n",
    "    #print(lenTOTAL)\n",
    "    aList.append(lenTOTAL)"
   ]
  },
  {
   "cell_type": "code",
   "execution_count": null,
   "metadata": {},
   "outputs": [],
   "source": [
    "%matplotlib inline\n",
    "fig = plt.figure(figsize=(10,10))\n",
    "colors = ['b', 'g', 'r', 'c','m' ,'y', 'k','w','g', 'r']\n",
    "for i in range(len(aList)):\n",
    "    print(aList[i])\n",
    "    plt.plot(rationVALarray, aList[i], color=colors[i])\n",
    "plt.xlabel('Ratio Threshold')\n",
    "plt.ylabel('Output')\n",
    "plt.title('Compare Threshold Graph')\n",
    "plt.show()"
   ]
  },
  {
   "cell_type": "code",
   "execution_count": null,
   "metadata": {},
   "outputs": [],
   "source": [
    "#print(aList[i])\n",
    "#count = i+1\n",
    "#for j in range(len(aList[i])):\n",
    "    #print(aList[i][count])\n",
    "#print(aList[i][i])\n",
    "totalCompare =[]\n",
    "for k in range(len(aList[0])):\n",
    "    singlecompareArray=[]\n",
    "    for i in range(len(aList)):\n",
    "        singlecompareArray.append(aList[i][k])\n",
    "    totalCompare.append(singlecompareArray)"
   ]
  },
  {
   "cell_type": "code",
   "execution_count": null,
   "metadata": {},
   "outputs": [],
   "source": [
    "dataset= aList[0]\n",
    "mean= np.mean(dataset)\n",
    "median = np.median(dataset)\n",
    "mode= stats.mode(dataset)\n",
    "\n",
    "print(\"Mean: \", mean)\n",
    "print(\"Median: \", median)\n",
    "print(\"Mode: \", mode)"
   ]
  },
  {
   "cell_type": "code",
   "execution_count": null,
   "metadata": {},
   "outputs": [],
   "source": [
    "perfectArray = []\n",
    "for i in range(len(totalCompare)):\n",
    "    perfectArray.append(statistics.median(totalCompare[i]))"
   ]
  },
  {
   "cell_type": "code",
   "execution_count": null,
   "metadata": {},
   "outputs": [],
   "source": [
    "fig = plt.figure(figsize=(13,13))\n",
    "plt.plot(rationVALarray, perfectArray, color='blue',linewidth=7.0)\n",
    "plt.xlabel('Ratio Threshold')\n",
    "plt.ylabel('Output')\n",
    "plt.title('Compare Threshold Graph')\n",
    "plt.show()"
   ]
  },
  {
   "cell_type": "code",
   "execution_count": null,
   "metadata": {},
   "outputs": [],
   "source": [
    "\"\"\"\n",
    "\n",
    "BASED ON THIS GRAPH YOU CAN SEE THAT THE AVERAGE VALUE THAT IS BEST FOR THE GRAPH WILL BE 0.64\n",
    "\n",
    "    /-------\\         --------      |       | \n",
    "    |       |         |             |       |\n",
    "    |       |         |             |       |\n",
    "    |       |         |-----\\        \\------/\n",
    "    |       |         |     |               |\n",
    "    |       |   /\\    |     |               |\n",
    "    \\-------/   \\/    |-----/               | \n",
    "\"\"\""
   ]
  },
  {
   "cell_type": "markdown",
   "metadata": {},
   "source": [
    "# FINAL RUN"
   ]
  },
  {
   "cell_type": "code",
   "execution_count": null,
   "metadata": {},
   "outputs": [],
   "source": []
  },
  {
   "cell_type": "code",
   "execution_count": null,
   "metadata": {},
   "outputs": [],
   "source": [
    "\n",
    "if img1 is None or img2 is None:\n",
    "    print('Could not open or find the images!')\n",
    "    exit(0)\n",
    "\n",
    "minHessian = 400\n",
    "detector = cv2.xfeatures2d_SURF.create(hessianThreshold=minHessian)\n",
    "keypoints1, descriptors1 = detector.detectAndCompute(img1, None)\n",
    "keypoints2, descriptors2 = detector.detectAndCompute(img2, None)\n",
    "#-- Step 2: Matching descriptor vectors with a FLANN based matcher\n",
    "# Since SURF is a floating-point descriptor NORM_L2 is used\n",
    "matcher = cv2.DescriptorMatcher_create(cv2.DescriptorMatcher_FLANNBASED)\n",
    "knn_matches = matcher.knnMatch(descriptors1, descriptors2, 2)\n",
    "#-- Filter matches using the Lowe's ratio test\n",
    "ratio_thresh = 0.64\n",
    "good_matches = []\n",
    "for m,n in knn_matches:\n",
    "    if m.distance < ratio_thresh * n.distance:\n",
    "        good_matches.append(m)\n",
    "print((len(good_matches)))\n",
    "#-- Draw matches\n",
    "img_matches = np.empty((max(img1.shape[0], img2.shape[0]), img1.shape[1]+img2.shape[1], 3), dtype=np.uint8)\n",
    "cv2.drawMatches(img1, keypoints1, img2, keypoints2, good_matches, img_matches, flags=cv2.DrawMatchesFlags_NOT_DRAW_SINGLE_POINTS)\n",
    "#-- Show detected matches\n",
    "im = Image.fromarray(img3)\n",
    "im.save('/Users/kunal/Documents/VdartWorking/realFake/FINALWORKINGIMAGEPT1.png')\n",
    "fig = plt.figure(figsize=(15,15))\n",
    "plt.imshow(img3)\n",
    "plt.show()\n",
    "NUMEBROFMATCHESRATIOTEST = len(good_matches)"
   ]
  },
  {
   "cell_type": "code",
   "execution_count": null,
   "metadata": {},
   "outputs": [],
   "source": [
    "sift = cv2.xfeatures2d.SIFT_create()\n",
    "# find the keypoints and descriptors with SIFT\n",
    "kp1, des1 = sift.detectAndCompute(img1,None)\n",
    "kp2, des2 = sift.detectAndCompute(img2,None)\n",
    "\n",
    "# BFMatcher with default params\n",
    "bf = cv2.BFMatcher()\n",
    "#print(des1, des2)\n",
    "matches = bf.knnMatch(des1,des2, k=2)\n",
    "\n",
    "\n",
    "#85\n",
    "# Apply ratio test\n",
    "good = []\n",
    "for m,n in matches:\n",
    "    if m.distance < 87:\n",
    "        good.append([m])\n",
    "    if n.distance < 87:\n",
    "        good.append([n])\n",
    "img3 = cv2.drawMatchesKnn(img1,kp1,img2,kp2,good,None,flags =2)\n",
    "\n",
    "im = Image.fromarray(img3)\n",
    "im.save('/Users/kunal/Documents/VdartWorking/realFake/FINALWORKINGIMAGEPT2.png')\n",
    "fig = plt.figure(figsize=(15,15))\n",
    "plt.imshow(img3)\n",
    "plt.show()\n",
    "NUMEBROFMATCHESDISTANCETEST = len(good)"
   ]
  },
  {
   "cell_type": "markdown",
   "metadata": {},
   "source": [
    "# OUTPUT"
   ]
  },
  {
   "cell_type": "code",
   "execution_count": null,
   "metadata": {
    "scrolled": true
   },
   "outputs": [],
   "source": [
    "print(\"**************************\")\n",
    "print(IMAGE1NAME)\n",
    "print(IMAGE2NAME)\n",
    "print(\"**************************\")\n",
    "print(\"IMAGE 1 is FAKE\")\n",
    "print(\"IMAGE 2 is REAL\")\n",
    "print(\"**************************\")\n",
    "print(\"Shape of image 1 is \")\n",
    "print(x11, \" \", y11, \" \", z11)\n",
    "print(\"Shape of image 2 is\")\n",
    "print(x2, \" \", y2, \" \", z2)\n",
    "print(\"**************************\")\n",
    "print(\"The SSIM score is \")\n",
    "print(score)\n",
    "print(\"**************************\")\n",
    "print(\"The Percent Difference is\")\n",
    "print(perdiff)\n",
    "print(\"**************************\")\n",
    "print(\"The number of key points in image 1 is\")\n",
    "print(NUMBER_OF_KEYPOINST_IMG1)\n",
    "print(\"The number of key points in image 2 is\")\n",
    "print(NUMBER_OF_KEYPOINST_IMG2)\n",
    "print(\"**************************\")\n",
    "print(\"The total number of matches is\")\n",
    "print(totalMATCHES)\n",
    "print(\"**************************\")\n",
    "print(\"Number of matches for the distance test is\", NUMEBROFMATCHESDISTANCETEST)\n",
    "print(\"Number of matches for the ratio test is\", NUMEBROFMATCHESRATIOTEST)"
   ]
  },
  {
   "cell_type": "code",
   "execution_count": null,
   "metadata": {},
   "outputs": [],
   "source": [
    "trueCount = 0\n",
    "falseCount = 0\n",
    "if score > 0.285:\n",
    "    trueCount += 1\n",
    "#not using percent difference"
   ]
  },
  {
   "cell_type": "markdown",
   "metadata": {},
   "source": [
    "## Output - FALSE"
   ]
  },
  {
   "cell_type": "raw",
   "metadata": {},
   "source": [
    "**************************\n",
    "/Users/kunal/Documents/VdartWorking/SampleCopies/FakeCopies/25NOV2019/Nageswara_H1BPNG.PNG\n",
    "/Users/kunal/Documents/VdartWorking/SampleCopies/GenuineCopies/H1 2020PNG.PNG\n",
    "**************************\n",
    "IMAGE 1 is FAKE\n",
    "IMAGE 2 is REAL\n",
    "**************************\n",
    "Shape of image 1 is \n",
    "1735   1341   3\n",
    "Shape of image 2 is\n",
    "1753   1345   3\n",
    "**************************\n",
    "The SSIM score is \n",
    "0.2508057448172132\n",
    "**************************\n",
    "The Percent Difference is\n",
    "97.31398973519318\n",
    "**************************\n",
    "The number of key points in image 1 is\n",
    "6075\n",
    "The number of key points in image 2 is\n",
    "5342\n",
    "**************************\n",
    "The total number of matches is\n",
    "4285\n",
    "**************************\n",
    "Number of matches for the distance test is 232\n",
    "Number of matches for the ratio test is 471"
   ]
  },
  {
   "cell_type": "raw",
   "metadata": {},
   "source": [
    "**************************\n",
    "/Users/kunal/Documents/VdartWorking/SampleCopies/FakeCopies/25NOV2019/Jalal-H1-copy.jpg\n",
    "/Users/kunal/Documents/VdartWorking/SampleCopies/GenuineCopies/H1 2020PNG.PNG\n",
    "**************************\n",
    "IMAGE 1 is FAKE\n",
    "IMAGE 2 is REAL\n",
    "**************************\n",
    "Shape of image 1 is \n",
    "3231   2478   3\n",
    "Shape of image 2 is\n",
    "1753   1345   3\n",
    "**************************\n",
    "The SSIM score is \n",
    "0.18430654291047846\n",
    "**************************\n",
    "The Percent Difference is\n",
    "102.05579520765767\n",
    "**************************\n",
    "The number of key points in image 1 is\n",
    "5946\n",
    "The number of key points in image 2 is\n",
    "5227\n",
    "**************************\n",
    "The total number of matches is\n",
    "4120\n",
    "**************************\n",
    "Number of matches for the distance test is 232\n",
    "Number of matches for the ratio test is 468"
   ]
  },
  {
   "cell_type": "raw",
   "metadata": {},
   "source": [
    "## Output - TRUE\n"
   ]
  },
  {
   "cell_type": "raw",
   "metadata": {},
   "source": [
    "**************************\n",
    "/Users/kunal/Documents/VdartWorking/SampleCopies/GenuineCopies/H1B - Tushar Sharad Part 1PNG.PNG\n",
    "/Users/kunal/Documents/VdartWorking/SampleCopies/GenuineCopies/H1B-Anil GadePNG.PNG\n",
    "**************************\n",
    "IMAGE 1 is FAKE\n",
    "IMAGE 2 is REAL\n",
    "**************************\n",
    "Shape of image 1 is \n",
    "1645   1273   3\n",
    "Shape of image 2 is\n",
    "1738   1335   3\n",
    "**************************\n",
    "The SSIM score is \n",
    "0.3174699704501841\n",
    "**************************\n",
    "The Percent Difference is\n",
    "196.4350262917598\n",
    "**************************\n",
    "The number of key points in image 1 is\n",
    "5633\n",
    "The number of key points in image 2 is\n",
    "5324\n",
    "**************************\n",
    "The total number of matches is\n",
    "4092\n",
    "**************************\n",
    "Number of matches for the distance test is 232\n",
    "Number of matches for the ratio test is 464"
   ]
  },
  {
   "cell_type": "raw",
   "metadata": {},
   "source": [
    "**************************\n",
    "/Users/kunal/Documents/VdartWorking/SampleCopies/GenuineCopies/Santosh Approval NoticePNG.PNG\n",
    "/Users/kunal/Documents/VdartWorking/SampleCopies/GenuineCopies/H1 2020PNG.PNG\n",
    "**************************\n",
    "IMAGE 1 is FAKE\n",
    "IMAGE 2 is REAL\n",
    "**************************\n",
    "Shape of image 1 is \n",
    "1737   1347   3\n",
    "Shape of image 2 is\n",
    "1753   1345   3\n",
    "**************************\n",
    "The SSIM score is \n",
    "0.36586077299363057\n",
    "**************************\n",
    "The Percent Difference is\n",
    "100.43467993324727\n",
    "**************************\n",
    "The number of key points in image 1 is\n",
    "5665\n",
    "The number of key points in image 2 is\n",
    "5482\n",
    "**************************\n",
    "The total number of matches is\n",
    "4317\n",
    "**************************\n",
    "Number 2of matches for the distance test is 232\n",
    "Number of matches for the ratio test is 4743"
   ]
  },
  {
   "cell_type": "code",
   "execution_count": null,
   "metadata": {},
   "outputs": [],
   "source": []
  }
 ],
 "metadata": {
  "kernelspec": {
   "display_name": "Python 3",
   "language": "python",
   "name": "python3"
  },
  "language_info": {
   "codemirror_mode": {
    "name": "ipython",
    "version": 3
   },
   "file_extension": ".py",
   "mimetype": "text/x-python",
   "name": "python",
   "nbconvert_exporter": "python",
   "pygments_lexer": "ipython3",
   "version": "3.7.4"
  },
  "toc": {
   "base_numbering": 1,
   "nav_menu": {},
   "number_sections": true,
   "sideBar": true,
   "skip_h1_title": false,
   "title_cell": "Table of Contents",
   "title_sidebar": "Contents",
   "toc_cell": false,
   "toc_position": {
    "height": "505.455px",
    "left": "1231.36px",
    "top": "111.091px",
    "width": "165px"
   },
   "toc_section_display": true,
   "toc_window_display": true
  }
 },
 "nbformat": 4,
 "nbformat_minor": 2
}
