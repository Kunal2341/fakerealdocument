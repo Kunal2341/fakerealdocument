{
 "cells": [
  {
   "cell_type": "code",
   "execution_count": 14,
   "metadata": {},
   "outputs": [],
   "source": [
    "dir1 = \"/Users/kunal/Documents/VdartWorking/NEWDOCUMENTS/Working/Genuine/\"\n",
    "dir2 = \"/Users/kunal/Documents/VdartWorking/NEWDOCUMENTS/Working/Questionable/\"\n",
    "dir3 = \"/Users/kunal/Documents/VdartWorking/NEWDOCUMENTS/Working/\""
   ]
  },
  {
   "cell_type": "code",
   "execution_count": 15,
   "metadata": {},
   "outputs": [],
   "source": [
    "NUM = 16"
   ]
  },
  {
   "cell_type": "code",
   "execution_count": 16,
   "metadata": {},
   "outputs": [],
   "source": [
    "import os\n",
    "import shutil\n",
    "import datetime\n",
    "import random\n",
    "from shutil import copy"
   ]
  },
  {
   "cell_type": "code",
   "execution_count": 17,
   "metadata": {},
   "outputs": [],
   "source": [
    "d = datetime.datetime.today()\n",
    "d = str(d)\n",
    "r = str(random.randint(1,100))\n",
    "d = d[5:10]\n",
    "final = \"testFINALCOLAB_\"+d+\"_\"+r"
   ]
  },
  {
   "cell_type": "code",
   "execution_count": 18,
   "metadata": {},
   "outputs": [
    {
     "data": {
      "text/plain": [
       "'testFINALCOLAB_04-05_54'"
      ]
     },
     "execution_count": 18,
     "metadata": {},
     "output_type": "execute_result"
    }
   ],
   "source": [
    "final"
   ]
  },
  {
   "cell_type": "code",
   "execution_count": 19,
   "metadata": {},
   "outputs": [],
   "source": [
    "os.chdir(dir3)\n",
    "name_file = dir3+final\n",
    "os.mkdir(name_file)\n",
    "os.chdir(name_file)"
   ]
  },
  {
   "cell_type": "code",
   "execution_count": 20,
   "metadata": {},
   "outputs": [
    {
     "name": "stdout",
     "output_type": "stream",
     "text": [
      "/Users/kunal/Documents/VdartWorking/NEWDOCUMENTS/Working/Genuine/19ORI13  Bharat kumar PATIBANDLA H-1B  Approval Notice (50206) (1).pdf\n",
      "/Users/kunal/Documents/VdartWorking/NEWDOCUMENTS/Working/Genuine/3590_001-manikandan.pdf\n",
      "/Users/kunal/Documents/VdartWorking/NEWDOCUMENTS/Working/Genuine/Bharath Kontham H1b.pdf\n",
      "/Users/kunal/Documents/VdartWorking/NEWDOCUMENTS/Working/Genuine/H1B Approval Notice- Anusha (1).pdf\n",
      "/Users/kunal/Documents/VdartWorking/NEWDOCUMENTS/Working/Genuine/H1b Copy - Abhishek Chilupuri.pdf\n",
      "/Users/kunal/Documents/VdartWorking/NEWDOCUMENTS/Working/Genuine/H1B-Anil Gade.pdf\n",
      "/Users/kunal/Documents/VdartWorking/NEWDOCUMENTS/Working/Genuine/H1B-Raghu Rama Krishan chennaverggala.pdf\n",
      "/Users/kunal/Documents/VdartWorking/NEWDOCUMENTS/Working/Genuine/H1B-Sri Vamsi Jyothi Uppu.pdf\n",
      "/Users/kunal/Documents/VdartWorking/NEWDOCUMENTS/Working/Genuine/H1B_Shobha_Patnam_09302020.pdf\n",
      "/Users/kunal/Documents/VdartWorking/NEWDOCUMENTS/Working/Genuine/Kankanala - H-1B Approval.pdf\n",
      "/Users/kunal/Documents/VdartWorking/NEWDOCUMENTS/Working/Genuine/MulaRameswaraReddy_I797.pdf\n",
      "/Users/kunal/Documents/VdartWorking/NEWDOCUMENTS/Working/Genuine/Navajeevan I797 Approval.pdf\n",
      "/Users/kunal/Documents/VdartWorking/NEWDOCUMENTS/Working/Genuine/Priyanka H1 copy.pdf\n",
      "/Users/kunal/Documents/VdartWorking/NEWDOCUMENTS/Working/Genuine/Srinivas-H1b.pdf\n",
      "/Users/kunal/Documents/VdartWorking/NEWDOCUMENTS/Working/Genuine/THALLA Sudeep Raj H1b.pdf\n"
     ]
    }
   ],
   "source": [
    "for i in os.listdir(dir1):\n",
    "    rand = random.randint(1,NUM)\n",
    "    if rand == 1:\n",
    "        file = dir1+i\n",
    "        if file.endswith(\".pdf\"):\n",
    "            print(file)\n",
    "            copy(file, name_file)"
   ]
  },
  {
   "cell_type": "code",
   "execution_count": 21,
   "metadata": {},
   "outputs": [
    {
     "name": "stdout",
     "output_type": "stream",
     "text": [
      "/Users/kunal/Documents/VdartWorking/NEWDOCUMENTS/Working/testFINALCOLAB_04-05_54/GENUINE_1.pdf\n",
      "/Users/kunal/Documents/VdartWorking/NEWDOCUMENTS/Working/testFINALCOLAB_04-05_54/GENUINE_2.pdf\n",
      "/Users/kunal/Documents/VdartWorking/NEWDOCUMENTS/Working/testFINALCOLAB_04-05_54/GENUINE_3.pdf\n",
      "/Users/kunal/Documents/VdartWorking/NEWDOCUMENTS/Working/testFINALCOLAB_04-05_54/GENUINE_4.pdf\n",
      "/Users/kunal/Documents/VdartWorking/NEWDOCUMENTS/Working/testFINALCOLAB_04-05_54/GENUINE_5.pdf\n",
      "/Users/kunal/Documents/VdartWorking/NEWDOCUMENTS/Working/testFINALCOLAB_04-05_54/GENUINE_6.pdf\n",
      "/Users/kunal/Documents/VdartWorking/NEWDOCUMENTS/Working/testFINALCOLAB_04-05_54/GENUINE_7.pdf\n",
      "/Users/kunal/Documents/VdartWorking/NEWDOCUMENTS/Working/testFINALCOLAB_04-05_54/GENUINE_8.pdf\n",
      "/Users/kunal/Documents/VdartWorking/NEWDOCUMENTS/Working/testFINALCOLAB_04-05_54/GENUINE_9.pdf\n",
      "/Users/kunal/Documents/VdartWorking/NEWDOCUMENTS/Working/testFINALCOLAB_04-05_54/GENUINE_10.pdf\n",
      "/Users/kunal/Documents/VdartWorking/NEWDOCUMENTS/Working/testFINALCOLAB_04-05_54/GENUINE_11.pdf\n",
      "/Users/kunal/Documents/VdartWorking/NEWDOCUMENTS/Working/testFINALCOLAB_04-05_54/GENUINE_12.pdf\n",
      "/Users/kunal/Documents/VdartWorking/NEWDOCUMENTS/Working/testFINALCOLAB_04-05_54/GENUINE_13.pdf\n",
      "/Users/kunal/Documents/VdartWorking/NEWDOCUMENTS/Working/testFINALCOLAB_04-05_54/GENUINE_14.pdf\n",
      "/Users/kunal/Documents/VdartWorking/NEWDOCUMENTS/Working/testFINALCOLAB_04-05_54/GENUINE_15.pdf\n"
     ]
    }
   ],
   "source": [
    "count = 1\n",
    "for i in os.listdir(name_file):\n",
    "    file = name_file+\"/\"+i\n",
    "    newname = name_file+\"/\"+\"GENUINE_\"+str(count)+\".pdf\"\n",
    "    os.rename(file, newname)\n",
    "    print(newname)\n",
    "    count+=1"
   ]
  },
  {
   "cell_type": "code",
   "execution_count": 22,
   "metadata": {},
   "outputs": [
    {
     "name": "stdout",
     "output_type": "stream",
     "text": [
      "/Users/kunal/Documents/VdartWorking/NEWDOCUMENTS/Working/Questionable/abhilash1.pdf\n",
      "/Users/kunal/Documents/VdartWorking/NEWDOCUMENTS/Working/Questionable/AVINASH H1 (1).pdf\n",
      "/Users/kunal/Documents/VdartWorking/NEWDOCUMENTS/Working/Questionable/Harish Vemula H1B (1).pdf\n",
      "/Users/kunal/Documents/VdartWorking/NEWDOCUMENTS/Working/Questionable/i797 Shridhar Kotbagi.pdf\n",
      "/Users/kunal/Documents/VdartWorking/NEWDOCUMENTS/Working/Questionable/I797_Swetha Bindu_Kongara_Visa_current.pdf\n",
      "/Users/kunal/Documents/VdartWorking/NEWDOCUMENTS/Working/Questionable/Mayur H1B Copy (1).pdf\n",
      "/Users/kunal/Documents/VdartWorking/NEWDOCUMENTS/Working/Questionable/Meenakshi Sri Venkateswaran H1B.pdf\n",
      "/Users/kunal/Documents/VdartWorking/NEWDOCUMENTS/Working/Questionable/MODI H1B 3b staffing.pdf\n",
      "/Users/kunal/Documents/VdartWorking/NEWDOCUMENTS/Working/Questionable/PATEL TEJASH BHUPENDRABHAI.pdf\n",
      "/Users/kunal/Documents/VdartWorking/NEWDOCUMENTS/Working/Questionable/Rajasekhar - H1B (1).pdf\n",
      "/Users/kunal/Documents/VdartWorking/NEWDOCUMENTS/Working/Questionable/Rajasekhar - H1B.pdf\n",
      "/Users/kunal/Documents/VdartWorking/NEWDOCUMENTS/Working/Questionable/Tarun H1B.pdf\n",
      "/Users/kunal/Documents/VdartWorking/NEWDOCUMENTS/Working/Questionable/Venkata_Visa Copy (1).pdf\n"
     ]
    }
   ],
   "source": [
    "os.chdir(dir2)\n",
    "for i in os.listdir(dir2):\n",
    "    rand = random.randint(1,NUM)\n",
    "    if rand == 1:\n",
    "        file = dir2+i\n",
    "        if file.endswith(\".pdf\"):\n",
    "            print(file)\n",
    "            copy(file, name_file)"
   ]
  },
  {
   "cell_type": "code",
   "execution_count": 23,
   "metadata": {},
   "outputs": [
    {
     "name": "stdout",
     "output_type": "stream",
     "text": [
      "/Users/kunal/Documents/VdartWorking/NEWDOCUMENTS/Working/testFINALCOLAB_04-05_54/FAKE_1.pdf\n",
      "/Users/kunal/Documents/VdartWorking/NEWDOCUMENTS/Working/testFINALCOLAB_04-05_54/FAKE_2.pdf\n",
      "/Users/kunal/Documents/VdartWorking/NEWDOCUMENTS/Working/testFINALCOLAB_04-05_54/FAKE_3.pdf\n",
      "/Users/kunal/Documents/VdartWorking/NEWDOCUMENTS/Working/testFINALCOLAB_04-05_54/FAKE_4.pdf\n",
      "/Users/kunal/Documents/VdartWorking/NEWDOCUMENTS/Working/testFINALCOLAB_04-05_54/FAKE_5.pdf\n",
      "/Users/kunal/Documents/VdartWorking/NEWDOCUMENTS/Working/testFINALCOLAB_04-05_54/FAKE_6.pdf\n",
      "/Users/kunal/Documents/VdartWorking/NEWDOCUMENTS/Working/testFINALCOLAB_04-05_54/FAKE_7.pdf\n",
      "/Users/kunal/Documents/VdartWorking/NEWDOCUMENTS/Working/testFINALCOLAB_04-05_54/FAKE_8.pdf\n",
      "/Users/kunal/Documents/VdartWorking/NEWDOCUMENTS/Working/testFINALCOLAB_04-05_54/FAKE_9.pdf\n",
      "/Users/kunal/Documents/VdartWorking/NEWDOCUMENTS/Working/testFINALCOLAB_04-05_54/FAKE_10.pdf\n",
      "/Users/kunal/Documents/VdartWorking/NEWDOCUMENTS/Working/testFINALCOLAB_04-05_54/FAKE_11.pdf\n",
      "/Users/kunal/Documents/VdartWorking/NEWDOCUMENTS/Working/testFINALCOLAB_04-05_54/FAKE_12.pdf\n",
      "/Users/kunal/Documents/VdartWorking/NEWDOCUMENTS/Working/testFINALCOLAB_04-05_54/FAKE_13.pdf\n"
     ]
    }
   ],
   "source": [
    "count = 1\n",
    "for i in os.listdir(name_file):\n",
    "    if not i.startswith(\"GENUINE_\"):\n",
    "        file = name_file+\"/\"+i\n",
    "        newname = name_file+\"/\"+\"FAKE_\"+str(count)+\".pdf\"\n",
    "        os.rename(file, newname)\n",
    "        print(newname)\n",
    "        count+=1"
   ]
  },
  {
   "cell_type": "code",
   "execution_count": 24,
   "metadata": {},
   "outputs": [
    {
     "data": {
      "text/plain": [
       "'/Users/kunal/Documents/VdartWorking/NEWDOCUMENTS/Working/testFINALCOLAB_04-05_54/FAKE_13.pdf'"
      ]
     },
     "execution_count": 24,
     "metadata": {},
     "output_type": "execute_result"
    }
   ],
   "source": [
    "newname"
   ]
  },
  {
   "cell_type": "code",
   "execution_count": null,
   "metadata": {},
   "outputs": [],
   "source": []
  },
  {
   "cell_type": "code",
   "execution_count": null,
   "metadata": {},
   "outputs": [],
   "source": []
  },
  {
   "cell_type": "code",
   "execution_count": null,
   "metadata": {},
   "outputs": [],
   "source": []
  },
  {
   "cell_type": "code",
   "execution_count": 28,
   "metadata": {},
   "outputs": [
    {
     "data": {
      "text/plain": [
       "['/Users/kunal/Documents/VdartWorking/NEWDOCUMENTS/Working/testFINALCOLAB_04-05_54/FAKE_1.jpg',\n",
       " '/Users/kunal/Documents/VdartWorking/NEWDOCUMENTS/Working/testFINALCOLAB_04-05_54/FAKE_1.pdf',\n",
       " '/Users/kunal/Documents/VdartWorking/NEWDOCUMENTS/Working/testFINALCOLAB_04-05_54/FAKE_10.jpg',\n",
       " '/Users/kunal/Documents/VdartWorking/NEWDOCUMENTS/Working/testFINALCOLAB_04-05_54/FAKE_10.pdf',\n",
       " '/Users/kunal/Documents/VdartWorking/NEWDOCUMENTS/Working/testFINALCOLAB_04-05_54/FAKE_11.jpg',\n",
       " '/Users/kunal/Documents/VdartWorking/NEWDOCUMENTS/Working/testFINALCOLAB_04-05_54/FAKE_11.pdf',\n",
       " '/Users/kunal/Documents/VdartWorking/NEWDOCUMENTS/Working/testFINALCOLAB_04-05_54/FAKE_12.jpg',\n",
       " '/Users/kunal/Documents/VdartWorking/NEWDOCUMENTS/Working/testFINALCOLAB_04-05_54/FAKE_12.pdf',\n",
       " '/Users/kunal/Documents/VdartWorking/NEWDOCUMENTS/Working/testFINALCOLAB_04-05_54/FAKE_13.jpg',\n",
       " '/Users/kunal/Documents/VdartWorking/NEWDOCUMENTS/Working/testFINALCOLAB_04-05_54/FAKE_13.pdf',\n",
       " '/Users/kunal/Documents/VdartWorking/NEWDOCUMENTS/Working/testFINALCOLAB_04-05_54/FAKE_2.jpg',\n",
       " '/Users/kunal/Documents/VdartWorking/NEWDOCUMENTS/Working/testFINALCOLAB_04-05_54/FAKE_2.pdf',\n",
       " '/Users/kunal/Documents/VdartWorking/NEWDOCUMENTS/Working/testFINALCOLAB_04-05_54/FAKE_3.jpg',\n",
       " '/Users/kunal/Documents/VdartWorking/NEWDOCUMENTS/Working/testFINALCOLAB_04-05_54/FAKE_3.pdf',\n",
       " '/Users/kunal/Documents/VdartWorking/NEWDOCUMENTS/Working/testFINALCOLAB_04-05_54/FAKE_4.jpg',\n",
       " '/Users/kunal/Documents/VdartWorking/NEWDOCUMENTS/Working/testFINALCOLAB_04-05_54/FAKE_4.pdf',\n",
       " '/Users/kunal/Documents/VdartWorking/NEWDOCUMENTS/Working/testFINALCOLAB_04-05_54/FAKE_5.jpg',\n",
       " '/Users/kunal/Documents/VdartWorking/NEWDOCUMENTS/Working/testFINALCOLAB_04-05_54/FAKE_5.pdf',\n",
       " '/Users/kunal/Documents/VdartWorking/NEWDOCUMENTS/Working/testFINALCOLAB_04-05_54/FAKE_6.jpg',\n",
       " '/Users/kunal/Documents/VdartWorking/NEWDOCUMENTS/Working/testFINALCOLAB_04-05_54/FAKE_6.pdf',\n",
       " '/Users/kunal/Documents/VdartWorking/NEWDOCUMENTS/Working/testFINALCOLAB_04-05_54/FAKE_7.jpg',\n",
       " '/Users/kunal/Documents/VdartWorking/NEWDOCUMENTS/Working/testFINALCOLAB_04-05_54/FAKE_7.pdf',\n",
       " '/Users/kunal/Documents/VdartWorking/NEWDOCUMENTS/Working/testFINALCOLAB_04-05_54/FAKE_8.jpg',\n",
       " '/Users/kunal/Documents/VdartWorking/NEWDOCUMENTS/Working/testFINALCOLAB_04-05_54/FAKE_8.pdf',\n",
       " '/Users/kunal/Documents/VdartWorking/NEWDOCUMENTS/Working/testFINALCOLAB_04-05_54/FAKE_9.jpg',\n",
       " '/Users/kunal/Documents/VdartWorking/NEWDOCUMENTS/Working/testFINALCOLAB_04-05_54/FAKE_9.pdf',\n",
       " '/Users/kunal/Documents/VdartWorking/NEWDOCUMENTS/Working/testFINALCOLAB_04-05_54/GENUINE_1.jpg',\n",
       " '/Users/kunal/Documents/VdartWorking/NEWDOCUMENTS/Working/testFINALCOLAB_04-05_54/GENUINE_1.pdf',\n",
       " '/Users/kunal/Documents/VdartWorking/NEWDOCUMENTS/Working/testFINALCOLAB_04-05_54/GENUINE_10.jpg',\n",
       " '/Users/kunal/Documents/VdartWorking/NEWDOCUMENTS/Working/testFINALCOLAB_04-05_54/GENUINE_10.pdf',\n",
       " '/Users/kunal/Documents/VdartWorking/NEWDOCUMENTS/Working/testFINALCOLAB_04-05_54/GENUINE_11.jpg',\n",
       " '/Users/kunal/Documents/VdartWorking/NEWDOCUMENTS/Working/testFINALCOLAB_04-05_54/GENUINE_11.pdf',\n",
       " '/Users/kunal/Documents/VdartWorking/NEWDOCUMENTS/Working/testFINALCOLAB_04-05_54/GENUINE_12.jpg',\n",
       " '/Users/kunal/Documents/VdartWorking/NEWDOCUMENTS/Working/testFINALCOLAB_04-05_54/GENUINE_12.pdf',\n",
       " '/Users/kunal/Documents/VdartWorking/NEWDOCUMENTS/Working/testFINALCOLAB_04-05_54/GENUINE_13.jpg',\n",
       " '/Users/kunal/Documents/VdartWorking/NEWDOCUMENTS/Working/testFINALCOLAB_04-05_54/GENUINE_13.pdf',\n",
       " '/Users/kunal/Documents/VdartWorking/NEWDOCUMENTS/Working/testFINALCOLAB_04-05_54/GENUINE_14.jpg',\n",
       " '/Users/kunal/Documents/VdartWorking/NEWDOCUMENTS/Working/testFINALCOLAB_04-05_54/GENUINE_14.pdf',\n",
       " '/Users/kunal/Documents/VdartWorking/NEWDOCUMENTS/Working/testFINALCOLAB_04-05_54/GENUINE_15.jpg',\n",
       " '/Users/kunal/Documents/VdartWorking/NEWDOCUMENTS/Working/testFINALCOLAB_04-05_54/GENUINE_15.pdf',\n",
       " '/Users/kunal/Documents/VdartWorking/NEWDOCUMENTS/Working/testFINALCOLAB_04-05_54/GENUINE_2.jpg',\n",
       " '/Users/kunal/Documents/VdartWorking/NEWDOCUMENTS/Working/testFINALCOLAB_04-05_54/GENUINE_2.pdf',\n",
       " '/Users/kunal/Documents/VdartWorking/NEWDOCUMENTS/Working/testFINALCOLAB_04-05_54/GENUINE_3.jpg',\n",
       " '/Users/kunal/Documents/VdartWorking/NEWDOCUMENTS/Working/testFINALCOLAB_04-05_54/GENUINE_3.pdf',\n",
       " '/Users/kunal/Documents/VdartWorking/NEWDOCUMENTS/Working/testFINALCOLAB_04-05_54/GENUINE_4.jpg',\n",
       " '/Users/kunal/Documents/VdartWorking/NEWDOCUMENTS/Working/testFINALCOLAB_04-05_54/GENUINE_4.pdf',\n",
       " '/Users/kunal/Documents/VdartWorking/NEWDOCUMENTS/Working/testFINALCOLAB_04-05_54/GENUINE_5.jpg',\n",
       " '/Users/kunal/Documents/VdartWorking/NEWDOCUMENTS/Working/testFINALCOLAB_04-05_54/GENUINE_5.pdf',\n",
       " '/Users/kunal/Documents/VdartWorking/NEWDOCUMENTS/Working/testFINALCOLAB_04-05_54/GENUINE_6.jpg',\n",
       " '/Users/kunal/Documents/VdartWorking/NEWDOCUMENTS/Working/testFINALCOLAB_04-05_54/GENUINE_6.pdf',\n",
       " '/Users/kunal/Documents/VdartWorking/NEWDOCUMENTS/Working/testFINALCOLAB_04-05_54/GENUINE_7.jpg',\n",
       " '/Users/kunal/Documents/VdartWorking/NEWDOCUMENTS/Working/testFINALCOLAB_04-05_54/GENUINE_7.pdf',\n",
       " '/Users/kunal/Documents/VdartWorking/NEWDOCUMENTS/Working/testFINALCOLAB_04-05_54/GENUINE_8.jpg',\n",
       " '/Users/kunal/Documents/VdartWorking/NEWDOCUMENTS/Working/testFINALCOLAB_04-05_54/GENUINE_8.pdf',\n",
       " '/Users/kunal/Documents/VdartWorking/NEWDOCUMENTS/Working/testFINALCOLAB_04-05_54/GENUINE_9.jpg',\n",
       " '/Users/kunal/Documents/VdartWorking/NEWDOCUMENTS/Working/testFINALCOLAB_04-05_54/GENUINE_9.pdf']"
      ]
     },
     "execution_count": 28,
     "metadata": {},
     "output_type": "execute_result"
    }
   ],
   "source": [
    "nameofFiles = []\n",
    "dir1 = '/Users/kunal/Documents/VdartWorking/NEWDOCUMENTS/Working/testFINALCOLAB_04-05_54/'\n",
    "for i in os.listdir(dir1):\n",
    "    nameofFiles.append(dir1+i)\n",
    "sorted(nameofFiles)"
   ]
  },
  {
   "cell_type": "code",
   "execution_count": null,
   "metadata": {},
   "outputs": [],
   "source": []
  }
 ],
 "metadata": {
  "kernelspec": {
   "display_name": "Python 3",
   "language": "python",
   "name": "python3"
  },
  "language_info": {
   "codemirror_mode": {
    "name": "ipython",
    "version": 3
   },
   "file_extension": ".py",
   "mimetype": "text/x-python",
   "name": "python",
   "nbconvert_exporter": "python",
   "pygments_lexer": "ipython3",
   "version": "3.7.4"
  },
  "toc": {
   "base_numbering": 1,
   "nav_menu": {},
   "number_sections": true,
   "sideBar": true,
   "skip_h1_title": false,
   "title_cell": "Table of Contents",
   "title_sidebar": "Contents",
   "toc_cell": false,
   "toc_position": {},
   "toc_section_display": true,
   "toc_window_display": false
  }
 },
 "nbformat": 4,
 "nbformat_minor": 2
}
