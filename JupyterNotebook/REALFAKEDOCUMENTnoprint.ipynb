{
 "cells": [
  {
   "cell_type": "markdown",
   "metadata": {},
   "source": [
    "# Import"
   ]
  },
  {
   "cell_type": "code",
   "execution_count": 1,
   "metadata": {},
   "outputs": [],
   "source": [
    "import matplotlib.ticker as plticker\n",
    "import cv2\n",
    "import pytesseract\n",
    "from PIL import Image\n",
    "import os\n",
    "import numpy as np\n",
    "import pandas as pd\n",
    "from dbr import DynamsoftBarcodeReader\n",
    "from matplotlib import pyplot as plt\n",
    "from skimage.measure import compare_ssim\n",
    "import imutils\n",
    "import statistics\n",
    "from scipy import stats\n",
    "import random\n",
    "from difflib import SequenceMatcher\n",
    "from IPython.display import display, Markdown, Latex\n",
    "%matplotlib inline"
   ]
  },
  {
   "cell_type": "markdown",
   "metadata": {},
   "source": [
    "# FILES"
   ]
  },
  {
   "cell_type": "code",
   "execution_count": 2,
   "metadata": {},
   "outputs": [],
   "source": [
    "os.chdir('/Users/kunal/Documents/VdartWorking/realFake/RunningPresent/')"
   ]
  },
  {
   "cell_type": "markdown",
   "metadata": {},
   "source": [
    "## TESTING IMAGE"
   ]
  },
  {
   "cell_type": "code",
   "execution_count": 3,
   "metadata": {},
   "outputs": [],
   "source": [
    "MAINIMAGEFILEPNG = '/Users/kunal/Documents/VdartWorking/SampleCopies/GenuineCopies/H1B - Tushar Sharad Part 1PNG.PNG'\n",
    "MAINPDFFILE = '/Users/kunal/Documents/VdartWorking/SampleCopies/GenuineCopies/H1B - Tushar Sharad Part 1.pdf'"
   ]
  },
  {
   "cell_type": "code",
   "execution_count": 4,
   "metadata": {},
   "outputs": [],
   "source": [
    "CLEANARRAYFORMAINIMAGEFILEPNG = cv2.imread(MAINIMAGEFILEPNG)\n",
    "x11, y11, z11 = CLEANARRAYFORMAINIMAGEFILEPNG.shape\n",
    "CLEANARRAYFORMAINIMAGEFILEPNG = cv2.resize(CLEANARRAYFORMAINIMAGEFILEPNG, dsize=(698, 910), interpolation=cv2.INTER_CUBIC)"
   ]
  },
  {
   "cell_type": "markdown",
   "metadata": {},
   "source": [
    "## REAL Image"
   ]
  },
  {
   "cell_type": "code",
   "execution_count": 5,
   "metadata": {},
   "outputs": [],
   "source": [
    "COMPAREIMAGEFILEPNG = '/Users/kunal/Documents/VdartWorking/realFake/Document.jpg'"
   ]
  },
  {
   "cell_type": "code",
   "execution_count": 6,
   "metadata": {},
   "outputs": [],
   "source": [
    "CLEANARRAYFORCOMPAREIMAGEFILEPNG = cv2.imread(COMPAREIMAGEFILEPNG) \n",
    "x2, y2, z2 = CLEANARRAYFORCOMPAREIMAGEFILEPNG.shape\n",
    "CLEANARRAYFORCOMPAREIMAGEFILEPNG = cv2.resize(CLEANARRAYFORCOMPAREIMAGEFILEPNG, dsize=(698, 910), interpolation=cv2.INTER_CUBIC)"
   ]
  },
  {
   "cell_type": "markdown",
   "metadata": {},
   "source": [
    "# Display the Image"
   ]
  },
  {
   "cell_type": "code",
   "execution_count": 7,
   "metadata": {},
   "outputs": [],
   "source": [
    "imageCV = CLEANARRAYFORMAINIMAGEFILEPNG"
   ]
  },
  {
   "cell_type": "markdown",
   "metadata": {},
   "source": [
    "# Barcode"
   ]
  },
  {
   "cell_type": "code",
   "execution_count": 8,
   "metadata": {},
   "outputs": [],
   "source": [
    "def checkEqual1(iterator):\n",
    "    iterator = iter(iterator)\n",
    "    try:\n",
    "        first = next(iterator)\n",
    "    except StopIteration:\n",
    "        return True\n",
    "    return all(first == rest for rest in iterator)"
   ]
  },
  {
   "cell_type": "code",
   "execution_count": 9,
   "metadata": {},
   "outputs": [],
   "source": [
    "def getText(result, partText):\n",
    "    endindex = result + 80\n",
    "    partialdetected = text[result:endindex]\n",
    "    endindex = partialdetected.find(\"\\n\")\n",
    "    fulldetected = partialdetected[:endindex]\n",
    "    startindex = fulldetected.find(partText)#'er'\n",
    "    barcodeNumberdetectedname = fulldetected[startindex+3:28]\n",
    "    return barcodeNumberdetectedname"
   ]
  },
  {
   "cell_type": "markdown",
   "metadata": {},
   "source": [
    "## Detection"
   ]
  },
  {
   "cell_type": "code",
   "execution_count": 10,
   "metadata": {},
   "outputs": [],
   "source": [
    "#t0068MgAAACk+RNudXWjI8IqSZ6cPB04DUpOUhqTHb7YTFYTgM+nuTsx92c7RDeCS6o417Oo6MKjRUn0LnCMqfxz8JHqN74w="
   ]
  },
  {
   "cell_type": "code",
   "execution_count": 11,
   "metadata": {},
   "outputs": [],
   "source": [
    "barcodeArray = []\n",
    "dbr = DynamsoftBarcodeReader()\n",
    "dbr.initLicense('t0068MgAAACk+RNudXWjI8IqSZ6cPB04DUpOUhqTHb7YTFYTgM+nuTsx92c7RDeCS6o417Oo6MKjRUn0LnCMqfxz8JHqN74w=') # https://www.dynamsoft.com/CustomerPortal/Portal/Triallicense.aspx\n",
    "results = dbr.DecodeFile(MAINPDFFILE)\n",
    "textResults = results[\"TextResults\"]\n",
    "for textResult in textResults:\n",
    "    #print(textResult[\"BarcodeText\"])\n",
    "    barcodeArray.append(textResult[\"BarcodeText\"])"
   ]
  },
  {
   "cell_type": "code",
   "execution_count": 12,
   "metadata": {},
   "outputs": [],
   "source": [
    "if len(barcodeArray) == 0:\n",
    "    #print(\"NO BARCODE DETECTED!!!!\")\n",
    "    barcodeDetected = \"N/A\"\n",
    "elif len(barcodeArray) == 1:\n",
    "    barcodeDetected = barcodeArray[0]\n",
    "elif len(barcodeArray) > 1:\n",
    "    working = checkEqual1(barcodeArray)\n",
    "    if working:\n",
    "        barcodeDetected = barcodeArray[0]\n",
    "    else:\n",
    "        barcodeDetected = \"N/A\""
   ]
  },
  {
   "cell_type": "markdown",
   "metadata": {},
   "source": [
    "## Tesseract Compare"
   ]
  },
  {
   "cell_type": "code",
   "execution_count": 13,
   "metadata": {},
   "outputs": [],
   "source": [
    "OCRPIC = MAINIMAGEFILEPNG\n",
    "value=Image.open(OCRPIC)\n",
    "pytesseract.pytesseract.tesseract_cmd = r\"C:\\Program Files (x86)\\Tesseract-OCR\\tesseract.exe\"\n",
    "text = pytesseract.image_to_string(value, config='')"
   ]
  },
  {
   "cell_type": "code",
   "execution_count": 14,
   "metadata": {},
   "outputs": [],
   "source": [
    "result = text.find('Receipt#') \n",
    "result2pt1  = text.find('Receipt Number ')\n",
    "textpt1 = text[result2pt1:len(text)]\n",
    "result2 = textpt1.find('Receipt Number ')\n",
    "result1Final = getText(result,'pt')\n",
    "result2Final = getText(result2, 'er')\n",
    "if result1Final.endswith(\";\"):\n",
    "    result1Final = result1Final[:-1]\n",
    "if result2Final.endswith(\";\"):\n",
    "    result2Final = result2Final[:-1]\n",
    "numSpace1 = result1Final.count(\" \")\n",
    "numSpace2 = result2Final.count(\" \")\n",
    "if numSpace1 > 1:\n",
    "    positionofthing = result1Final.find(\" \")\n",
    "    if not positionofthing == -1:\n",
    "        result1Final = result1Final[0:positionofthing]    \n",
    "if numSpace2 > 1:\n",
    "    positionofthing2 = result2Final.find(\" \")\n",
    "    if not positionofthing2 == -1:\n",
    "        result2Final = result2Final[0:positionofthing2]\n",
    "\n",
    "result1Final = result1Final.strip()\n",
    "result2Final = result2Final.strip()"
   ]
  },
  {
   "cell_type": "code",
   "execution_count": 16,
   "metadata": {},
   "outputs": [],
   "source": [
    "equal = False\n",
    "if result1Final == result2Final:\n",
    "    if result1Final == barcodeDetected:\n",
    "        equal = True\n",
    "    elif result1Final != barcodeDetected:\n",
    "        equal = False\n",
    "if len(result1Final) < 5 and len(result2Final) < 5:\n",
    "    equal = False\n",
    "if len(result1Final) < 5:\n",
    "    if result2Final == barcodeDetected:\n",
    "        equal = True\n",
    "    else:\n",
    "        equal = False\n",
    "if len(result2Final) < 5:\n",
    "    if result1Final == barcodeDetected:\n",
    "        equal = True\n",
    "    else:\n",
    "        equal = False"
   ]
  },
  {
   "cell_type": "code",
   "execution_count": 17,
   "metadata": {},
   "outputs": [],
   "source": [
    "BARCODEISCORRECT = equal"
   ]
  },
  {
   "cell_type": "markdown",
   "metadata": {},
   "source": [
    "# DATE DETECTION"
   ]
  },
  {
   "cell_type": "code",
   "execution_count": 18,
   "metadata": {},
   "outputs": [],
   "source": [
    "result = text.find('Valid from') \n",
    "big = text[result:result+35]"
   ]
  },
  {
   "cell_type": "code",
   "execution_count": 19,
   "metadata": {},
   "outputs": [],
   "source": [
    "start = big.find(\"from\")\n",
    "startstr = big[start+5:start+15]\n",
    "end = big.find(\"to\")\n",
    "endstr = big[end+3:end+13]"
   ]
  },
  {
   "cell_type": "code",
   "execution_count": null,
   "metadata": {},
   "outputs": [],
   "source": [
    "start = startstr.split(\"/\")\n",
    "end = endstr.split(\"/\")"
   ]
  },
  {
   "cell_type": "code",
   "execution_count": null,
   "metadata": {},
   "outputs": [],
   "source": [
    "work = False\n",
    "reason = \"\"\n",
    "if ((len(start) == 3) and (len(end) == 3)):    \n",
    "    if(start[2] > end[2]):\n",
    "        work = False\n",
    "        reason = \"Year is before the starting one\"\n",
    "    if(start[2] == end[2]):\n",
    "        if(end[0] < start[0]):\n",
    "            work = False\n",
    "            reason = \"Month Doesn't Work\"\n",
    "        if(end[0] > start[0]):\n",
    "            work = True\n",
    "            reason = \"Month Works\"\n",
    "        if(end[0] == start[0]):\n",
    "            if(end[1] < start[1]):\n",
    "                work = False\n",
    "                reason = \"Day Doesn't Work\"\n",
    "            if(end[1] > start[1]):\n",
    "                work = True\n",
    "                reason = \"Day Works\"\n",
    "            if(end[1] == start[1]):\n",
    "                work = False\n",
    "                reason = \"Date Same\"\n",
    "    if(start[2] < end[2]):\n",
    "        work = True\n",
    "        reason = \"Year Works\"\n",
    "    if(int(start[1]) > 31 or int(end[1]) > 31 or int(start[0]) > 12 or int(end[0]) > 12):\n",
    "        work = False\n",
    "        reason = \"Date out of bounds\"\n",
    "else:\n",
    "    work = False\n",
    "    reason = \"The array is wrong\""
   ]
  },
  {
   "cell_type": "markdown",
   "metadata": {},
   "source": [
    "## Ouput"
   ]
  },
  {
   "cell_type": "code",
   "execution_count": null,
   "metadata": {},
   "outputs": [],
   "source": [
    "DATEWORKING = work\n",
    "WHYDATEISWORKING = reason\n",
    "#print(\"The Date \", work, \" becuase \", reason)"
   ]
  },
  {
   "cell_type": "markdown",
   "metadata": {},
   "source": [
    "# Title Compare"
   ]
  },
  {
   "cell_type": "markdown",
   "metadata": {},
   "source": [
    "## Testing Images"
   ]
  },
  {
   "cell_type": "code",
   "execution_count": null,
   "metadata": {},
   "outputs": [],
   "source": [
    "titleimgCV = CLEANARRAYFORMAINIMAGEFILEPNG[0:50, 10:650]"
   ]
  },
  {
   "cell_type": "code",
   "execution_count": null,
   "metadata": {},
   "outputs": [],
   "source": [
    "titleimgCV2= CLEANARRAYFORCOMPAREIMAGEFILEPNG[0:50, 10:650]"
   ]
  },
  {
   "cell_type": "code",
   "execution_count": null,
   "metadata": {},
   "outputs": [],
   "source": [
    "original = titleimgCV2 #know real\n",
    "duplicate = titleimgCV #dont know"
   ]
  },
  {
   "cell_type": "code",
   "execution_count": null,
   "metadata": {},
   "outputs": [],
   "source": [
    "threshold = 50\n",
    "TITLEIMAGECOMPARE = False"
   ]
  },
  {
   "cell_type": "code",
   "execution_count": null,
   "metadata": {},
   "outputs": [],
   "source": [
    "if original.shape == duplicate.shape:\n",
    "    difference = cv2.subtract(original, duplicate)\n",
    "    b, g, r = cv2.split(difference)"
   ]
  },
  {
   "cell_type": "code",
   "execution_count": null,
   "metadata": {},
   "outputs": [],
   "source": [
    "x,y = b.shape\n",
    "size = x*y\n",
    "countb = 0\n",
    "for startthing1 in b:\n",
    "    for endthomg1 in startthing1:\n",
    "        if endthomg1 > 50:\n",
    "            countb+=1\n",
    "countg = 0\n",
    "for startthing2 in g:\n",
    "    for endthomg2 in startthing2:\n",
    "        if endthomg2 > 50:\n",
    "            countg+=1\n",
    "countr = 0\n",
    "for startthing3 in r:\n",
    "    for endthomg3 in startthing3:\n",
    "        if endthomg3 > 50:\n",
    "            countr+=1\n",
    "PERCENT_BLUE_DIFFERENCE_TITLE = countb/size*100\n",
    "PERCENT_GREEN_DIFFERENCE_TITLE = countg/size*100\n",
    "PERCENT_RED_DIFFERENCE_TITLE = countr/size*100"
   ]
  },
  {
   "cell_type": "code",
   "execution_count": null,
   "metadata": {},
   "outputs": [],
   "source": [
    "if PERCENT_BLUE_DIFFERENCE_TITLE < 15 and PERCENT_GREEN_DIFFERENCE_TITLE < 15 and PERCENT_RED_DIFFERENCE_TITLE < 15:\n",
    "    TITLEIMAGECOMPARE = True"
   ]
  },
  {
   "cell_type": "markdown",
   "metadata": {},
   "source": [
    "# Text"
   ]
  },
  {
   "cell_type": "code",
   "execution_count": null,
   "metadata": {},
   "outputs": [],
   "source": [
    "def similar(a, b):\n",
    "    return SequenceMatcher(None, a, b).ratio()"
   ]
  },
  {
   "cell_type": "code",
   "execution_count": null,
   "metadata": {},
   "outputs": [],
   "source": [
    "OCRPIC = COMPAREIMAGEFILEPNG\n",
    "value=Image.open(OCRPIC)\n",
    "text2 = pytesseract.image_to_string(value, config='')"
   ]
  },
  {
   "cell_type": "code",
   "execution_count": null,
   "metadata": {},
   "outputs": [],
   "source": [
    "yes = 0\n",
    "no = 0\n",
    "totoal = 0\n",
    "for i in range(100):\n",
    "    startingValueofSTring = random.randint(1,len(text2))\n",
    "    lengthofString = random.randint(3,10)\n",
    "    small_string = text2[startingValueofSTring:startingValueofSTring+lengthofString]\n",
    "    has_small_string = False\n",
    "    if small_string in text:\n",
    "        has_small_string = True\n",
    "    if has_small_string:\n",
    "        yes+=1\n",
    "    else:\n",
    "        no+=1\n",
    "    totoal+=1\n",
    "diffsimiliar = yes/totoal\n",
    "diffdifferent = no/totoal\n",
    "similiar = similar(text, text2)"
   ]
  },
  {
   "cell_type": "markdown",
   "metadata": {},
   "source": [
    "## Output"
   ]
  },
  {
   "cell_type": "code",
   "execution_count": null,
   "metadata": {},
   "outputs": [],
   "source": [
    "if (similiar < 0.35):\n",
    "    SIMILARTYBETWEENTEXTINDOCUMENT = False\n",
    "else:\n",
    "    SIMILARTYBETWEENTEXTINDOCUMENT = True"
   ]
  },
  {
   "cell_type": "markdown",
   "metadata": {},
   "source": [
    "# WaterMark"
   ]
  },
  {
   "cell_type": "markdown",
   "metadata": {},
   "source": [
    "## Basic Removal of Real IMAGE"
   ]
  },
  {
   "cell_type": "code",
   "execution_count": null,
   "metadata": {},
   "outputs": [],
   "source": [
    "down2 = 239\n",
    "up2 = 248 \n",
    "array = CLEANARRAYFORMAINIMAGEFILEPNG\n",
    "arrayNew = CLEANARRAYFORMAINIMAGEFILEPNG\n",
    "w, h, j = array.shape\n",
    "array2 = CLEANARRAYFORCOMPAREIMAGEFILEPNG\n",
    "arrayNew2 = CLEANARRAYFORCOMPAREIMAGEFILEPNG\n",
    "w2, h2, j2 = array2.shape\n",
    "falsepixel = 0\n",
    "correctpixel = 0\n",
    "errorpixel = 0\n",
    "totalpixel = 0\n",
    "for x2 in range(w2-1):\n",
    "    for y2 in range(h2-1):\n",
    "        singlearray2 = array2[x2, y2]\n",
    "        r2 = singlearray2[0]\n",
    "        g2 = singlearray2[1]\n",
    "        b2 = singlearray2[2]\n",
    "        if (r2 > down2 and r2 < up2 and g2 > down2 and g2 < up2 and b2 > down2 and b2 < up2):\n",
    "            arrayNew2[x2, y2] = [0, 255, 0]\n",
    "            singlearray = array[x2,y2]\n",
    "            r = singlearray[0]\n",
    "            g = singlearray[1]\n",
    "            b = singlearray[2]\n",
    "            if (r == 0 and g == 0 and b == 0):\n",
    "                falsepixel+=1\n",
    "            elif (r == 0 and g == 255 and b == 0):\n",
    "                correctpixel +=1\n",
    "            else:\n",
    "                errorpixel += 1\n",
    "            totalpixel+=1\n",
    "        else:\n",
    "            arrayNew2[x2, y2] = [0, 0, 0]\n",
    "img2final = Image.fromarray(arrayNew2)"
   ]
  },
  {
   "cell_type": "code",
   "execution_count": null,
   "metadata": {},
   "outputs": [],
   "source": [
    "im1 = img2final.save(\"REALImageWaterMark.jpg\")"
   ]
  },
  {
   "cell_type": "markdown",
   "metadata": {},
   "source": [
    "## FINAL COMPARE OF WATERMARK"
   ]
  },
  {
   "cell_type": "code",
   "execution_count": null,
   "metadata": {},
   "outputs": [],
   "source": [
    "down = 239#238 ----- 239 \n",
    "up = 248 # ---------248\n",
    "array = CLEANARRAYFORMAINIMAGEFILEPNG\n",
    "array2 = CLEANARRAYFORCOMPAREIMAGEFILEPNG\n",
    "arrayNew = CLEANARRAYFORMAINIMAGEFILEPNG\n",
    "arrayNew2 = CLEANARRAYFORCOMPAREIMAGEFILEPNG\n",
    "w,h,c = array.shape\n",
    "w2,h2,c2 = array2.shape\n",
    "NUMOFPIXELSHOULDTHEREBUTNOT = 0\n",
    "NUMOFPIXELNOTBUTTHERE = 0\n",
    "NUMOFCORRECTPIXEL = 0\n",
    "totalCOUNT = 0\n",
    "for x in range(w-1):\n",
    "    for y in range(h-1):\n",
    "        singlearray = array[x, y]\n",
    "        r = singlearray[0]\n",
    "        g = singlearray[1]\n",
    "        b = singlearray[2]\n",
    "        if (r > down and r < up and g > down and g < up and b > down and b < up):\n",
    "            definitivVALUE = True\n",
    "            totalCOUNT+=1\n",
    "            arrayNew[x, y] = [0, 255, 0]\n",
    "        else:\n",
    "            definitivVALUE = False\n",
    "            arrayNew[x, y] = [0, 0, 0]\n",
    "        singlearray2 = array2[x, y]\n",
    "        r2 = singlearray2[0]\n",
    "        g2 = singlearray2[1]\n",
    "        b2 = singlearray2[2]\n",
    "        if (r2 > down and r2 < up and g2 > down and g2 < up and b2 > down and b2 < up):\n",
    "            pixelDONTKNOW = True\n",
    "        else:\n",
    "            pixelDONTKNOW = False\n",
    "        if(definitivVALUE and pixelDONTKNOW):\n",
    "            #WHEN PIXEL SHOULD BE IN RANGE AND IS IN RANGE\n",
    "            NUMOFCORRECTPIXEL+=1\n",
    "        elif(definitivVALUE and not pixelDONTKNOW):\n",
    "            #WHEN PIXEL SHOULD BE IN RANGE BUT ISNT\n",
    "            NUMOFPIXELSHOULDTHEREBUTNOT+=1\n",
    "        elif(not definitivVALUE and definitivVALUE):\n",
    "            #WHEN PIXEL SHOULDN'T BE IN RANGE BUT IS\n",
    "            NUMOFPIXELNOTBUTTHERE+=1      \n",
    "img = Image.fromarray(arrayNew)"
   ]
  },
  {
   "cell_type": "markdown",
   "metadata": {},
   "source": [
    "## Compare Value Around Pixel"
   ]
  },
  {
   "cell_type": "markdown",
   "metadata": {},
   "source": [
    "## Final Compare Around PIXEL WITH DISTANCE"
   ]
  },
  {
   "cell_type": "code",
   "execution_count": null,
   "metadata": {},
   "outputs": [],
   "source": [
    "file1 = 'REALImageWaterMark.jpg'"
   ]
  },
  {
   "cell_type": "code",
   "execution_count": null,
   "metadata": {},
   "outputs": [],
   "source": [
    "row = []\n",
    "column = []\n",
    "array = cv2.imread(file1)\n",
    "x_length = len(array[0])\n",
    "y_length = len(array)\n",
    "for i in range(x_length):\n",
    "    row.append(str(i))\n",
    "for i in range(y_length):\n",
    "    column.append(str(i))\n",
    "df = pd.DataFrame(index=row, columns=column)"
   ]
  },
  {
   "cell_type": "code",
   "execution_count": null,
   "metadata": {},
   "outputs": [],
   "source": [
    "array = cv2.imread(file1)\n",
    "arrayNew = cv2.imread(file1)\n",
    "NUMOFPIXELSHOULDTHEREBUTNOTAVERAGE = 0\n",
    "NUMOFPIXELNOTBUTTHEREAVERAGE = 0\n",
    "NUMOFCORRECTPIXELAVERAGE = 0\n",
    "totalCOUNTAVERAGE = 0\n",
    "definitivVALUEAVERAGE = False\n",
    "distance = 2\n",
    "dis = distance\n",
    "for thingthing in range(len(array[0])-distance):\n",
    "    for thingthingYY in range(len(array)-distance):\n",
    "        center_XXX = thingthing\n",
    "        center_YYY = thingthingYY\n",
    "        distance = dis\n",
    "        partArrDis = [[0 for x in range(distance*2+1)] for y in range(distance*2+1)]\n",
    "        center_XX = center_XXX\n",
    "        center_YY = center_YYY\n",
    "        for uu in range(distance*2+1):\n",
    "            for rr in range(distance*2+1):\n",
    "                a,b,c = array[uu+(thingthingYY-distance*2+1)][rr+(thingthing-distance*2+1)]\n",
    "                theSingleArrayABC = [a,b,c]\n",
    "                partArrDis[uu][rr] = theSingleArrayABC\n",
    "        countGreen = 0\n",
    "        countBlack = 0\n",
    "        totalCount = 0\n",
    "        theXofARRRAY = len(partArrDis)\n",
    "        theYofARRRAY = len(partArrDis[0])\n",
    "        for aa in range(theXofARRRAY):\n",
    "            for bb in range(theYofARRRAY):\n",
    "                singleARRAYwPART = partArrDis[aa][bb]\n",
    "                rr, gg, bb = singleARRAYwPART\n",
    "                if rr < 30 and gg < 30 and bb < 30:\n",
    "                    countBlack += 1\n",
    "                else:\n",
    "                    countGreen += 1    \n",
    "                totalCount+=1\n",
    "        perceBlack = (countBlack/totalCount) * 100\n",
    "        perceGreen = (countGreen/totalCount) * 100\n",
    "        x = perceBlack+perceGreen\n",
    "        IDK_X = center_XXX-distance*2+1\n",
    "        IDK_Y = center_YYY-distance*2+1\n",
    "        if (perceBlack > 40):\n",
    "            arrayNew[IDK_Y][IDK_X]=[0,0,0]\n",
    "            definitivVALUEAVERAGE = False\n",
    "        else:\n",
    "            arrayNew[IDK_Y][IDK_X] = [0,255,0]\n",
    "            definitivVALUEAVERAGE = True\n",
    "        singlearray2 = array2[thingthingYY, thingthing]\n",
    "        r2 = singlearray2[0]\n",
    "        g2 = singlearray2[1]\n",
    "        b2 = singlearray2[2]\n",
    "        if (r2 > down and r2 < up and g2 > down and g2 < up and b2 > down and b2 < up):\n",
    "            pixelDONTKNOWAVERAGE = True\n",
    "        else:\n",
    "            pixelDONTKNOWAVERAGE = False\n",
    "        if(definitivVALUEAVERAGE and pixelDONTKNOWAVERAGE):\n",
    "            #WHEN PIXEL SHOULD BE IN RANGE AND IS IN RANGE\n",
    "            NUMOFCORRECTPIXELAVERAGE+=1\n",
    "        elif(definitivVALUEAVERAGE and not pixelDONTKNOWAVERAGE):\n",
    "            #WHEN PIXEL SHOULD BE IN RANGE BUT ISNT\n",
    "            NUMOFPIXELSHOULDTHEREBUTNOTAVERAGE+=1\n",
    "        elif(not definitivVALUEAVERAGE and definitivVALUEAVERAGE):\n",
    "            #WHEN PIXEL SHOULDN'T BE IN RANGE BUT IS\n",
    "            NUMOFPIXELNOTBUTTHEREAVERAGE+=1     \n",
    "        totalCOUNTAVERAGE+=1"
   ]
  },
  {
   "cell_type": "code",
   "execution_count": null,
   "metadata": {},
   "outputs": [],
   "source": [
    "img = Image.fromarray(arrayNew)\n",
    "im1 = img.save(\"GroupedPixeledIMAGE.jpg\")"
   ]
  },
  {
   "cell_type": "markdown",
   "metadata": {},
   "source": [
    "## Output"
   ]
  },
  {
   "cell_type": "code",
   "execution_count": null,
   "metadata": {},
   "outputs": [],
   "source": [
    "WATERMARKOUTPUTFINAL=False\n",
    "WATERMARKOUTPUTave=False\n",
    "WATERMARKOUTPUT2=False\n",
    "WATERMARKOUTPUTFINAL=False\n",
    "coorect = correctpixel/totalpixel*100\n",
    "worng = falsepixel/totalpixel*100\n",
    "error = errorpixel\n",
    "\n",
    "aveCorrect = NUMOFCORRECTPIXELAVERAGE/totalCOUNTAVERAGE *100\n",
    "aveWRONG = NUMOFPIXELSHOULDTHEREBUTNOTAVERAGE/totalCOUNTAVERAGE *100\n",
    "aveERROR = NUMOFPIXELNOTBUTTHEREAVERAGE\n",
    "\n",
    "correctPT2 = NUMOFCORRECTPIXEL/totalCOUNT *100\n",
    "wrongPT2= NUMOFPIXELSHOULDTHEREBUTNOT/totalCOUNT*100\n",
    "errorPT2 = NUMOFPIXELNOTBUTTHERE\n",
    "if coorect < 10:\n",
    "    WATERMARKOUTPUT1 = False\n",
    "else:\n",
    "    WATERMARKOUTPUT1 = True\n",
    "if aveCorrect < 10:\n",
    "    WATERMARKOUTPUTave = False\n",
    "else:\n",
    "    WATERMARKOUTPUTave = True\n",
    "if correctPT2 < 10:\n",
    "    WATERMARKOUTPUT2 = False\n",
    "else:\n",
    "    WATERMARKOUTPUT2 = True\n",
    "\n",
    "if WATERMARKOUTPUT1 == True and WATERMARKOUTPUTave == True and WATERMARKOUTPUT2 == True: \n",
    "    WATERMARKOUTPUTFINAL = True\n",
    "elif WATERMARKOUTPUT1 == True and WATERMARKOUTPUTave == True and WATERMARKOUTPUT2 == False: \n",
    "    WATERMARKOUTPUTFINAL = True\n",
    "elif WATERMARKOUTPUT1 == False and WATERMARKOUTPUTave == True and WATERMARKOUTPUT2 == True: \n",
    "    WATERMARKOUTPUTFINAL = True\n",
    "elif WATERMARKOUTPUT1 == True and WATERMARKOUTPUTave == False and WATERMARKOUTPUT2 == True: \n",
    "    WATERMARKOUTPUTFINAL = True"
   ]
  },
  {
   "cell_type": "markdown",
   "metadata": {},
   "source": [
    "\n",
    "# SSIM DIFFERENCE"
   ]
  },
  {
   "cell_type": "code",
   "execution_count": null,
   "metadata": {},
   "outputs": [],
   "source": [
    "img1 = CLEANARRAYFORMAINIMAGEFILEPNG\n",
    "img2 = CLEANARRAYFORCOMPAREIMAGEFILEPNG\n",
    "\n",
    "imageA = CLEANARRAYFORMAINIMAGEFILEPNG\n",
    "imageB = CLEANARRAYFORCOMPAREIMAGEFILEPNG\n",
    "\n",
    "grayA = cv2.cvtColor(imageA, cv2.COLOR_BGR2GRAY)\n",
    "grayB = cv2.cvtColor(imageB, cv2.COLOR_BGR2GRAY)\n",
    "\n",
    "bigH, bigW,other = imageA.shape"
   ]
  },
  {
   "cell_type": "code",
   "execution_count": null,
   "metadata": {},
   "outputs": [],
   "source": [
    "(score, diff) = compare_ssim(grayA, grayB, full=True)\n",
    "diff = (diff * 255).astype('uint8')"
   ]
  },
  {
   "cell_type": "code",
   "execution_count": null,
   "metadata": {},
   "outputs": [],
   "source": [
    "thresh = cv2.threshold(diff, 0, 255,cv2.THRESH_BINARY_INV | cv2.THRESH_OTSU)[1]\n",
    "cnts = cv2.findContours(thresh.copy(), cv2.RETR_EXTERNAL,cv2.CHAIN_APPROX_SIMPLE)\n",
    "cnts = imutils.grab_contours(cnts)\n",
    "areaDIFFERENCE = 0\n",
    "for c in cnts:\n",
    "    (x, y, w, h) = cv2.boundingRect(c)\n",
    "    cv2.rectangle(imageA, (x, y), (x + w, y + h), (0, 0, 255), 2)\n",
    "    cv2.rectangle(imageB, (x, y), (x + w, y + h), (0, 0, 255), 2)\n",
    "    areaDIFFERENCE += (w*h)\n",
    "perdiff =  ((areaDIFFERENCE/(bigW*bigH))*100)"
   ]
  },
  {
   "cell_type": "markdown",
   "metadata": {},
   "source": [
    "# Compare Images"
   ]
  },
  {
   "cell_type": "markdown",
   "metadata": {},
   "source": [
    "## Display All main points of connectors"
   ]
  },
  {
   "cell_type": "code",
   "execution_count": null,
   "metadata": {},
   "outputs": [],
   "source": [
    "gray1 = cv2.cvtColor(img1, cv2.COLOR_BGR2GRAY)\n",
    "gray2 = cv2.cvtColor(img2, cv2.COLOR_BGR2GRAY)\n",
    "\n",
    "#keypoints\n",
    "sift = cv2.xfeatures2d.SIFT_create()\n",
    "keypoints_1, descriptors_1 = sift.detectAndCompute(img1,None)\n",
    "keypoints_2, descriptors_2 = sift.detectAndCompute(img2,None)\n",
    "NUMBER_OF_KEYPOINST_IMG1 = len(keypoints_1)\n",
    "NUMBER_OF_KEYPOINST_IMG2 = len(keypoints_2)\n",
    "\n",
    "img1 = cv2.cvtColor(img1, cv2.COLOR_BGR2GRAY)\n",
    "img2 = cv2.cvtColor(img2, cv2.COLOR_BGR2GRAY)"
   ]
  },
  {
   "cell_type": "markdown",
   "metadata": {},
   "source": [
    "## FINAL RUN"
   ]
  },
  {
   "cell_type": "code",
   "execution_count": null,
   "metadata": {},
   "outputs": [],
   "source": [
    "keypoints_1, descriptors_1 = sift.detectAndCompute(img1,None)\n",
    "keypoints_2, descriptors_2 = sift.detectAndCompute(img2,None)\n",
    "bf = cv2.BFMatcher(cv2.NORM_L1, crossCheck=True)\n",
    "matches = bf.match(descriptors_1,descriptors_2)\n",
    "matches = sorted(matches, key = lambda x:x.distance)\n",
    "totalMATCHES = (len(matches))"
   ]
  },
  {
   "cell_type": "code",
   "execution_count": null,
   "metadata": {},
   "outputs": [],
   "source": [
    "if img1 is None or img2 is None:\n",
    "    exit(0)\n",
    "\n",
    "minHessian = 400\n",
    "detector = cv2.xfeatures2d_SURF.create(hessianThreshold=minHessian)\n",
    "keypoints1, descriptors1 = detector.detectAndCompute(img1, None)\n",
    "keypoints2, descriptors2 = detector.detectAndCompute(img2, None)\n",
    "matcher = cv2.DescriptorMatcher_create(cv2.DescriptorMatcher_FLANNBASED)\n",
    "knn_matches = matcher.knnMatch(descriptors1, descriptors2, 2)\n",
    "ratio_thresh = 0.64\n",
    "good_matches = []\n",
    "for m,n in knn_matches:\n",
    "    if m.distance < ratio_thresh * n.distance:\n",
    "        good_matches.append(m)\n",
    "img_matches = np.empty((max(img1.shape[0], img2.shape[0]), img1.shape[1]+img2.shape[1], 3), dtype=np.uint8)\n",
    "img3 = cv2.drawMatches(img1, keypoints1, img2, keypoints2, good_matches, img_matches, flags=cv2.DrawMatchesFlags_NOT_DRAW_SINGLE_POINTS)\n",
    "im = Image.fromarray(img3)\n",
    "im.save('FINALWORKINGIMAGEPT1.png')\n",
    "NUMEBROFMATCHESRATIOTEST = len(good_matches)"
   ]
  },
  {
   "cell_type": "code",
   "execution_count": null,
   "metadata": {},
   "outputs": [],
   "source": [
    "# find the keypoints and descriptors with SIFT\n",
    "kp1, des1 = sift.detectAndCompute(img1,None)\n",
    "kp2, des2 = sift.detectAndCompute(img2,None)\n",
    "\n",
    "bf = cv2.BFMatcher()\n",
    "matches = bf.knnMatch(des1,des2, k=2)\n",
    "good = []\n",
    "for m,n in matches:\n",
    "    if m.distance < 87:\n",
    "        good.append([m])\n",
    "    if n.distance < 87:\n",
    "        good.append([n])\n",
    "img3 = cv2.drawMatchesKnn(img1,kp1,img2,kp2,good,None,flags =2)\n",
    "\n",
    "im = Image.fromarray(img3)\n",
    "im.save('FINALWORKINGIMAGEPT2.png')\n",
    "NUMEBROFMATCHESDISTANCETEST = len(good)"
   ]
  },
  {
   "cell_type": "markdown",
   "metadata": {},
   "source": [
    "##  Output"
   ]
  },
  {
   "cell_type": "code",
   "execution_count": null,
   "metadata": {},
   "outputs": [],
   "source": [
    "print(\"**************************\")\n",
    "print(MAINIMAGEFILEPNG)\n",
    "print(COMPAREIMAGEFILEPNG)\n",
    "print(\"**************************\")\n",
    "print(\"IMAGE 1 is FAKE\")\n",
    "print(\"IMAGE 2 is REAL\")\n",
    "print(\"**************************\")\n",
    "print(\"Shape of image 1 is \")\n",
    "print(x11, \" \", y11, \" \", z11)\n",
    "print(\"Shape of image 2 is\")\n",
    "print(x2, \" \", y2, \" \", z2)\n",
    "print(\"**************************\")\n",
    "print(\"The SSIM score is \")\n",
    "if score > 0.25:\n",
    "    SSIMFINALSCORE = True\n",
    "else:\n",
    "    SSIMFINALSCORE = False\n",
    "print(score)\n",
    "print(\"**************************\")\n",
    "print(\"The Percent Difference is\")\n",
    "print(perdiff)\n",
    "if perdiff > 0.8:\n",
    "    PERCENTDIFFERNCE = True\n",
    "else:\n",
    "    PERCENTDIFFERNCE = False\n",
    "print(\"**************************\")\n",
    "print(\"The number of key points in image 1 is\")\n",
    "print(NUMBER_OF_KEYPOINST_IMG1)\n",
    "print(\"The number of key points in image 2 is\")\n",
    "print(NUMBER_OF_KEYPOINST_IMG2)\n",
    "print(\"**************************\")\n",
    "print(\"The total number of matches is\")\n",
    "print(totalMATCHES)\n",
    "print(\"**************************\")\n",
    "print(\"Number of matches for the distance test is\", NUMEBROFMATCHESDISTANCETEST)\n",
    "print(\"Number of matches for the ratio test is\", NUMEBROFMATCHESRATIOTEST)"
   ]
  },
  {
   "cell_type": "markdown",
   "metadata": {},
   "source": [
    "# FINAL OUTPUT"
   ]
  },
  {
   "cell_type": "code",
   "execution_count": null,
   "metadata": {},
   "outputs": [],
   "source": [
    "print(\"BASIC INFO:\")\n",
    "print(MAINIMAGEFILEPNG)\n",
    "print(COMPAREIMAGEFILEPNG)\n",
    "print(\"************************************************************************\")\n",
    "print(\"Shape of image 1 is \")\n",
    "print(x11, \" \", y11, \" \", z11)\n",
    "print(\"Shape of image 2 is\")\n",
    "print(x2, \" \", y2, \" \", z2)\n",
    "print(\"************************************************************************\")"
   ]
  },
  {
   "cell_type": "code",
   "execution_count": null,
   "metadata": {
    "scrolled": true
   },
   "outputs": [],
   "source": [
    "#display(Markdown('**some markdown** '))\n",
    "print(\"Barcode Output:\")\n",
    "print(BARCODEISCORRECT)\n",
    "print(\"************************************************************************\")\n",
    "print(\"DATE OUTPUT:\")\n",
    "print(DATEWORKING, \" because \", WHYDATEISWORKING)\n",
    "print(\"************************************************************************\")\n",
    "print(\"TITLE OUTPUT:\")\n",
    "print(TITLEIMAGECOMPARE)\n",
    "print(\"Difference in BLUE       Difference in GREEN     Difference in RED\")\n",
    "print(PERCENT_BLUE_DIFFERENCE_TITLE, \"\\t\\t\\t\", PERCENT_GREEN_DIFFERENCE_TITLE, \"\\t\\t\\t\", PERCENT_RED_DIFFERENCE_TITLE)\n",
    "print(\"************************************************************************\")\n",
    "print(\"TEXT OUTPUT:\")\n",
    "print(SIMILARTYBETWEENTEXTINDOCUMENT)\n",
    "print(\"************************************************************************\")\n",
    "print(\"WATER MARK OUTPUT:\")\n",
    "print(WATERMARKOUTPUTFINAL)\n",
    "print(\"************************************************************************\")\n",
    "print(\"SSIM SCORE OUTPUT\")\n",
    "print(SSIMFINALSCORE)\n",
    "print(\"************************************************************************\")\n",
    "print(\"Percent Difference OUTPUT\")\n",
    "print(PERCENTDIFFERNCE)\n",
    "print(\"************************************************************************\")"
   ]
  },
  {
   "cell_type": "code",
   "execution_count": null,
   "metadata": {},
   "outputs": [],
   "source": [
    "countREAL = 0\n",
    "countFAKE = 0\n",
    "if BARCODEISCORRECT:\n",
    "    countREAL += 1\n",
    "else:\n",
    "    countFAKE += 1\n",
    "#------------------------\n",
    "if DATEWORKING:\n",
    "    countREAL += 1\n",
    "else:\n",
    "    countFAKE += 1\n",
    "#------------------------\n",
    "if TITLEIMAGECOMPARE:\n",
    "    countREAL += 1\n",
    "else:\n",
    "    countFAKE += 1\n",
    "#------------------------\n",
    "if SIMILARTYBETWEENTEXTINDOCUMENT:\n",
    "    countREAL += 1\n",
    "else:\n",
    "    countFAKE += 1\n",
    "#------------------------\n",
    "if WATERMARKOUTPUTFINAL:\n",
    "    countREAL += 1\n",
    "else:\n",
    "    countFAKE += 1\n",
    "#------------------------\n",
    "if SSIMFINALSCORE:\n",
    "    countREAL += 1\n",
    "else:\n",
    "    countFAKE += 1\n",
    "#------------------------\n",
    "if PERCENTDIFFERNCE:\n",
    "    countREAL += 1\n",
    "else:\n",
    "    countFAKE += 1\n",
    "print(countREAL, \" \", countFAKE)"
   ]
  },
  {
   "cell_type": "code",
   "execution_count": null,
   "metadata": {},
   "outputs": [],
   "source": [
    "documentanswer = False\n",
    "if countREAL >= 4:\n",
    "    documentanswer = True"
   ]
  },
  {
   "cell_type": "code",
   "execution_count": null,
   "metadata": {},
   "outputs": [],
   "source": [
    "if documentanswer:\n",
    "    display(Markdown('**Document is REAL**'))\n",
    "else:\n",
    "    display(Markdown('**Document is FAKE**'))"
   ]
  }
 ],
 "metadata": {
  "kernelspec": {
   "display_name": "Python 3",
   "language": "python",
   "name": "python3"
  },
  "language_info": {
   "codemirror_mode": {
    "name": "ipython",
    "version": 3
   },
   "file_extension": ".py",
   "mimetype": "text/x-python",
   "name": "python",
   "nbconvert_exporter": "python",
   "pygments_lexer": "ipython3",
   "version": "3.7.4"
  },
  "toc": {
   "base_numbering": 1,
   "nav_menu": {},
   "number_sections": true,
   "sideBar": true,
   "skip_h1_title": false,
   "title_cell": "Table of Contents",
   "title_sidebar": "Contents",
   "toc_cell": false,
   "toc_position": {
    "height": "calc(100% - 180px)",
    "left": "10px",
    "top": "150px",
    "width": "241px"
   },
   "toc_section_display": true,
   "toc_window_display": true
  }
 },
 "nbformat": 4,
 "nbformat_minor": 2
}
