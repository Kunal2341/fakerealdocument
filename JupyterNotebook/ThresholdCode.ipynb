{
 "cells": [
  {
   "cell_type": "code",
   "execution_count": 1,
   "metadata": {},
   "outputs": [],
   "source": [
    "import pandas as pd\n",
    "import numpy as np\n",
    "import statistics "
   ]
  },
  {
   "cell_type": "code",
   "execution_count": 13,
   "metadata": {},
   "outputs": [],
   "source": [
    "dir1 = \"/Users/kunal/Documents/VdartWorking/NEWDOCUMENTS/FINALOUTPUT2THRESHOLDCODE.xlsx\"\n",
    "dir2 = \"/Users/kunal/Documents/VdartWorking/NEWDOCUMENTS/FINALOUTPUTColabRUN4-06THRESHOLDCODE.xlsx\""
   ]
  },
  {
   "cell_type": "code",
   "execution_count": 14,
   "metadata": {},
   "outputs": [],
   "source": [
    "dffake = pd.read_excel(dir1)\n",
    "dfreal = pd.read_excel(dir2)"
   ]
  },
  {
   "cell_type": "code",
   "execution_count": 15,
   "metadata": {},
   "outputs": [],
   "source": [
    "pd.set_option('display.max_rows', 500)\n",
    "pd.set_option('display.max_columns', 500)"
   ]
  },
  {
   "cell_type": "code",
   "execution_count": 21,
   "metadata": {},
   "outputs": [],
   "source": [
    "def ave(start,end):\n",
    "    faketitleblue50 = dffake.as_matrix(columns=dffake.columns[start:end])\n",
    "    realtitleblue50 = dfreal.as_matrix(columns=dfreal.columns[start:end])\n",
    "    arrayfake = []\n",
    "    for i in faketitleblue50:\n",
    "        for j in i:\n",
    "            arrayfake.append(j)\n",
    "    arrayreal = []\n",
    "    for i in realtitleblue50:\n",
    "        for j in i:\n",
    "            arrayreal.append(j)\n",
    "    #print(arrayreal)\n",
    "    #print(arrayfake)\n",
    "    realave = np.mean(arrayreal)\n",
    "    fakeave = np.mean(arrayfake)\n",
    "    middleAve = (realave+fakeave)/2\n",
    "    realmedian = statistics.median(arrayreal)\n",
    "    fakemedian = statistics.median(arrayfake)\n",
    "    medianave = (realmedian+fakemedian)/2\n",
    "    finalave = round((middleAve + medianave)/2,3)\n",
    "    #print(finalave)\n",
    "    x = (realave-fakeave)/2\n",
    "    return finalave, x"
   ]
  },
  {
   "cell_type": "code",
   "execution_count": 22,
   "metadata": {},
   "outputs": [
    {
     "name": "stderr",
     "output_type": "stream",
     "text": [
      "C:\\Users\\kunal\\Anaconda3\\lib\\site-packages\\ipykernel_launcher.py:2: FutureWarning: Method .as_matrix will be removed in a future version. Use .values instead.\n",
      "  \n",
      "C:\\Users\\kunal\\Anaconda3\\lib\\site-packages\\ipykernel_launcher.py:3: FutureWarning: Method .as_matrix will be removed in a future version. Use .values instead.\n",
      "  This is separate from the ipykernel package so we can avoid doing imports until\n",
      "C:\\Users\\kunal\\Anaconda3\\lib\\site-packages\\numpy\\core\\fromnumeric.py:3118: RuntimeWarning: Mean of empty slice.\n",
      "  out=out, **kwargs)\n"
     ]
    },
    {
     "name": "stdout",
     "output_type": "stream",
     "text": [
      "Unnamed: 0 \t\t\t\t 10.392 \t 0.4901656314699796\n",
      "Testing PNG\n",
      "cannot perform reduce with flexible type\n",
      "Testing PDF\n",
      "cannot perform reduce with flexible type\n",
      "Real PNG\n",
      "cannot perform reduce with flexible type\n",
      "Barcode Decoded(1) TXT\n",
      "cannot perform reduce with flexible type\n",
      "Barcode Decoded(2) TXT\n",
      "cannot perform reduce with flexible type\n",
      "Barcode Decoded Barcode\n",
      "cannot perform reduce with flexible type\n",
      "Date Working(T/F) \t\t\t\t 0.863 \t -0.023809523809523836\n",
      "Reason for Date\n",
      "cannot perform reduce with flexible type\n",
      "Title Blue 50 \t\t\t\t 23.157 \t 0.37592520703934085\n",
      "Title Green 50 \t\t\t\t 23.062 \t 0.3219267598343709\n",
      "Title Red 50 \t\t\t\t 24.723 \t 0.33289337474120195\n",
      "Title Blue 80 \t\t\t\t 15.777 \t 0.05835274327122075\n",
      "Title Green 80 \t\t\t\t 15.541 \t -0.008263781055898534\n",
      "Title Red 80 \t\t\t\t 16.351 \t -0.042014428053832376\n",
      "Title Blue 30 \t\t\t\t 28.608 \t 0.14870115165631503\n",
      "Title Green 30 \t\t\t\t 28.545 \t 0.34603552018633366\n",
      "Title Red 30 \t\t\t\t 30.707 \t 0.0986979166666675\n",
      "Final Title (T/F) \t\t\t\t 0.061 \t -0.05124223602484472\n",
      "Similarty SequenceMatcher TXT \t\t\t\t 0.68 \t 0.01796258232266218\n",
      "Similarty Correct TXT \t\t\t\t 0.749 \t 0.021542443064182237\n",
      "Similarty Incorrect TXT \t\t\t\t 0.251 \t -0.021542443064182182\n",
      "WaterMark Correct 1 \t\t\t\t 9.613 \t -0.5080399088204892\n",
      "WaterMark False 1 \t\t\t\t 0.067 \t -0.002332085329187203\n",
      "WaterMark Ave Correct 2 \t\t\t\t 10.5 \t -1.7763568394002505e-15\n",
      "WaterMark Ave False 2 \t\t\t\t 0.0 \t 0.0\n",
      "WaterMark Correct 3 \t\t\t\t 0.0 \t 0.0\n",
      "WaterMark False 3 \t\t\t\t 100.0 \t 0.0\n",
      "WaterMark Error 3 \t\t\t\t 0.0 \t 0.0\n",
      "WaterMark Final (T/F) \t\t\t\t 0.0 \t 0.0\n",
      "SSIM Score \t\t\t\t 0.143 \t 0.00650272038852924\n",
      "Percent Difference \t\t\t\t 101.81 \t 0.19240001872279322\n",
      "Testing KeyPoints \t\t\t\t 5267.63 \t -106.28364389233957\n",
      "Known KeyPoints \t\t\t\t 8339.944 \t 30.0403726708073\n",
      "Total Matches \t\t\t\t 3316.606 \t 58.14596273291909\n",
      "Matches Ratio 0.6 \t\t\t\t 18.428 \t -0.6770186335403743\n",
      "Matches Ratio 0.65 \t\t\t\t 28.572 \t -1.3343685300207042\n",
      "Matches Ratio 0.7 \t\t\t\t 51.535 \t -1.212732919254659\n",
      "Matches Distance 80 \t\t\t\t 35.198 \t 2.7111801242236027\n",
      "Matches Distance 85 \t\t\t\t 41.308 \t 2.5734989648033135\n",
      "Matches Distance 90 \t\t\t\t 49.051 \t 1.2546583850931654\n",
      "Label 1 Detected \t\t\t\t nan \t nan\n",
      "Label 1 Confidence \t\t\t\t nan \t nan\n",
      "Label 2 Detected \t\t\t\t nan \t nan\n",
      "Label 2 Confidence \t\t\t\t nan \t nan\n",
      "Label 3 Detected \t\t\t\t nan \t nan\n",
      "FINAL GRADE \t\t\t\t 53.125 \t -1.5625\n"
     ]
    },
    {
     "name": "stderr",
     "output_type": "stream",
     "text": [
      "C:\\Users\\kunal\\Anaconda3\\lib\\site-packages\\numpy\\core\\_methods.py:85: RuntimeWarning: invalid value encountered in double_scalars\n",
      "  ret = ret.dtype.type(ret / rcount)\n"
     ]
    },
    {
     "ename": "IndexError",
     "evalue": "index 47 is out of bounds for axis 0 with size 47",
     "output_type": "error",
     "traceback": [
      "\u001b[1;31m---------------------------------------------------------------------------\u001b[0m",
      "\u001b[1;31mStatisticsError\u001b[0m                           Traceback (most recent call last)",
      "\u001b[1;32m<ipython-input-22-9c77741afa4d>\u001b[0m in \u001b[0;36m<module>\u001b[1;34m\u001b[0m\n\u001b[0;32m      3\u001b[0m     \u001b[1;32mtry\u001b[0m\u001b[1;33m:\u001b[0m\u001b[1;33m\u001b[0m\u001b[1;33m\u001b[0m\u001b[0m\n\u001b[1;32m----> 4\u001b[1;33m         \u001b[0mx\u001b[0m\u001b[1;33m,\u001b[0m \u001b[0my\u001b[0m \u001b[1;33m=\u001b[0m \u001b[0mave\u001b[0m\u001b[1;33m(\u001b[0m\u001b[0mhh\u001b[0m\u001b[1;33m,\u001b[0m\u001b[0mhh\u001b[0m\u001b[1;33m+\u001b[0m\u001b[1;36m1\u001b[0m\u001b[1;33m)\u001b[0m\u001b[1;33m\u001b[0m\u001b[1;33m\u001b[0m\u001b[0m\n\u001b[0m\u001b[0;32m      5\u001b[0m         \u001b[0mprint\u001b[0m\u001b[1;33m(\u001b[0m\u001b[0mcolumnsNamesArr\u001b[0m\u001b[1;33m[\u001b[0m\u001b[0mhh\u001b[0m\u001b[1;33m]\u001b[0m\u001b[1;33m,\u001b[0m\u001b[1;34m\"\\t\\t\\t\\t\"\u001b[0m\u001b[1;33m,\u001b[0m\u001b[0mx\u001b[0m\u001b[1;33m,\u001b[0m\u001b[1;34m\"\\t\"\u001b[0m\u001b[1;33m,\u001b[0m \u001b[0my\u001b[0m\u001b[1;33m)\u001b[0m\u001b[1;33m\u001b[0m\u001b[1;33m\u001b[0m\u001b[0m\n",
      "\u001b[1;32m<ipython-input-21-15b12a870ec4>\u001b[0m in \u001b[0;36mave\u001b[1;34m(start, end)\u001b[0m\n\u001b[0;32m     16\u001b[0m     \u001b[0mmiddleAve\u001b[0m \u001b[1;33m=\u001b[0m \u001b[1;33m(\u001b[0m\u001b[0mrealave\u001b[0m\u001b[1;33m+\u001b[0m\u001b[0mfakeave\u001b[0m\u001b[1;33m)\u001b[0m\u001b[1;33m/\u001b[0m\u001b[1;36m2\u001b[0m\u001b[1;33m\u001b[0m\u001b[1;33m\u001b[0m\u001b[0m\n\u001b[1;32m---> 17\u001b[1;33m     \u001b[0mrealmedian\u001b[0m \u001b[1;33m=\u001b[0m \u001b[0mstatistics\u001b[0m\u001b[1;33m.\u001b[0m\u001b[0mmedian\u001b[0m\u001b[1;33m(\u001b[0m\u001b[0marrayreal\u001b[0m\u001b[1;33m)\u001b[0m\u001b[1;33m\u001b[0m\u001b[1;33m\u001b[0m\u001b[0m\n\u001b[0m\u001b[0;32m     18\u001b[0m     \u001b[0mfakemedian\u001b[0m \u001b[1;33m=\u001b[0m \u001b[0mstatistics\u001b[0m\u001b[1;33m.\u001b[0m\u001b[0mmedian\u001b[0m\u001b[1;33m(\u001b[0m\u001b[0marrayfake\u001b[0m\u001b[1;33m)\u001b[0m\u001b[1;33m\u001b[0m\u001b[1;33m\u001b[0m\u001b[0m\n",
      "\u001b[1;32m~\\Anaconda3\\lib\\statistics.py\u001b[0m in \u001b[0;36mmedian\u001b[1;34m(data)\u001b[0m\n\u001b[0;32m    378\u001b[0m     \u001b[1;32mif\u001b[0m \u001b[0mn\u001b[0m \u001b[1;33m==\u001b[0m \u001b[1;36m0\u001b[0m\u001b[1;33m:\u001b[0m\u001b[1;33m\u001b[0m\u001b[1;33m\u001b[0m\u001b[0m\n\u001b[1;32m--> 379\u001b[1;33m         \u001b[1;32mraise\u001b[0m \u001b[0mStatisticsError\u001b[0m\u001b[1;33m(\u001b[0m\u001b[1;34m\"no median for empty data\"\u001b[0m\u001b[1;33m)\u001b[0m\u001b[1;33m\u001b[0m\u001b[1;33m\u001b[0m\u001b[0m\n\u001b[0m\u001b[0;32m    380\u001b[0m     \u001b[1;32mif\u001b[0m \u001b[0mn\u001b[0m\u001b[1;33m%\u001b[0m\u001b[1;36m2\u001b[0m \u001b[1;33m==\u001b[0m \u001b[1;36m1\u001b[0m\u001b[1;33m:\u001b[0m\u001b[1;33m\u001b[0m\u001b[1;33m\u001b[0m\u001b[0m\n",
      "\u001b[1;31mStatisticsError\u001b[0m: no median for empty data",
      "\nDuring handling of the above exception, another exception occurred:\n",
      "\u001b[1;31mIndexError\u001b[0m                                Traceback (most recent call last)",
      "\u001b[1;32m<ipython-input-22-9c77741afa4d>\u001b[0m in \u001b[0;36m<module>\u001b[1;34m\u001b[0m\n\u001b[0;32m      5\u001b[0m         \u001b[0mprint\u001b[0m\u001b[1;33m(\u001b[0m\u001b[0mcolumnsNamesArr\u001b[0m\u001b[1;33m[\u001b[0m\u001b[0mhh\u001b[0m\u001b[1;33m]\u001b[0m\u001b[1;33m,\u001b[0m\u001b[1;34m\"\\t\\t\\t\\t\"\u001b[0m\u001b[1;33m,\u001b[0m\u001b[0mx\u001b[0m\u001b[1;33m,\u001b[0m\u001b[1;34m\"\\t\"\u001b[0m\u001b[1;33m,\u001b[0m \u001b[0my\u001b[0m\u001b[1;33m)\u001b[0m\u001b[1;33m\u001b[0m\u001b[1;33m\u001b[0m\u001b[0m\n\u001b[0;32m      6\u001b[0m     \u001b[1;32mexcept\u001b[0m \u001b[0mException\u001b[0m \u001b[1;32mas\u001b[0m \u001b[0me\u001b[0m\u001b[1;33m:\u001b[0m\u001b[1;33m\u001b[0m\u001b[1;33m\u001b[0m\u001b[0m\n\u001b[1;32m----> 7\u001b[1;33m         \u001b[0mprint\u001b[0m\u001b[1;33m(\u001b[0m\u001b[0mcolumnsNamesArr\u001b[0m\u001b[1;33m[\u001b[0m\u001b[0mhh\u001b[0m\u001b[1;33m]\u001b[0m\u001b[1;33m)\u001b[0m\u001b[1;33m\u001b[0m\u001b[1;33m\u001b[0m\u001b[0m\n\u001b[0m\u001b[0;32m      8\u001b[0m         \u001b[0mprint\u001b[0m\u001b[1;33m(\u001b[0m\u001b[0me\u001b[0m\u001b[1;33m)\u001b[0m\u001b[1;33m\u001b[0m\u001b[1;33m\u001b[0m\u001b[0m\n",
      "\u001b[1;31mIndexError\u001b[0m: index 47 is out of bounds for axis 0 with size 47"
     ]
    }
   ],
   "source": [
    "columnsNamesArr = dfreal.columns.values\n",
    "for hh in range(49):\n",
    "    try:\n",
    "        x, y = ave(hh,hh+1)\n",
    "        print(columnsNamesArr[hh],\"\\t\\t\\t\\t\",x,\"\\t\", y)\n",
    "    except Exception as e:\n",
    "        print(columnsNamesArr[hh])\n",
    "        print(e)"
   ]
  },
  {
   "cell_type": "code",
   "execution_count": 18,
   "metadata": {},
   "outputs": [
    {
     "name": "stderr",
     "output_type": "stream",
     "text": [
      "C:\\Users\\kunal\\Anaconda3\\lib\\site-packages\\ipykernel_launcher.py:2: FutureWarning: Method .as_matrix will be removed in a future version. Use .values instead.\n",
      "  \n",
      "C:\\Users\\kunal\\Anaconda3\\lib\\site-packages\\ipykernel_launcher.py:3: FutureWarning: Method .as_matrix will be removed in a future version. Use .values instead.\n",
      "  This is separate from the ipykernel package so we can avoid doing imports until\n"
     ]
    },
    {
     "data": {
      "text/plain": [
       "46.313"
      ]
     },
     "execution_count": 18,
     "metadata": {},
     "output_type": "execute_result"
    }
   ],
   "source": [
    "ave(9,10)"
   ]
  },
  {
   "cell_type": "code",
   "execution_count": 12,
   "metadata": {},
   "outputs": [
    {
     "data": {
      "text/plain": [
       "[20.584375,\n",
       " 15.68125,\n",
       " 27.90625,\n",
       " 19.921875,\n",
       " 36.125,\n",
       " 37.35625,\n",
       " 33.953125,\n",
       " 20.828125,\n",
       " 15.8125,\n",
       " 22.9,\n",
       " 26.453125,\n",
       " 19.971875,\n",
       " 4.05,\n",
       " 22.065625,\n",
       " 17.396875,\n",
       " nan,\n",
       " nan,\n",
       " nan,\n",
       " 'Title Blue 50',\n",
       " 23.128125,\n",
       " 15.675,\n",
       " 9.7375,\n",
       " 22.890625,\n",
       " 26.225,\n",
       " 22.721875,\n",
       " 25.6125,\n",
       " 19.446875,\n",
       " 26.453125,\n",
       " 16.234375,\n",
       " 37.35625,\n",
       " 32.91875,\n",
       " 11.890625,\n",
       " 15.6,\n",
       " 26.85625,\n",
       " 16.79375,\n",
       " 17.0125,\n",
       " 26.85625,\n",
       " 30.540625,\n",
       " 29.003125,\n",
       " 18.153125,\n",
       " 38.834375,\n",
       " 28.9375,\n",
       " 30.253125,\n",
       " 21.303125,\n",
       " 23.840625,\n",
       " 26.575,\n",
       " nan,\n",
       " nan,\n",
       " nan,\n",
       " nan,\n",
       " nan,\n",
       " nan,\n",
       " nan,\n",
       " nan,\n",
       " nan,\n",
       " nan,\n",
       " nan,\n",
       " nan,\n",
       " nan,\n",
       " nan,\n",
       " nan,\n",
       " nan,\n",
       " nan,\n",
       " nan,\n",
       " nan,\n",
       " nan,\n",
       " nan,\n",
       " nan,\n",
       " nan,\n",
       " nan,\n",
       " nan,\n",
       " nan,\n",
       " nan,\n",
       " nan,\n",
       " nan,\n",
       " nan,\n",
       " nan,\n",
       " nan,\n",
       " nan]"
      ]
     },
     "execution_count": 12,
     "metadata": {},
     "output_type": "execute_result"
    }
   ],
   "source": [
    "arrayreal"
   ]
  },
  {
   "cell_type": "code",
   "execution_count": 11,
   "metadata": {},
   "outputs": [
    {
     "name": "stderr",
     "output_type": "stream",
     "text": [
      "C:\\Users\\kunal\\Anaconda3\\lib\\site-packages\\ipykernel_launcher.py:1: FutureWarning: Method .as_matrix will be removed in a future version. Use .values instead.\n",
      "  \"\"\"Entry point for launching an IPython kernel.\n",
      "C:\\Users\\kunal\\Anaconda3\\lib\\site-packages\\ipykernel_launcher.py:2: FutureWarning: Method .as_matrix will be removed in a future version. Use .values instead.\n",
      "  \n"
     ]
    },
    {
     "ename": "TypeError",
     "evalue": "cannot perform reduce with flexible type",
     "output_type": "error",
     "traceback": [
      "\u001b[1;31m---------------------------------------------------------------------------\u001b[0m",
      "\u001b[1;31mTypeError\u001b[0m                                 Traceback (most recent call last)",
      "\u001b[1;32m<ipython-input-11-893e84dc282f>\u001b[0m in \u001b[0;36m<module>\u001b[1;34m\u001b[0m\n\u001b[0;32m     11\u001b[0m \u001b[1;31m#print(arrayreal)\u001b[0m\u001b[1;33m\u001b[0m\u001b[1;33m\u001b[0m\u001b[1;33m\u001b[0m\u001b[0m\n\u001b[0;32m     12\u001b[0m \u001b[1;31m#print(arrayfake)\u001b[0m\u001b[1;33m\u001b[0m\u001b[1;33m\u001b[0m\u001b[1;33m\u001b[0m\u001b[0m\n\u001b[1;32m---> 13\u001b[1;33m \u001b[0mrealave\u001b[0m \u001b[1;33m=\u001b[0m \u001b[0mnp\u001b[0m\u001b[1;33m.\u001b[0m\u001b[0mmean\u001b[0m\u001b[1;33m(\u001b[0m\u001b[0marrayreal\u001b[0m\u001b[1;33m)\u001b[0m\u001b[1;33m\u001b[0m\u001b[1;33m\u001b[0m\u001b[0m\n\u001b[0m\u001b[0;32m     14\u001b[0m \u001b[0mfakeave\u001b[0m \u001b[1;33m=\u001b[0m \u001b[0mnp\u001b[0m\u001b[1;33m.\u001b[0m\u001b[0mmean\u001b[0m\u001b[1;33m(\u001b[0m\u001b[0marrayfake\u001b[0m\u001b[1;33m)\u001b[0m\u001b[1;33m\u001b[0m\u001b[1;33m\u001b[0m\u001b[0m\n\u001b[0;32m     15\u001b[0m \u001b[0mmiddleAve\u001b[0m \u001b[1;33m=\u001b[0m \u001b[1;33m(\u001b[0m\u001b[0mrealave\u001b[0m\u001b[1;33m+\u001b[0m\u001b[0mfakeave\u001b[0m\u001b[1;33m)\u001b[0m\u001b[1;33m/\u001b[0m\u001b[1;36m2\u001b[0m\u001b[1;33m\u001b[0m\u001b[1;33m\u001b[0m\u001b[0m\n",
      "\u001b[1;32m~\\Anaconda3\\lib\\site-packages\\numpy\\core\\fromnumeric.py\u001b[0m in \u001b[0;36mmean\u001b[1;34m(a, axis, dtype, out, keepdims)\u001b[0m\n\u001b[0;32m   3116\u001b[0m \u001b[1;33m\u001b[0m\u001b[0m\n\u001b[0;32m   3117\u001b[0m     return _methods._mean(a, axis=axis, dtype=dtype,\n\u001b[1;32m-> 3118\u001b[1;33m                           out=out, **kwargs)\n\u001b[0m\u001b[0;32m   3119\u001b[0m \u001b[1;33m\u001b[0m\u001b[0m\n\u001b[0;32m   3120\u001b[0m \u001b[1;33m\u001b[0m\u001b[0m\n",
      "\u001b[1;32m~\\Anaconda3\\lib\\site-packages\\numpy\\core\\_methods.py\u001b[0m in \u001b[0;36m_mean\u001b[1;34m(a, axis, dtype, out, keepdims)\u001b[0m\n\u001b[0;32m     73\u001b[0m             \u001b[0mis_float16_result\u001b[0m \u001b[1;33m=\u001b[0m \u001b[1;32mTrue\u001b[0m\u001b[1;33m\u001b[0m\u001b[1;33m\u001b[0m\u001b[0m\n\u001b[0;32m     74\u001b[0m \u001b[1;33m\u001b[0m\u001b[0m\n\u001b[1;32m---> 75\u001b[1;33m     \u001b[0mret\u001b[0m \u001b[1;33m=\u001b[0m \u001b[0mumr_sum\u001b[0m\u001b[1;33m(\u001b[0m\u001b[0marr\u001b[0m\u001b[1;33m,\u001b[0m \u001b[0maxis\u001b[0m\u001b[1;33m,\u001b[0m \u001b[0mdtype\u001b[0m\u001b[1;33m,\u001b[0m \u001b[0mout\u001b[0m\u001b[1;33m,\u001b[0m \u001b[0mkeepdims\u001b[0m\u001b[1;33m)\u001b[0m\u001b[1;33m\u001b[0m\u001b[1;33m\u001b[0m\u001b[0m\n\u001b[0m\u001b[0;32m     76\u001b[0m     \u001b[1;32mif\u001b[0m \u001b[0misinstance\u001b[0m\u001b[1;33m(\u001b[0m\u001b[0mret\u001b[0m\u001b[1;33m,\u001b[0m \u001b[0mmu\u001b[0m\u001b[1;33m.\u001b[0m\u001b[0mndarray\u001b[0m\u001b[1;33m)\u001b[0m\u001b[1;33m:\u001b[0m\u001b[1;33m\u001b[0m\u001b[1;33m\u001b[0m\u001b[0m\n\u001b[0;32m     77\u001b[0m         ret = um.true_divide(\n",
      "\u001b[1;31mTypeError\u001b[0m: cannot perform reduce with flexible type"
     ]
    }
   ],
   "source": [
    "faketitleblue50 = dffake.as_matrix(columns=dffake.columns[9:10])\n",
    "realtitleblue50 = dfreal.as_matrix(columns=dfreal.columns[9:10])\n",
    "arrayfake = []\n",
    "for i in faketitleblue50:\n",
    "    for j in i:\n",
    "        arrayfake.append(j)\n",
    "arrayreal = []\n",
    "for i in realtitleblue50:\n",
    "    for j in i:\n",
    "        arrayreal.append(j)\n",
    "#print(arrayreal)\n",
    "#print(arrayfake)\n",
    "realave = np.mean(arrayreal)\n",
    "fakeave = np.mean(arrayfake)\n",
    "middleAve = (realave+fakeave)/2\n",
    "realmedian = statistics.median(arrayreal)\n",
    "fakemedian = statistics.median(arrayfake)\n",
    "medianave = (realmedian+fakemedian)/2\n",
    "finalave = round((middleAve + medianave),3)"
   ]
  },
  {
   "cell_type": "code",
   "execution_count": null,
   "metadata": {},
   "outputs": [],
   "source": []
  },
  {
   "cell_type": "code",
   "execution_count": null,
   "metadata": {},
   "outputs": [],
   "source": []
  }
 ],
 "metadata": {
  "kernelspec": {
   "display_name": "Python 3",
   "language": "python",
   "name": "python3"
  },
  "language_info": {
   "codemirror_mode": {
    "name": "ipython",
    "version": 3
   },
   "file_extension": ".py",
   "mimetype": "text/x-python",
   "name": "python",
   "nbconvert_exporter": "python",
   "pygments_lexer": "ipython3",
   "version": "3.7.4"
  },
  "toc": {
   "base_numbering": 1,
   "nav_menu": {},
   "number_sections": true,
   "sideBar": true,
   "skip_h1_title": false,
   "title_cell": "Table of Contents",
   "title_sidebar": "Contents",
   "toc_cell": false,
   "toc_position": {},
   "toc_section_display": true,
   "toc_window_display": false
  }
 },
 "nbformat": 4,
 "nbformat_minor": 2
}
